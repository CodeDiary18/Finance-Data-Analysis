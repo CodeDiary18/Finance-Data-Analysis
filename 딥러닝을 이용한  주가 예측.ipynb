{
  "nbformat": 4,
  "nbformat_minor": 0,
  "metadata": {
    "colab": {
      "name": "딥 러닝을 이용한 주가 예측.ipynb",
      "provenance": [],
      "collapsed_sections": [],
      "toc_visible": true,
      "authorship_tag": "ABX9TyN+6KH/fa9IumLybn4JVjem"
    },
    "kernelspec": {
      "name": "python3",
      "display_name": "Python 3"
    },
    "language_info": {
      "name": "python"
    },
    "accelerator": "GPU"
  },
  "cells": [
    {
      "cell_type": "markdown",
      "metadata": {
        "id": "Xgu8dx2piqSU"
      },
      "source": [
        "# RNN"
      ]
    },
    {
      "cell_type": "markdown",
      "metadata": {
        "id": "rolvJs7ViZxw"
      },
      "source": [
        "딥 러닝 기술의 일종인 순환 신경망(Recurrent Neural Network, RNN)을 이용한 주가 예측"
      ]
    },
    {
      "cell_type": "markdown",
      "metadata": {
        "id": "WsJB_Vkwk14V"
      },
      "source": [
        "RNN은 그래서 시간 개념이 들어가있는, 순차적인 데이터(=시계열 데이터)를 다루는 데에 적합\n",
        "  \n",
        "* **텍스트 데이터**      \n",
        "    우리가 쓰는 문장을 RNN에게 사람처럼 단어를 순차적으로 읽게해서 이전의 맥락을 파악하도록 해서 텍스트 분석에 사용\n",
        "    예를 들어 스팸 메일 분류기에 RNN 적용 가능\n",
        "      \n",
        "* **주가 데이터**  \n",
        "    RNN은 이전의 주가의 흐름으로부터 다음 주가가 어떻게 될 것인지를 예측"
      ]
    },
    {
      "cell_type": "markdown",
      "metadata": {
        "id": "sBZM8QJfAvhA"
      },
      "source": [
        "## LSTM(Long Short-Term Memory)"
      ]
    },
    {
      "cell_type": "markdown",
      "metadata": {
        "id": "7VMcxcRWA86u"
      },
      "source": [
        "- LSTM은 RNN의 성능을 올리기 위해서 좀 더 보완된 버전  \n",
        "- 보편적으로 RNN보다는 LSTM을 사용 \n",
        "- LSTM도 내부적으로는 좀 더 복잡한 수식을 갖고 있기는 하지만, 사용 방법은 RNN과 다르지 않음"
      ]
    },
    {
      "cell_type": "markdown",
      "metadata": {
        "id": "f1svFBfQBpXd"
      },
      "source": [
        "# 주가 예측"
      ]
    },
    {
      "cell_type": "markdown",
      "metadata": {
        "id": "hJjUiVLICcOB"
      },
      "source": [
        "- 주식 데이터는 삼성전자 액면분할 상장일이던 2018년 5월 4일부터 2020년 1월 22일까지의 OHLVC(종가-고가-저가-거래량-종가) 데이터를 사용  \n",
        "- 2년이 채 안되는 기간 동안 수집된 421건의 데이터 중에서 70%를 훈련 데이터로 사용하고, 30% 데이터를 테스트 데이터로 이용  \n",
        "    훈련 데이터 : 모델이 학습하는데 사용한 데이터  \n",
        "    테스트 데이터 : 모델이 잘 학습했는지 실제로 성능을 채점하기 위한 데이터 \n",
        "- 학습을 통해서 모델이 완성되면, 예측된 종가와 실제 종가를 그래프로 그려서 비교\n",
        "- 그런 다음, 삼성전자 2020년 1월 23일의 종가를 예측"
      ]
    },
    {
      "cell_type": "markdown",
      "metadata": {
        "id": "IjkdVhheC1e4"
      },
      "source": [
        "## 데이터 로드"
      ]
    },
    {
      "cell_type": "code",
      "metadata": {
        "id": "7Ku2zlUBCG3D",
        "colab": {
          "base_uri": "https://localhost:8080/"
        },
        "outputId": "542688f0-9bfd-4c3b-efb4-5cfb14059faa"
      },
      "source": [
        "!pip install -U finance-datareader"
      ],
      "execution_count": 1,
      "outputs": [
        {
          "output_type": "stream",
          "text": [
            "Collecting finance-datareader\n",
            "  Downloading finance_datareader-0.9.31-py3-none-any.whl (17 kB)\n",
            "Requirement already satisfied: tqdm in /usr/local/lib/python3.7/dist-packages (from finance-datareader) (4.41.1)\n",
            "Requirement already satisfied: requests>=2.3.0 in /usr/local/lib/python3.7/dist-packages (from finance-datareader) (2.23.0)\n",
            "Requirement already satisfied: pandas>=0.19.2 in /usr/local/lib/python3.7/dist-packages (from finance-datareader) (1.1.5)\n",
            "Requirement already satisfied: lxml in /usr/local/lib/python3.7/dist-packages (from finance-datareader) (4.2.6)\n",
            "Collecting requests-file\n",
            "  Downloading requests_file-1.5.1-py2.py3-none-any.whl (3.7 kB)\n",
            "Requirement already satisfied: python-dateutil>=2.7.3 in /usr/local/lib/python3.7/dist-packages (from pandas>=0.19.2->finance-datareader) (2.8.1)\n",
            "Requirement already satisfied: pytz>=2017.2 in /usr/local/lib/python3.7/dist-packages (from pandas>=0.19.2->finance-datareader) (2018.9)\n",
            "Requirement already satisfied: numpy>=1.15.4 in /usr/local/lib/python3.7/dist-packages (from pandas>=0.19.2->finance-datareader) (1.19.5)\n",
            "Requirement already satisfied: six>=1.5 in /usr/local/lib/python3.7/dist-packages (from python-dateutil>=2.7.3->pandas>=0.19.2->finance-datareader) (1.15.0)\n",
            "Requirement already satisfied: urllib3!=1.25.0,!=1.25.1,<1.26,>=1.21.1 in /usr/local/lib/python3.7/dist-packages (from requests>=2.3.0->finance-datareader) (1.24.3)\n",
            "Requirement already satisfied: chardet<4,>=3.0.2 in /usr/local/lib/python3.7/dist-packages (from requests>=2.3.0->finance-datareader) (3.0.4)\n",
            "Requirement already satisfied: certifi>=2017.4.17 in /usr/local/lib/python3.7/dist-packages (from requests>=2.3.0->finance-datareader) (2021.5.30)\n",
            "Requirement already satisfied: idna<3,>=2.5 in /usr/local/lib/python3.7/dist-packages (from requests>=2.3.0->finance-datareader) (2.10)\n",
            "Installing collected packages: requests-file, finance-datareader\n",
            "Successfully installed finance-datareader-0.9.31 requests-file-1.5.1\n"
          ],
          "name": "stdout"
        }
      ]
    },
    {
      "cell_type": "code",
      "metadata": {
        "id": "OQ6GNn1LCIbX"
      },
      "source": [
        "import FinanceDataReader as fdr\n",
        "import pandas as pd\n",
        "import numpy as np\n",
        "import matplotlib.pyplot as plt"
      ],
      "execution_count": 2,
      "outputs": []
    },
    {
      "cell_type": "code",
      "metadata": {
        "colab": {
          "base_uri": "https://localhost:8080/",
          "height": 445
        },
        "id": "JLuHYA1OCKDR",
        "outputId": "fea9f8cd-7fa2-4615-c326-70a55fa6e1fa"
      },
      "source": [
        "# 삼성전자 종목에 대한 데이터를 2018년 5월 4일부터 2020년 1월 22일까지 로드\n",
        "df = fdr.DataReader('005930', '2018-05-04', '2020-01-22')\n",
        "df"
      ],
      "execution_count": 3,
      "outputs": [
        {
          "output_type": "execute_result",
          "data": {
            "text/html": [
              "<div>\n",
              "<style scoped>\n",
              "    .dataframe tbody tr th:only-of-type {\n",
              "        vertical-align: middle;\n",
              "    }\n",
              "\n",
              "    .dataframe tbody tr th {\n",
              "        vertical-align: top;\n",
              "    }\n",
              "\n",
              "    .dataframe thead th {\n",
              "        text-align: right;\n",
              "    }\n",
              "</style>\n",
              "<table border=\"1\" class=\"dataframe\">\n",
              "  <thead>\n",
              "    <tr style=\"text-align: right;\">\n",
              "      <th></th>\n",
              "      <th>Open</th>\n",
              "      <th>High</th>\n",
              "      <th>Low</th>\n",
              "      <th>Close</th>\n",
              "      <th>Volume</th>\n",
              "      <th>Change</th>\n",
              "    </tr>\n",
              "    <tr>\n",
              "      <th>Date</th>\n",
              "      <th></th>\n",
              "      <th></th>\n",
              "      <th></th>\n",
              "      <th></th>\n",
              "      <th></th>\n",
              "      <th></th>\n",
              "    </tr>\n",
              "  </thead>\n",
              "  <tbody>\n",
              "    <tr>\n",
              "      <th>2018-05-04</th>\n",
              "      <td>53000</td>\n",
              "      <td>53900</td>\n",
              "      <td>51800</td>\n",
              "      <td>51900</td>\n",
              "      <td>39565391</td>\n",
              "      <td>-0.020755</td>\n",
              "    </tr>\n",
              "    <tr>\n",
              "      <th>2018-05-08</th>\n",
              "      <td>52600</td>\n",
              "      <td>53200</td>\n",
              "      <td>51900</td>\n",
              "      <td>52600</td>\n",
              "      <td>23104720</td>\n",
              "      <td>0.013487</td>\n",
              "    </tr>\n",
              "    <tr>\n",
              "      <th>2018-05-09</th>\n",
              "      <td>52600</td>\n",
              "      <td>52800</td>\n",
              "      <td>50900</td>\n",
              "      <td>50900</td>\n",
              "      <td>16128305</td>\n",
              "      <td>-0.032319</td>\n",
              "    </tr>\n",
              "    <tr>\n",
              "      <th>2018-05-10</th>\n",
              "      <td>51700</td>\n",
              "      <td>51700</td>\n",
              "      <td>50600</td>\n",
              "      <td>51600</td>\n",
              "      <td>13905263</td>\n",
              "      <td>0.013752</td>\n",
              "    </tr>\n",
              "    <tr>\n",
              "      <th>2018-05-11</th>\n",
              "      <td>52000</td>\n",
              "      <td>52200</td>\n",
              "      <td>51200</td>\n",
              "      <td>51300</td>\n",
              "      <td>10314997</td>\n",
              "      <td>-0.005814</td>\n",
              "    </tr>\n",
              "    <tr>\n",
              "      <th>...</th>\n",
              "      <td>...</td>\n",
              "      <td>...</td>\n",
              "      <td>...</td>\n",
              "      <td>...</td>\n",
              "      <td>...</td>\n",
              "      <td>...</td>\n",
              "    </tr>\n",
              "    <tr>\n",
              "      <th>2020-01-16</th>\n",
              "      <td>59100</td>\n",
              "      <td>60700</td>\n",
              "      <td>59000</td>\n",
              "      <td>60700</td>\n",
              "      <td>14381774</td>\n",
              "      <td>0.028814</td>\n",
              "    </tr>\n",
              "    <tr>\n",
              "      <th>2020-01-17</th>\n",
              "      <td>61900</td>\n",
              "      <td>62000</td>\n",
              "      <td>61000</td>\n",
              "      <td>61300</td>\n",
              "      <td>16025661</td>\n",
              "      <td>0.009885</td>\n",
              "    </tr>\n",
              "    <tr>\n",
              "      <th>2020-01-20</th>\n",
              "      <td>62000</td>\n",
              "      <td>62800</td>\n",
              "      <td>61700</td>\n",
              "      <td>62400</td>\n",
              "      <td>12528855</td>\n",
              "      <td>0.017945</td>\n",
              "    </tr>\n",
              "    <tr>\n",
              "      <th>2020-01-21</th>\n",
              "      <td>62000</td>\n",
              "      <td>62400</td>\n",
              "      <td>61200</td>\n",
              "      <td>61400</td>\n",
              "      <td>11142693</td>\n",
              "      <td>-0.016026</td>\n",
              "    </tr>\n",
              "    <tr>\n",
              "      <th>2020-01-22</th>\n",
              "      <td>60500</td>\n",
              "      <td>62600</td>\n",
              "      <td>60400</td>\n",
              "      <td>62300</td>\n",
              "      <td>15339565</td>\n",
              "      <td>0.014658</td>\n",
              "    </tr>\n",
              "  </tbody>\n",
              "</table>\n",
              "<p>421 rows × 6 columns</p>\n",
              "</div>"
            ],
            "text/plain": [
              "             Open   High    Low  Close    Volume    Change\n",
              "Date                                                      \n",
              "2018-05-04  53000  53900  51800  51900  39565391 -0.020755\n",
              "2018-05-08  52600  53200  51900  52600  23104720  0.013487\n",
              "2018-05-09  52600  52800  50900  50900  16128305 -0.032319\n",
              "2018-05-10  51700  51700  50600  51600  13905263  0.013752\n",
              "2018-05-11  52000  52200  51200  51300  10314997 -0.005814\n",
              "...           ...    ...    ...    ...       ...       ...\n",
              "2020-01-16  59100  60700  59000  60700  14381774  0.028814\n",
              "2020-01-17  61900  62000  61000  61300  16025661  0.009885\n",
              "2020-01-20  62000  62800  61700  62400  12528855  0.017945\n",
              "2020-01-21  62000  62400  61200  61400  11142693 -0.016026\n",
              "2020-01-22  60500  62600  60400  62300  15339565  0.014658\n",
              "\n",
              "[421 rows x 6 columns]"
            ]
          },
          "metadata": {
            "tags": []
          },
          "execution_count": 3
        }
      ]
    },
    {
      "cell_type": "code",
      "metadata": {
        "colab": {
          "base_uri": "https://localhost:8080/"
        },
        "id": "i-OLGLc7CjXO",
        "outputId": "1892c352-eb5b-437c-a3e9-efda59ad4bb6"
      },
      "source": [
        "df.shape"
      ],
      "execution_count": 4,
      "outputs": [
        {
          "output_type": "execute_result",
          "data": {
            "text/plain": [
              "(421, 6)"
            ]
          },
          "metadata": {
            "tags": []
          },
          "execution_count": 4
        }
      ]
    },
    {
      "cell_type": "markdown",
      "metadata": {
        "id": "vFJEzhyaC3At"
      },
      "source": [
        "## 데이터 전처리 (MinMaxScaler)"
      ]
    },
    {
      "cell_type": "markdown",
      "metadata": {
        "id": "GjujXaP-FUZv"
      },
      "source": [
        "숫자 단위가 클수록 계산에 소요되는 시간이 늘어남  \n",
        "시간 소요를 줄이기 위해서 삼성전자 데이터에 MinMaxScaler를 적용  \n",
        "0으로 나누기 에러가 발생하지 않도록 매우 작은 값(1e-7)을 더해서 나눔\n",
        "  \n",
        "**MinMaxScaler**\n",
        "- 데이터의 값의 범위를 줄여주는 기법으로 머신 러닝과 데이터 분석에서 자주 사용되는 방법\n",
        "- 이를 사용하면 값의 범위가 0~1 사이로 변환\n",
        "- 수식 : (X - X의 최소값) / (X의 최대값 - X의 최소값)\n"
      ]
    },
    {
      "cell_type": "code",
      "metadata": {
        "id": "OLRDtSC0C5Xm"
      },
      "source": [
        "def MinMaxScaler(data): #최솟값과 최댓값을 이용하여 0 ~ 1 값으로 변환\n",
        "    numerator = data - np.min(data, 0)\n",
        "    denominator = np.max(data, 0) - np.min(data, 0)\n",
        "    return numerator / (denominator + 1e-7) #0으로 나누기 에러가 발생하지 않도록 매우 작은 값(1e-7)을 더해서 나눔"
      ],
      "execution_count": 5,
      "outputs": []
    },
    {
      "cell_type": "code",
      "metadata": {
        "id": "JQO0PasmFrYj"
      },
      "source": [
        "dfx = df[['Open','High','Low','Volume', 'Close']]\n",
        "dfx = MinMaxScaler(dfx)\n",
        "dfy = dfx[['Close']]\n",
        "dfx = dfx[['Open','High','Low','Volume']]"
      ],
      "execution_count": 6,
      "outputs": []
    },
    {
      "cell_type": "code",
      "metadata": {
        "colab": {
          "base_uri": "https://localhost:8080/",
          "height": 445
        },
        "id": "tu80s2tfFw7r",
        "outputId": "9baeb504-f4a9-40ec-f52d-5212a2598bdb"
      },
      "source": [
        "dfx"
      ],
      "execution_count": 7,
      "outputs": [
        {
          "output_type": "execute_result",
          "data": {
            "text/html": [
              "<div>\n",
              "<style scoped>\n",
              "    .dataframe tbody tr th:only-of-type {\n",
              "        vertical-align: middle;\n",
              "    }\n",
              "\n",
              "    .dataframe tbody tr th {\n",
              "        vertical-align: top;\n",
              "    }\n",
              "\n",
              "    .dataframe thead th {\n",
              "        text-align: right;\n",
              "    }\n",
              "</style>\n",
              "<table border=\"1\" class=\"dataframe\">\n",
              "  <thead>\n",
              "    <tr style=\"text-align: right;\">\n",
              "      <th></th>\n",
              "      <th>Open</th>\n",
              "      <th>High</th>\n",
              "      <th>Low</th>\n",
              "      <th>Volume</th>\n",
              "    </tr>\n",
              "    <tr>\n",
              "      <th>Date</th>\n",
              "      <th></th>\n",
              "      <th></th>\n",
              "      <th></th>\n",
              "      <th></th>\n",
              "    </tr>\n",
              "  </thead>\n",
              "  <tbody>\n",
              "    <tr>\n",
              "      <th>2018-05-04</th>\n",
              "      <td>0.633401</td>\n",
              "      <td>0.646825</td>\n",
              "      <td>0.601610</td>\n",
              "      <td>0.595060</td>\n",
              "    </tr>\n",
              "    <tr>\n",
              "      <th>2018-05-08</th>\n",
              "      <td>0.617108</td>\n",
              "      <td>0.619048</td>\n",
              "      <td>0.605634</td>\n",
              "      <td>0.316465</td>\n",
              "    </tr>\n",
              "    <tr>\n",
              "      <th>2018-05-09</th>\n",
              "      <td>0.617108</td>\n",
              "      <td>0.603175</td>\n",
              "      <td>0.565392</td>\n",
              "      <td>0.198390</td>\n",
              "    </tr>\n",
              "    <tr>\n",
              "      <th>2018-05-10</th>\n",
              "      <td>0.580448</td>\n",
              "      <td>0.559524</td>\n",
              "      <td>0.553320</td>\n",
              "      <td>0.160765</td>\n",
              "    </tr>\n",
              "    <tr>\n",
              "      <th>2018-05-11</th>\n",
              "      <td>0.592668</td>\n",
              "      <td>0.579365</td>\n",
              "      <td>0.577465</td>\n",
              "      <td>0.100000</td>\n",
              "    </tr>\n",
              "    <tr>\n",
              "      <th>...</th>\n",
              "      <td>...</td>\n",
              "      <td>...</td>\n",
              "      <td>...</td>\n",
              "      <td>...</td>\n",
              "    </tr>\n",
              "    <tr>\n",
              "      <th>2020-01-16</th>\n",
              "      <td>0.881874</td>\n",
              "      <td>0.916667</td>\n",
              "      <td>0.891348</td>\n",
              "      <td>0.168830</td>\n",
              "    </tr>\n",
              "    <tr>\n",
              "      <th>2020-01-17</th>\n",
              "      <td>0.995927</td>\n",
              "      <td>0.968254</td>\n",
              "      <td>0.971831</td>\n",
              "      <td>0.196653</td>\n",
              "    </tr>\n",
              "    <tr>\n",
              "      <th>2020-01-20</th>\n",
              "      <td>1.000000</td>\n",
              "      <td>1.000000</td>\n",
              "      <td>1.000000</td>\n",
              "      <td>0.137469</td>\n",
              "    </tr>\n",
              "    <tr>\n",
              "      <th>2020-01-21</th>\n",
              "      <td>1.000000</td>\n",
              "      <td>0.984127</td>\n",
              "      <td>0.979879</td>\n",
              "      <td>0.114009</td>\n",
              "    </tr>\n",
              "    <tr>\n",
              "      <th>2020-01-22</th>\n",
              "      <td>0.938900</td>\n",
              "      <td>0.992063</td>\n",
              "      <td>0.947686</td>\n",
              "      <td>0.185040</td>\n",
              "    </tr>\n",
              "  </tbody>\n",
              "</table>\n",
              "<p>421 rows × 4 columns</p>\n",
              "</div>"
            ],
            "text/plain": [
              "                Open      High       Low    Volume\n",
              "Date                                              \n",
              "2018-05-04  0.633401  0.646825  0.601610  0.595060\n",
              "2018-05-08  0.617108  0.619048  0.605634  0.316465\n",
              "2018-05-09  0.617108  0.603175  0.565392  0.198390\n",
              "2018-05-10  0.580448  0.559524  0.553320  0.160765\n",
              "2018-05-11  0.592668  0.579365  0.577465  0.100000\n",
              "...              ...       ...       ...       ...\n",
              "2020-01-16  0.881874  0.916667  0.891348  0.168830\n",
              "2020-01-17  0.995927  0.968254  0.971831  0.196653\n",
              "2020-01-20  1.000000  1.000000  1.000000  0.137469\n",
              "2020-01-21  1.000000  0.984127  0.979879  0.114009\n",
              "2020-01-22  0.938900  0.992063  0.947686  0.185040\n",
              "\n",
              "[421 rows x 4 columns]"
            ]
          },
          "metadata": {
            "tags": []
          },
          "execution_count": 7
        }
      ]
    },
    {
      "cell_type": "code",
      "metadata": {
        "colab": {
          "base_uri": "https://localhost:8080/",
          "height": 294
        },
        "id": "NeCofCpwF4u9",
        "outputId": "7f8c40b9-b70d-4742-ed90-7780728b89de"
      },
      "source": [
        "dfx.describe()"
      ],
      "execution_count": 8,
      "outputs": [
        {
          "output_type": "execute_result",
          "data": {
            "text/html": [
              "<div>\n",
              "<style scoped>\n",
              "    .dataframe tbody tr th:only-of-type {\n",
              "        vertical-align: middle;\n",
              "    }\n",
              "\n",
              "    .dataframe tbody tr th {\n",
              "        vertical-align: top;\n",
              "    }\n",
              "\n",
              "    .dataframe thead th {\n",
              "        text-align: right;\n",
              "    }\n",
              "</style>\n",
              "<table border=\"1\" class=\"dataframe\">\n",
              "  <thead>\n",
              "    <tr style=\"text-align: right;\">\n",
              "      <th></th>\n",
              "      <th>Open</th>\n",
              "      <th>High</th>\n",
              "      <th>Low</th>\n",
              "      <th>Volume</th>\n",
              "    </tr>\n",
              "  </thead>\n",
              "  <tbody>\n",
              "    <tr>\n",
              "      <th>count</th>\n",
              "      <td>421.000000</td>\n",
              "      <td>421.000000</td>\n",
              "      <td>421.000000</td>\n",
              "      <td>421.000000</td>\n",
              "    </tr>\n",
              "    <tr>\n",
              "      <th>mean</th>\n",
              "      <td>0.372409</td>\n",
              "      <td>0.374434</td>\n",
              "      <td>0.373457</td>\n",
              "      <td>0.117439</td>\n",
              "    </tr>\n",
              "    <tr>\n",
              "      <th>std</th>\n",
              "      <td>0.175834</td>\n",
              "      <td>0.171931</td>\n",
              "      <td>0.171432</td>\n",
              "      <td>0.084973</td>\n",
              "    </tr>\n",
              "    <tr>\n",
              "      <th>min</th>\n",
              "      <td>0.000000</td>\n",
              "      <td>0.000000</td>\n",
              "      <td>0.000000</td>\n",
              "      <td>0.000000</td>\n",
              "    </tr>\n",
              "    <tr>\n",
              "      <th>25%</th>\n",
              "      <td>0.262729</td>\n",
              "      <td>0.267857</td>\n",
              "      <td>0.269618</td>\n",
              "      <td>0.064016</td>\n",
              "    </tr>\n",
              "    <tr>\n",
              "      <th>50%</th>\n",
              "      <td>0.350305</td>\n",
              "      <td>0.349206</td>\n",
              "      <td>0.352113</td>\n",
              "      <td>0.101418</td>\n",
              "    </tr>\n",
              "    <tr>\n",
              "      <th>75%</th>\n",
              "      <td>0.443992</td>\n",
              "      <td>0.452381</td>\n",
              "      <td>0.444668</td>\n",
              "      <td>0.146095</td>\n",
              "    </tr>\n",
              "    <tr>\n",
              "      <th>max</th>\n",
              "      <td>1.000000</td>\n",
              "      <td>1.000000</td>\n",
              "      <td>1.000000</td>\n",
              "      <td>1.000000</td>\n",
              "    </tr>\n",
              "  </tbody>\n",
              "</table>\n",
              "</div>"
            ],
            "text/plain": [
              "             Open        High         Low      Volume\n",
              "count  421.000000  421.000000  421.000000  421.000000\n",
              "mean     0.372409    0.374434    0.373457    0.117439\n",
              "std      0.175834    0.171931    0.171432    0.084973\n",
              "min      0.000000    0.000000    0.000000    0.000000\n",
              "25%      0.262729    0.267857    0.269618    0.064016\n",
              "50%      0.350305    0.349206    0.352113    0.101418\n",
              "75%      0.443992    0.452381    0.444668    0.146095\n",
              "max      1.000000    1.000000    1.000000    1.000000"
            ]
          },
          "metadata": {
            "tags": []
          },
          "execution_count": 8
        }
      ]
    },
    {
      "cell_type": "markdown",
      "metadata": {
        "id": "3vHEtfw6F7H-"
      },
      "source": [
        "모든 열에 대해서 max값이 1이고 min 값이 0이므로 모든 값이 1과 0사이의 값이 됨"
      ]
    },
    {
      "cell_type": "code",
      "metadata": {
        "colab": {
          "base_uri": "https://localhost:8080/",
          "height": 232
        },
        "id": "LSUAVZ_sGBAc",
        "outputId": "7efc1a8c-0f6d-415a-d5b1-1c06854b3aa8"
      },
      "source": [
        "dfy.head()"
      ],
      "execution_count": 9,
      "outputs": [
        {
          "output_type": "execute_result",
          "data": {
            "text/html": [
              "<div>\n",
              "<style scoped>\n",
              "    .dataframe tbody tr th:only-of-type {\n",
              "        vertical-align: middle;\n",
              "    }\n",
              "\n",
              "    .dataframe tbody tr th {\n",
              "        vertical-align: top;\n",
              "    }\n",
              "\n",
              "    .dataframe thead th {\n",
              "        text-align: right;\n",
              "    }\n",
              "</style>\n",
              "<table border=\"1\" class=\"dataframe\">\n",
              "  <thead>\n",
              "    <tr style=\"text-align: right;\">\n",
              "      <th></th>\n",
              "      <th>Close</th>\n",
              "    </tr>\n",
              "    <tr>\n",
              "      <th>Date</th>\n",
              "      <th></th>\n",
              "    </tr>\n",
              "  </thead>\n",
              "  <tbody>\n",
              "    <tr>\n",
              "      <th>2018-05-04</th>\n",
              "      <td>0.579158</td>\n",
              "    </tr>\n",
              "    <tr>\n",
              "      <th>2018-05-08</th>\n",
              "      <td>0.607214</td>\n",
              "    </tr>\n",
              "    <tr>\n",
              "      <th>2018-05-09</th>\n",
              "      <td>0.539078</td>\n",
              "    </tr>\n",
              "    <tr>\n",
              "      <th>2018-05-10</th>\n",
              "      <td>0.567134</td>\n",
              "    </tr>\n",
              "    <tr>\n",
              "      <th>2018-05-11</th>\n",
              "      <td>0.555110</td>\n",
              "    </tr>\n",
              "  </tbody>\n",
              "</table>\n",
              "</div>"
            ],
            "text/plain": [
              "               Close\n",
              "Date                \n",
              "2018-05-04  0.579158\n",
              "2018-05-08  0.607214\n",
              "2018-05-09  0.539078\n",
              "2018-05-10  0.567134\n",
              "2018-05-11  0.555110"
            ]
          },
          "metadata": {
            "tags": []
          },
          "execution_count": 9
        }
      ]
    },
    {
      "cell_type": "markdown",
      "metadata": {
        "id": "9qai7F5yGCsr"
      },
      "source": [
        "dfy는 데이터의 종가를 분리해서 빼둔 것  \n",
        "이유 : 지도 학습(Supervised Learning)에서 타겟 데이터(레이블, y데이터라고도 부름)으로 사용할 것"
      ]
    },
    {
      "cell_type": "code",
      "metadata": {
        "id": "0j76U5U_GM8l"
      },
      "source": [
        "# 두 데이터를 리스트 형태로 저장\n",
        "X = dfx.values.tolist()\n",
        "y = dfy.values.tolist()"
      ],
      "execution_count": 10,
      "outputs": []
    },
    {
      "cell_type": "code",
      "metadata": {
        "colab": {
          "base_uri": "https://localhost:8080/"
        },
        "id": "QaFFB88zGfCT",
        "outputId": "15f23141-18f0-444c-bcaa-02f34d58b96a"
      },
      "source": [
        "X[:5]"
      ],
      "execution_count": 11,
      "outputs": [
        {
          "output_type": "execute_result",
          "data": {
            "text/plain": [
              "[[0.6334012219933466,\n",
              "  0.64682539682283,\n",
              "  0.6016096579452651,\n",
              "  0.5950598479352758],\n",
              " [0.6171079429710097,\n",
              "  0.6190476190451625,\n",
              "  0.6056338028144642,\n",
              "  0.3164647972944813],\n",
              " [0.6171079429710097,\n",
              "  0.6031746031722096,\n",
              "  0.5653923541224732,\n",
              "  0.19838973885875907],\n",
              " [0.5804480651707518,\n",
              "  0.5595238095215892,\n",
              "  0.5533199195148759,\n",
              "  0.16076499691679247],\n",
              " [0.5926680244375044,\n",
              "  0.5793650793627803,\n",
              "  0.5774647887300706,\n",
              "  0.10000013878410015]]"
            ]
          },
          "metadata": {
            "tags": []
          },
          "execution_count": 11
        }
      ]
    },
    {
      "cell_type": "code",
      "metadata": {
        "colab": {
          "base_uri": "https://localhost:8080/"
        },
        "id": "JZ_QOvySGikP",
        "outputId": "63d0d297-5e6f-4995-829e-118d0747ea3d"
      },
      "source": [
        "y[:5]"
      ],
      "execution_count": 12,
      "outputs": [
        {
          "output_type": "execute_result",
          "data": {
            "text/plain": [
              "[[0.5791583166309452],\n",
              " [0.6072144288552817],\n",
              " [0.5390781563104646],\n",
              " [0.5671342685348011],\n",
              " [0.5551102204386569]]"
            ]
          },
          "metadata": {
            "tags": []
          },
          "execution_count": 12
        }
      ]
    },
    {
      "cell_type": "markdown",
      "metadata": {
        "id": "N1-NpxbgGoYo"
      },
      "source": [
        "## 데이터 전처리(10일 동안의 OHLVC 데이터로 다음 날의 종가를 예측하도록)"
      ]
    },
    {
      "cell_type": "markdown",
      "metadata": {
        "id": "XxVvVsq1Q7hl"
      },
      "source": [
        "이전 10일 동안의 OHLV 데이터를 이용하여 다음 날의 종가를 예측하고자 함  \n",
        "이전 10일 동안의 OHLV 데이터를 _x로 다음날의 종가를 _y로 처리"
      ]
    },
    {
      "cell_type": "markdown",
      "metadata": {
        "id": "hohNLzv3fUoV"
      },
      "source": [
        "예를 들어 우리나라 주식장이 주말에도 쉬지않고 열린다고 가정  \n",
        "- 10일간의 데이터를 가지고 종가를 예측한다는 것은 이런 의미  \n",
        "- 6월 1일 ~ 6월 10일까지의 OHLV 데이터로 6월 11일 종가 예측  \n",
        "- 6월 2일 ~ 6월 11일까지의 OHLV 데이터로 6월 12일 종가 예측"
      ]
    },
    {
      "cell_type": "code",
      "metadata": {
        "id": "VzUXf1FcG_F7"
      },
      "source": [
        "window_size = 10"
      ],
      "execution_count": 13,
      "outputs": []
    },
    {
      "cell_type": "code",
      "metadata": {
        "colab": {
          "base_uri": "https://localhost:8080/"
        },
        "id": "oetJG9oFGvkU",
        "outputId": "34e260ff-bc8b-4755-d735-120274ec5f83"
      },
      "source": [
        "data_X = []\n",
        "data_y = []\n",
        "for i in range(len(y) - window_size):\n",
        "    _X = X[i : i + window_size] # 다음 날 종가(i+windows_size)는 포함되지 않음\n",
        "    _y = y[i + window_size]     # 다음 날 종가\n",
        "    data_X.append(_X)\n",
        "    data_y.append(_y)\n",
        "print(_X, \"->\", _y)"
      ],
      "execution_count": 14,
      "outputs": [
        {
          "output_type": "stream",
          "text": [
            "[[0.7637474541720417, 0.7857142857111677, 0.7665995975824281, 0.323174686971615], [0.8533604887948947, 0.8333333333300265, 0.8269617706204146, 0.33335345138624783], [0.8696537678172315, 0.8769841269806469, 0.8631790744432065, 0.19622106804249292], [0.9022403258619053, 0.8888888888853615, 0.8953722333967993, 0.117672127572782], [0.9348268839065791, 0.9285714285677438, 0.927565392350392, 0.21155713424914332], [0.898167006106321, 0.8730158730124087, 0.8873239436584011, 0.1674615836301646], [0.8818737270839841, 0.9166666666630291, 0.8913480885276002, 0.16882989330989187], [0.9959266802403425, 0.968253968250126, 0.9718309859115821, 0.19665250042066781], [0.9999999999959267, 0.9999999999960317, 0.9999999999959758, 0.13746944253371812], [0.9999999999959267, 0.9841269841230789, 0.9798792756499803, 0.11400880277083453]] -> [0.9959919839639438]\n"
          ],
          "name": "stdout"
        }
      ]
    },
    {
      "cell_type": "code",
      "metadata": {
        "colab": {
          "base_uri": "https://localhost:8080/"
        },
        "id": "1oH8LYHLRM5t",
        "outputId": "331fa497-50a8-4131-9606-2df437e239bb"
      },
      "source": [
        "# 10일간의 OHLVC 데이터\n",
        "data_X[0]"
      ],
      "execution_count": 15,
      "outputs": [
        {
          "output_type": "execute_result",
          "data": {
            "text/plain": [
              "[[0.6334012219933466,\n",
              "  0.64682539682283,\n",
              "  0.6016096579452651,\n",
              "  0.5950598479352758],\n",
              " [0.6171079429710097,\n",
              "  0.6190476190451625,\n",
              "  0.6056338028144642,\n",
              "  0.3164647972944813],\n",
              " [0.6171079429710097,\n",
              "  0.6031746031722096,\n",
              "  0.5653923541224732,\n",
              "  0.19838973885875907],\n",
              " [0.5804480651707518,\n",
              "  0.5595238095215892,\n",
              "  0.5533199195148759,\n",
              "  0.16076499691679247],\n",
              " [0.5926680244375044,\n",
              "  0.5793650793627803,\n",
              "  0.5774647887300706,\n",
              "  0.10000013878410015],\n",
              " [0.5519348268816622,\n",
              "  0.5357142857121598,\n",
              "  0.5251509054304823,\n",
              "  0.17775773908379244],\n",
              " [0.5193482688369884,\n",
              "  0.5079365079344923,\n",
              "  0.4929577464768895,\n",
              "  0.24207018961868487],\n",
              " [0.47861507128114616,\n",
              "  0.49999999999801586,\n",
              "  0.49496981891148906,\n",
              "  0.19484190950809502],\n",
              " [0.5234215885925726,\n",
              "  0.5119047619027305,\n",
              "  0.5050301810844868,\n",
              "  0.100853881024588],\n",
              " [0.5071283095702357,\n",
              "  0.4880952380933012,\n",
              "  0.5030181086498873,\n",
              "  0.03892790771899896]]"
            ]
          },
          "metadata": {
            "tags": []
          },
          "execution_count": 15
        }
      ]
    },
    {
      "cell_type": "code",
      "metadata": {
        "colab": {
          "base_uri": "https://localhost:8080/"
        },
        "id": "Kb7thSW9RZOz",
        "outputId": "cfe58e1d-b16f-4c43-b084-8c8f1dfb2a20"
      },
      "source": [
        "# data_X[0]을 넣었을 때의 정답인 data_y[0]\n",
        "data_y[0]"
      ],
      "execution_count": 16,
      "outputs": [
        {
          "output_type": "execute_result",
          "data": {
            "text/plain": [
              "[0.503006012022032]"
            ]
          },
          "metadata": {
            "tags": []
          },
          "execution_count": 16
        }
      ]
    },
    {
      "cell_type": "markdown",
      "metadata": {
        "id": "JF6GdrSURrWl"
      },
      "source": [
        "이를 RNN에 넣으면 RNN은 총 10번 펼쳐집니다.  \n",
        "$x_{0}$부터 $x_{9}$까지의 입력을 받고나서 RNN은 그 다음날의 종가를 예측하는 모델"
      ]
    },
    {
      "cell_type": "markdown",
      "metadata": {
        "id": "augdVF7yRi2h"
      },
      "source": [
        "## 훈련 데이터와 테스트 데이터를 분리"
      ]
    },
    {
      "cell_type": "code",
      "metadata": {
        "colab": {
          "base_uri": "https://localhost:8080/"
        },
        "id": "i9i_6damSOKU",
        "outputId": "feabaef4-c772-4da3-fa4b-ce82fb454f8c"
      },
      "source": [
        "print('전체 데이터의 크기 :', len(data_X), len(data_y))"
      ],
      "execution_count": 17,
      "outputs": [
        {
          "output_type": "stream",
          "text": [
            "전체 데이터의 크기 : 411 411\n"
          ],
          "name": "stdout"
        }
      ]
    },
    {
      "cell_type": "markdown",
      "metadata": {
        "id": "vu--yRArRom-"
      },
      "source": [
        "학습에 사용할 훈련 데이터와 테스트 데이터를 7:3 비율로 분리"
      ]
    },
    {
      "cell_type": "code",
      "metadata": {
        "id": "SUqltCJrSd5A"
      },
      "source": [
        "train_size = int(len(data_y) * 0.7)\n",
        "train_X = np.array(data_X[0 : train_size])\n",
        "train_y = np.array(data_y[0 : train_size])\n",
        "\n",
        "test_size = len(data_y) - train_size\n",
        "test_X = np.array(data_X[train_size : len(data_X)])\n",
        "test_y = np.array(data_y[train_size : len(data_y)])"
      ],
      "execution_count": 18,
      "outputs": []
    },
    {
      "cell_type": "code",
      "metadata": {
        "colab": {
          "base_uri": "https://localhost:8080/"
        },
        "id": "JNnxpd-XSe3n",
        "outputId": "bd6e9664-f862-48e1-8605-1342dc8a0b21"
      },
      "source": [
        "print('훈련 데이터의 크기 :', train_X.shape, train_y.shape)\n",
        "print('테스트 데이터의 크기 :', test_X.shape, test_y.shape)"
      ],
      "execution_count": 19,
      "outputs": [
        {
          "output_type": "stream",
          "text": [
            "훈련 데이터의 크기 : (287, 10, 4) (287, 1)\n",
            "테스트 데이터의 크기 : (124, 10, 4) (124, 1)\n"
          ],
          "name": "stdout"
        }
      ]
    },
    {
      "cell_type": "markdown",
      "metadata": {
        "id": "mGTbJzFBSqnR"
      },
      "source": [
        "## 모델 학습"
      ]
    },
    {
      "cell_type": "code",
      "metadata": {
        "id": "l6nARGStA25z"
      },
      "source": [
        "from tensorflow.keras import Sequential\n",
        "from tensorflow.keras.layers import Dense, LSTM, Dropout"
      ],
      "execution_count": 20,
      "outputs": []
    },
    {
      "cell_type": "markdown",
      "metadata": {
        "id": "1k7gaIHBTGQu"
      },
      "source": [
        "input_shape : LSTM의 입력으로 들어갈 (데이터의 크기, 입력의 차원)  \n",
        "\n",
        "- 데이터의 길이 : LSTM이 얼마나 펼쳐질 지를 결정  \n",
        "- 10일치의 데이터를 다루고 있기 때문에 데이터의 길이는 10으로 해주어야 함\n",
        "\n",
        "- 입력의 차원 : LSTM이 입력을 매 시점마다 받을 때, 한 번 받을 때 데이터가 몇 차원인지를 물어보는 것  \n",
        "- 4차원 데이터를(숫자 4개)를 10번 넣는 것이기 때문에 여기서는 입력의 차원이라는 건 4를 넣어줌  \n",
        "\n",
        "- 다시 말해서 **input_shape(L, D)는 LSTM은 한 번에 'D'차원의 숫자를 입력받는데 그걸 'L'번 할거야.**라는 의미"
      ]
    },
    {
      "cell_type": "markdown",
      "metadata": {
        "id": "GimgQ2tzicGs"
      },
      "source": [
        "모델을 아주 간단하게 작성  \n",
        "\n",
        "model = Sequential()  \n",
        "model.add(LSTM(units=20, activation='relu', input_shape=(10, 4)))  \n",
        "model.add(Dense(units=1))  \n",
        "model.summary()  "
      ]
    },
    {
      "cell_type": "markdown",
      "metadata": {
        "id": "eaLoJ1TUigt9"
      },
      "source": [
        "모델을 복잡하게 작성하려면...  \n",
        "**Tip #1)** LSTM에다가 LSTM을 한 번 더 사용하려면 앞의 LSTM에는 return_seqeucens=True를 해줘야 함  \n",
        "**Tip #2)** units의 값은 사용자가 임의로 정해주는 LSTM의 용량으로 정답은 없음  \n",
        "**Tip #3)** Dropout은 학습을 더 잘하게 하기 위한 일종의 선택적인 장치로   \n",
        "이 안의 값은 0과 1사이의 값을 넣어주면 되며 이 값 또한 정답은 없음"
      ]
    },
    {
      "cell_type": "code",
      "metadata": {
        "colab": {
          "base_uri": "https://localhost:8080/"
        },
        "id": "RS7qOU0rddk1",
        "outputId": "a84a185e-5f1d-4bb6-c5df-76b18ce0241c"
      },
      "source": [
        "model = Sequential()\n",
        "model.add(LSTM(units=20, activation='relu', return_sequences=True, input_shape=(10, 4)))\n",
        "model.add(Dropout(0.1))\n",
        "model.add(LSTM(units=20, activation='relu'))\n",
        "model.add(Dropout(0.1))\n",
        "model.add(Dense(units=1))\n",
        "model.summary()"
      ],
      "execution_count": 21,
      "outputs": [
        {
          "output_type": "stream",
          "text": [
            "WARNING:tensorflow:Layer lstm will not use cuDNN kernels since it doesn't meet the criteria. It will use a generic GPU kernel as fallback when running on GPU.\n",
            "WARNING:tensorflow:Layer lstm_1 will not use cuDNN kernels since it doesn't meet the criteria. It will use a generic GPU kernel as fallback when running on GPU.\n",
            "Model: \"sequential\"\n",
            "_________________________________________________________________\n",
            "Layer (type)                 Output Shape              Param #   \n",
            "=================================================================\n",
            "lstm (LSTM)                  (None, 10, 20)            2000      \n",
            "_________________________________________________________________\n",
            "dropout (Dropout)            (None, 10, 20)            0         \n",
            "_________________________________________________________________\n",
            "lstm_1 (LSTM)                (None, 20)                3280      \n",
            "_________________________________________________________________\n",
            "dropout_1 (Dropout)          (None, 20)                0         \n",
            "_________________________________________________________________\n",
            "dense (Dense)                (None, 1)                 21        \n",
            "=================================================================\n",
            "Total params: 5,301\n",
            "Trainable params: 5,301\n",
            "Non-trainable params: 0\n",
            "_________________________________________________________________\n"
          ],
          "name": "stdout"
        }
      ]
    },
    {
      "cell_type": "code",
      "metadata": {
        "id": "bLlMQiUzdhLN"
      },
      "source": [
        "model.compile(optimizer='adam', loss='mean_squared_error')\n",
        "model.fit(train_X, train_y, epochs=70, batch_size=30)\n",
        "pred_y = model.predict(test_X)"
      ],
      "execution_count": null,
      "outputs": []
    },
    {
      "cell_type": "code",
      "metadata": {
        "colab": {
          "base_uri": "https://localhost:8080/"
        },
        "id": "nivrTPqPU6Dd",
        "outputId": "aa78c7d5-5205-4654-8758-a18a6158bdbb"
      },
      "source": [
        "test_y.shape"
      ],
      "execution_count": 23,
      "outputs": [
        {
          "output_type": "execute_result",
          "data": {
            "text/plain": [
              "(124, 1)"
            ]
          },
          "metadata": {
            "tags": []
          },
          "execution_count": 23
        }
      ]
    },
    {
      "cell_type": "code",
      "metadata": {
        "id": "v-UEf990Ulo_"
      },
      "source": [
        "pred_y = model.predict(test_X)"
      ],
      "execution_count": 24,
      "outputs": []
    },
    {
      "cell_type": "code",
      "metadata": {
        "colab": {
          "base_uri": "https://localhost:8080/",
          "height": 312
        },
        "id": "pR-LCuoIUuQO",
        "outputId": "4b34c6f1-6823-48a8-eac0-9de0682f6145"
      },
      "source": [
        "# Visualising the results\n",
        "plt.figure()\n",
        "plt.plot(test_y, color='red', label='real SEC stock price')\n",
        "plt.plot(pred_y, color='blue', label='predicted SEC stock price')\n",
        "plt.title('SEC stock price prediction')\n",
        "plt.xlabel('time')\n",
        "plt.ylabel('stock price')\n",
        "plt.legend()\n",
        "plt.show()\n",
        "\n",
        "# df.Close[-1] : dfy.Close[-1] = y : pred_y[-1]\n",
        "print(\"Tomorrow's SEC price :\", df.Close[-1] * pred_y[-1] / dfy.Close[-1], 'KRW')"
      ],
      "execution_count": 25,
      "outputs": [
        {
          "output_type": "display_data",
          "data": {
            "image/png": "[encoded data removed]",
            "text/plain": [
              "<Figure size 432x288 with 1 Axes>"
            ]
          },
          "metadata": {
            "tags": [],
            "needs_background": "light"
          }
        },
        {
          "output_type": "stream",
          "text": [
            "Tomorrow's SEC price : [62279.883] KRW\n"
          ],
          "name": "stdout"
        }
      ]
    }
  ]
}