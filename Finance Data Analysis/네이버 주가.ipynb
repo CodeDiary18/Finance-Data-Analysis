{
  "nbformat": 4,
  "nbformat_minor": 0,
  "metadata": {
    "colab": {
      "name": "네이버 주가.ipynb",
      "provenance": [],
      "collapsed_sections": [],
      "authorship_tag": "ABX9TyOW4Z8E5KORpL6Q5hc8L3/a"
    },
    "kernelspec": {
      "name": "python3",
      "display_name": "Python 3"
    },
    "language_info": {
      "name": "python"
    },
    "accelerator": "GPU"
  },
  "cells": [
    {
      "cell_type": "code",
      "metadata": {
        "id": "upGCBd3huZCA"
      },
      "source": [
        "import pandas as pd\n",
        "from datetime import datetime\n",
        "from matplotlib import dates as mdates\n",
        "import matplotlib.pyplot as plt\n",
        "from bs4 import BeautifulSoup as bs\n",
        "import requests"
      ],
      "execution_count": 1,
      "outputs": []
    },
    {
      "cell_type": "markdown",
      "metadata": {
        "id": "8VR3qxQt1Jnp"
      },
      "source": [
        "## 네이버 주가 정보 가져오기"
      ]
    },
    {
      "cell_type": "code",
      "metadata": {
        "id": "Fxa6zERIz6Qz"
      },
      "source": [
        "url = 'https://finance.naver.com/item/sise_day.nhn?code=035420&page=1'"
      ],
      "execution_count": 2,
      "outputs": []
    },
    {
      "cell_type": "code",
      "metadata": {
        "id": "LHXp_0-F0WN3"
      },
      "source": [
        "headers = {'user-agent': 'Mozilla/5.0 (Macintosh; Intel Mac OS X 10_15_7) AppleWebKit/537.36 (KHTML, like Gecko) Chrome/88.0.4324.96 Safari/537.36'}\n",
        "response = requests.get(url,headers=headers)"
      ],
      "execution_count": 3,
      "outputs": []
    },
    {
      "cell_type": "code",
      "metadata": {
        "colab": {
          "base_uri": "https://localhost:8080/",
          "height": 195
        },
        "id": "ovvVktk30w4A",
        "outputId": "6464e4e2-2024-434e-ebd0-25b8a015eb76"
      },
      "source": [
        "response.text"
      ],
      "execution_count": 4,
      "outputs": [
        {
          "output_type": "execute_result",
          "data": {
            "application/vnd.google.colaboratory.intrinsic+json": {
              "type": "string"
            },
            "text/plain": [
              "'\\n<html lang=\"ko\">\\n<head>\\n<meta http-equiv=\"Content-Type\" content=\"text/html; charset=euc-kr\">\\n<title>네이버 금융</title>\\n\\n<link rel=\"stylesheet\" type=\"text/css\" href=\"https://ssl.pstatic.net/imgstock/static.pc/20210721200146/css/newstock.css\">\\n<link rel=\"stylesheet\" type=\"text/css\" href=\"https://ssl.pstatic.net/imgstock/static.pc/20210721200146/css/common.css\">\\n<link rel=\"stylesheet\" type=\"text/css\" href=\"https://ssl.pstatic.net/imgstock/static.pc/20210721200146/css/layout.css\">\\n<link rel=\"stylesheet\" type=\"text/css\" href=\"https://ssl.pstatic.net/imgstock/static.pc/20210721200146/css/main.css\">\\n<link rel=\"stylesheet\" type=\"text/css\" href=\"https://ssl.pstatic.net/imgstock/static.pc/20210721200146/css/newstock2.css\">\\n<link rel=\"stylesheet\" type=\"text/css\" href=\"https://ssl.pstatic.net/imgstock/static.pc/20210721200146/css/newstock3.css\">\\n<link rel=\"stylesheet\" type=\"text/css\" href=\"https://ssl.pstatic.net/imgstock/static.pc/20210721200146/css/world.css\">\\n</head>\\n<body>\\n<script language=\"JavaScript\">\\nfunction mouseOver(obj){\\n  obj.style.backgroundColor=\"#f6f4e5\";\\n}\\nfunction mouseOut(obj){\\n  obj.style.backgroundColor=\"#ffffff\";\\n}\\n</script>\\n\\t\\t\\t\\t<h4 class=\"tlline2\"><strong><span class=\"red03\">일별</span>시세</strong></h4>\\t\\t\\t\\n\\t\\t\\t\\t<table cellspacing=\"0\" class=\"type2\">\\n\\t\\t\\t\\t<tr>\\n\\t\\t\\t\\t<th>날짜</th>\\n\\t\\t\\t\\t<th>종가</th>\\n\\t\\t\\t\\t<th>전일비</th>\\n\\t\\t\\t\\t<th>시가</th>\\n\\t\\t\\t\\t<th>고가</th>\\n\\t\\t\\t\\t<th>저가</th>\\n\\t\\t\\t\\t<th>거래량</th>\\n\\t\\t\\t\\t</tr>\\n\\t\\t\\t\\t<tr>\\n\\t\\t\\t\\t<td colspan=\"7\" height=\"8\"></td>\\n\\t\\t\\t\\t</tr>\\n\\n\\n\\t\\n\\t\\t\\t\\t<tr onMouseOver=\"mouseOver(this)\" onMouseOut=\"mouseOut(this)\">\\n\\t\\t\\t\\t<td align=\"center\"><span class=\"tah p10 gray03\">2021.07.23</span></td>\\n\\t\\t\\t\\t<td class=\"num\"><span class=\"tah p11\">452,000</span></td>\\n\\t\\t\\t\\t<td class=\"num\">\\n\\t\\t\\t\\t<img src=\"https://ssl.pstatic.net/imgstock/images/images4/ico_up.gif\" width=\"7\" height=\"6\" style=\"margin-right:4px;\" alt=\"상승\"><span class=\"tah p11 red02\">\\n\\t\\t\\t\\t12,000\\n\\t\\t\\t\\t</span>\\n\\t\\t\\t</td>\\n\\t\\t\\t\\t<td class=\"num\"><span class=\"tah p11\">443,500</span></td>\\n\\t\\t\\t\\t<td class=\"num\"><span class=\"tah p11\">454,500</span></td>\\n\\t\\t\\t\\t<td class=\"num\"><span class=\"tah p11\">441,000</span></td>\\n\\t\\t\\t\\t<td class=\"num\"><span class=\"tah p11\">1,059,964</span></td>\\n\\t\\t\\t\\t</tr>\\n\\t\\t\\n\\t\\t\\t\\n\\t\\t\\t\\t\\n\\t\\t\\t\\t\\t<tr onMouseOver=\"mouseOver(this)\" onMouseOut=\"mouseOut(this)\">\\n\\t\\t\\t\\t\\t<td align=\"center\"><span class=\"tah p10 gray03\">2021.07.22</span></td>\\n\\t\\t\\t\\t\\t<td class=\"num\"><span class=\"tah p11\">440,000</span></td>\\n\\t\\t\\t\\t\\t<td class=\"num\">\\n\\t\\t\\t\\t<img src=\"https://ssl.pstatic.net/imgstock/images/images4/ico_up.gif\" width=\"7\" height=\"6\" style=\"margin-right:4px;\" alt=\"상승\"><span class=\"tah p11 red02\">\\n\\t\\t\\t\\t12,000\\n\\t\\t\\t\\t</span>\\n\\t\\t\\t</td>\\n\\t\\t\\t\\t\\t<td class=\"num\"><span class=\"tah p11\">433,000</span></td>\\n\\t\\t\\t\\t\\t<td class=\"num\"><span class=\"tah p11\">445,000</span></td>\\n\\t\\t\\t\\t\\t<td class=\"num\"><span class=\"tah p11\">429,000</span></td>\\n\\t\\t\\t\\t\\t<td class=\"num\"><span class=\"tah p11\">1,035,882</span></td>\\n\\t\\t\\t\\t\\t</tr>\\n\\t\\t\\t\\t\\n\\t\\t\\t\\t\\n\\t\\t\\t\\n\\t\\t\\t\\n\\t\\t\\t\\n\\t\\t\\t\\n\\t\\t\\t\\n\\t\\n\\t\\t\\n\\t\\t\\t\\n\\t\\t\\t\\t\\n\\t\\t\\t\\t\\t<tr onMouseOver=\"mouseOver(this)\" onMouseOut=\"mouseOut(this)\">\\n\\t\\t\\t\\t\\t<td align=\"center\"><span class=\"tah p10 gray03\">2021.07.21</span></td>\\n\\t\\t\\t\\t\\t<td class=\"num\"><span class=\"tah p11\">428,000</span></td>\\n\\t\\t\\t\\t\\t<td class=\"num\">\\n\\t\\t\\t\\t<img src=\"https://ssl.pstatic.net/imgstock/images/images4/ico_down.gif\" width=\"7\" height=\"6\" style=\"margin-right:4px;\" alt=\"하락\"><span class=\"tah p11 nv01\">\\n\\t\\t\\t\\t11,000\\n\\t\\t\\t\\t</span>\\n\\t\\t\\t</td>\\n\\t\\t\\t\\t\\t<td class=\"num\"><span class=\"tah p11\">443,000</span></td>\\n\\t\\t\\t\\t\\t<td class=\"num\"><span class=\"tah p11\">446,000</span></td>\\n\\t\\t\\t\\t\\t<td class=\"num\"><span class=\"tah p11\">428,000</span></td>\\n\\t\\t\\t\\t\\t<td class=\"num\"><span class=\"tah p11\">885,519</span></td>\\n\\t\\t\\t\\t\\t</tr>\\n\\t\\t\\t\\t\\n\\t\\t\\t\\t\\n\\t\\t\\t\\n\\t\\t\\t\\n\\t\\t\\t\\n\\t\\t\\t\\n\\t\\t\\t\\n\\t\\n\\t\\t\\n\\t\\t\\t\\n\\t\\t\\t\\t\\n\\t\\t\\t\\t\\t<tr onMouseOver=\"mouseOver(this)\" onMouseOut=\"mouseOut(this)\">\\n\\t\\t\\t\\t\\t<td align=\"center\"><span class=\"tah p10 gray03\">2021.07.20</span></td>\\n\\t\\t\\t\\t\\t<td class=\"num\"><span class=\"tah p11\">439,000</span></td>\\n\\t\\t\\t\\t\\t<td class=\"num\">\\n\\t\\t\\t\\t<img src=\"https://ssl.pstatic.net/imgstock/images/images4/ico_down.gif\" width=\"7\" height=\"6\" style=\"margin-right:4px;\" alt=\"하락\"><span class=\"tah p11 nv01\">\\n\\t\\t\\t\\t4,000\\n\\t\\t\\t\\t</span>\\n\\t\\t\\t</td>\\n\\t\\t\\t\\t\\t<td class=\"num\"><span class=\"tah p11\">438,500</span></td>\\n\\t\\t\\t\\t\\t<td class=\"num\"><span class=\"tah p11\">441,500</span></td>\\n\\t\\t\\t\\t\\t<td class=\"num\"><span class=\"tah p11\">431,000</span></td>\\n\\t\\t\\t\\t\\t<td class=\"num\"><span class=\"tah p11\">789,090</span></td>\\n\\t\\t\\t\\t\\t</tr>\\n\\t\\t\\t\\t\\n\\t\\t\\t\\t\\n\\t\\t\\t\\n\\t\\t\\t\\n\\t\\t\\t\\n\\t\\t\\t\\n\\t\\t\\t\\n\\t\\n\\t\\t\\n\\t\\t\\t\\n\\t\\t\\t\\t\\n\\t\\t\\t\\t\\t<tr onMouseOver=\"mouseOver(this)\" onMouseOut=\"mouseOut(this)\">\\n\\t\\t\\t\\t\\t<td align=\"center\"><span class=\"tah p10 gray03\">2021.07.19</span></td>\\n\\t\\t\\t\\t\\t<td class=\"num\"><span class=\"tah p11\">443,000</span></td>\\n\\t\\t\\t\\t\\t<td class=\"num\">\\n\\t\\t\\t\\t<img src=\"https://ssl.pstatic.net/imgstock/images/images4/ico_down.gif\" width=\"7\" height=\"6\" style=\"margin-right:4px;\" alt=\"하락\"><span class=\"tah p11 nv01\">\\n\\t\\t\\t\\t4,000\\n\\t\\t\\t\\t</span>\\n\\t\\t\\t</td>\\n\\t\\t\\t\\t\\t<td class=\"num\"><span class=\"tah p11\">443,000</span></td>\\n\\t\\t\\t\\t\\t<td class=\"num\"><span class=\"tah p11\">449,500</span></td>\\n\\t\\t\\t\\t\\t<td class=\"num\"><span class=\"tah p11\">438,500</span></td>\\n\\t\\t\\t\\t\\t<td class=\"num\"><span class=\"tah p11\">704,307</span></td>\\n\\t\\t\\t\\t\\t</tr>\\n\\t\\t\\t\\t\\n\\t\\t\\t\\t\\n\\t\\t\\t\\n\\t\\t\\t\\n\\t\\t\\t\\n\\t\\t\\t\\n\\t\\t\\t\\t<tr>\\n\\t\\t\\t\\t<td colspan=\"7\" height=\"8\"></td>\\n\\t\\t\\t\\t</tr>\\n\\t\\t\\t\\t<tr>\\n\\t\\t\\t\\t<td colspan=\"7\" height=\"1\" bgcolor=\"#e1e1e1\"></td>\\n\\t\\t\\t\\t</tr>\\n\\t\\t\\t\\t<tr>\\n\\t\\t\\t\\t<td colspan=\"7\" height=\"8\"></td>\\n\\t\\t\\t\\t</tr>\\n\\t\\t\\t\\n\\t\\t\\t\\n\\t\\n\\t\\t\\n\\t\\t\\t\\n\\t\\t\\t\\t\\n\\t\\t\\t\\t\\t<tr onMouseOver=\"mouseOver(this)\" onMouseOut=\"mouseOut(this)\">\\n\\t\\t\\t\\t\\t<td align=\"center\"><span class=\"tah p10 gray03\">2021.07.16</span></td>\\n\\t\\t\\t\\t\\t<td class=\"num\"><span class=\"tah p11\">447,000</span></td>\\n\\t\\t\\t\\t\\t<td class=\"num\">\\n\\t\\t\\t\\t<img src=\"https://ssl.pstatic.net/imgstock/images/images4/ico_down.gif\" width=\"7\" height=\"6\" style=\"margin-right:4px;\" alt=\"하락\"><span class=\"tah p11 nv01\">\\n\\t\\t\\t\\t2,000\\n\\t\\t\\t\\t</span>\\n\\t\\t\\t</td>\\n\\t\\t\\t\\t\\t<td class=\"num\"><span class=\"tah p11\">448,000</span></td>\\n\\t\\t\\t\\t\\t<td class=\"num\"><span class=\"tah p11\">461,000</span></td>\\n\\t\\t\\t\\t\\t<td class=\"num\"><span class=\"tah p11\">443,000</span></td>\\n\\t\\t\\t\\t\\t<td class=\"num\"><span class=\"tah p11\">1,246,425</span></td>\\n\\t\\t\\t\\t\\t</tr>\\n\\t\\t\\t\\t\\n\\t\\t\\t\\t\\n\\t\\t\\t\\n\\t\\t\\t\\n\\t\\t\\t\\n\\t\\t\\t\\n\\t\\t\\t\\n\\t\\n\\t\\t\\n\\t\\t\\t\\n\\t\\t\\t\\t\\n\\t\\t\\t\\t\\t<tr onMouseOver=\"mouseOver(this)\" onMouseOut=\"mouseOut(this)\">\\n\\t\\t\\t\\t\\t<td align=\"center\"><span class=\"tah p10 gray03\">2021.07.15</span></td>\\n\\t\\t\\t\\t\\t<td class=\"num\"><span class=\"tah p11\">449,000</span></td>\\n\\t\\t\\t\\t\\t<td class=\"num\">\\n\\t\\t\\t\\t<img src=\"https://ssl.pstatic.net/imgstock/images/images4/ico_up.gif\" width=\"7\" height=\"6\" style=\"margin-right:4px;\" alt=\"상승\"><span class=\"tah p11 red02\">\\n\\t\\t\\t\\t5,000\\n\\t\\t\\t\\t</span>\\n\\t\\t\\t</td>\\n\\t\\t\\t\\t\\t<td class=\"num\"><span class=\"tah p11\">446,500</span></td>\\n\\t\\t\\t\\t\\t<td class=\"num\"><span class=\"tah p11\">452,500</span></td>\\n\\t\\t\\t\\t\\t<td class=\"num\"><span class=\"tah p11\">439,500</span></td>\\n\\t\\t\\t\\t\\t<td class=\"num\"><span class=\"tah p11\">950,460</span></td>\\n\\t\\t\\t\\t\\t</tr>\\n\\t\\t\\t\\t\\n\\t\\t\\t\\t\\n\\t\\t\\t\\n\\t\\t\\t\\n\\t\\t\\t\\n\\t\\t\\t\\n\\t\\t\\t\\n\\t\\n\\t\\t\\n\\t\\t\\t\\n\\t\\t\\t\\t\\n\\t\\t\\t\\t\\t<tr onMouseOver=\"mouseOver(this)\" onMouseOut=\"mouseOut(this)\">\\n\\t\\t\\t\\t\\t<td align=\"center\"><span class=\"tah p10 gray03\">2021.07.14</span></td>\\n\\t\\t\\t\\t\\t<td class=\"num\"><span class=\"tah p11\">444,000</span></td>\\n\\t\\t\\t\\t\\t<td class=\"num\">\\n\\t\\t\\t\\t<img src=\"https://ssl.pstatic.net/imgstock/images/images4/ico_up.gif\" width=\"7\" height=\"6\" style=\"margin-right:4px;\" alt=\"상승\"><span class=\"tah p11 red02\">\\n\\t\\t\\t\\t3,000\\n\\t\\t\\t\\t</span>\\n\\t\\t\\t</td>\\n\\t\\t\\t\\t\\t<td class=\"num\"><span class=\"tah p11\">436,000</span></td>\\n\\t\\t\\t\\t\\t<td class=\"num\"><span class=\"tah p11\">444,500</span></td>\\n\\t\\t\\t\\t\\t<td class=\"num\"><span class=\"tah p11\">436,000</span></td>\\n\\t\\t\\t\\t\\t<td class=\"num\"><span class=\"tah p11\">931,990</span></td>\\n\\t\\t\\t\\t\\t</tr>\\n\\t\\t\\t\\t\\n\\t\\t\\t\\t\\n\\t\\t\\t\\n\\t\\t\\t\\n\\t\\t\\t\\n\\t\\t\\t\\n\\t\\t\\t\\n\\t\\n\\t\\t\\n\\t\\t\\t\\n\\t\\t\\t\\t\\n\\t\\t\\t\\t\\t<tr onMouseOver=\"mouseOver(this)\" onMouseOut=\"mouseOut(this)\">\\n\\t\\t\\t\\t\\t<td align=\"center\"><span class=\"tah p10 gray03\">2021.07.13</span></td>\\n\\t\\t\\t\\t\\t<td class=\"num\"><span class=\"tah p11\">441,000</span></td>\\n\\t\\t\\t\\t\\t<td class=\"num\">\\n\\t\\t\\t\\t<img src=\"https://ssl.pstatic.net/imgstock/images/images4/ico_up.gif\" width=\"7\" height=\"6\" style=\"margin-right:4px;\" alt=\"상승\"><span class=\"tah p11 red02\">\\n\\t\\t\\t\\t22,500\\n\\t\\t\\t\\t</span>\\n\\t\\t\\t</td>\\n\\t\\t\\t\\t\\t<td class=\"num\"><span class=\"tah p11\">421,000</span></td>\\n\\t\\t\\t\\t\\t<td class=\"num\"><span class=\"tah p11\">442,000</span></td>\\n\\t\\t\\t\\t\\t<td class=\"num\"><span class=\"tah p11\">419,000</span></td>\\n\\t\\t\\t\\t\\t<td class=\"num\"><span class=\"tah p11\">1,498,546</span></td>\\n\\t\\t\\t\\t\\t</tr>\\n\\t\\t\\t\\t\\n\\t\\t\\t\\t\\n\\t\\t\\t\\n\\t\\t\\t\\n\\t\\t\\t\\n\\t\\t\\t\\n\\t\\t\\t\\n\\t\\n\\t\\t\\n\\t\\t\\t\\n\\t\\t\\t\\t\\n\\t\\t\\t\\t\\t<tr onMouseOver=\"mouseOver(this)\" onMouseOut=\"mouseOut(this)\">\\n\\t\\t\\t\\t\\t<td align=\"center\"><span class=\"tah p10 gray03\">2021.07.12</span></td>\\n\\t\\t\\t\\t\\t<td class=\"num\"><span class=\"tah p11\">418,500</span></td>\\n\\t\\t\\t\\t\\t<td class=\"num\">\\n\\t\\t\\t\\t<img src=\"https://ssl.pstatic.net/imgstock/images/images4/ico_up.gif\" width=\"7\" height=\"6\" style=\"margin-right:4px;\" alt=\"상승\"><span class=\"tah p11 red02\">\\n\\t\\t\\t\\t3,000\\n\\t\\t\\t\\t</span>\\n\\t\\t\\t</td>\\n\\t\\t\\t\\t\\t<td class=\"num\"><span class=\"tah p11\">418,500</span></td>\\n\\t\\t\\t\\t\\t<td class=\"num\"><span class=\"tah p11\">421,500</span></td>\\n\\t\\t\\t\\t\\t<td class=\"num\"><span class=\"tah p11\">413,000</span></td>\\n\\t\\t\\t\\t\\t<td class=\"num\"><span class=\"tah p11\">475,697</span></td>\\n\\t\\t\\t\\t\\t</tr>\\n\\t\\t\\t\\t\\n\\t\\t\\t\\t\\n\\t\\t\\t\\n\\t\\t\\t\\n\\t\\t\\t\\n\\t\\t\\t\\n\\t\\t\\t\\n\\t\\n\\t\\t\\n\\t\\n\\t\\n\\t\\n\\n\\t\\t\\t\\t<tr>\\n\\t\\t\\t\\t<td colspan=\"7\" height=\"8\"></td>\\n\\t\\t\\t\\t</tr>\\n\\t\\t\\t\\t</table>\\n\\t\\t\\t\\t<!--- 페이지 네비게이션 시작--->\\n\\t\\t\\t\\t<table summary=\"페이지 네비게이션 리스트\" class=\"Nnavi\" align=\"center\">\\n\\t\\t\\t\\t<caption>페이지 네비게이션</caption>\\n\\t\\t\\t\\t<tr>\\t\\t\\n\\t\\t\\t\\n\\t\\t\\t\\t\\n                \\n                <td class=\"on\">\\n\\t\\t\\t\\t<a href=\"/item/sise_day.nhn?code=035420&amp;page=1\"  >1</a>\\n\\t\\t\\t\\t</td>\\n<td>\\n\\t\\t\\t\\t<a href=\"/item/sise_day.nhn?code=035420&amp;page=2\"  >2</a>\\n\\t\\t\\t\\t</td>\\n<td>\\n\\t\\t\\t\\t<a href=\"/item/sise_day.nhn?code=035420&amp;page=3\"  >3</a>\\n\\t\\t\\t\\t</td>\\n<td>\\n\\t\\t\\t\\t<a href=\"/item/sise_day.nhn?code=035420&amp;page=4\"  >4</a>\\n\\t\\t\\t\\t</td>\\n<td>\\n\\t\\t\\t\\t<a href=\"/item/sise_day.nhn?code=035420&amp;page=5\"  >5</a>\\n\\t\\t\\t\\t</td>\\n<td>\\n\\t\\t\\t\\t<a href=\"/item/sise_day.nhn?code=035420&amp;page=6\"  >6</a>\\n\\t\\t\\t\\t</td>\\n<td>\\n\\t\\t\\t\\t<a href=\"/item/sise_day.nhn?code=035420&amp;page=7\"  >7</a>\\n\\t\\t\\t\\t</td>\\n<td>\\n\\t\\t\\t\\t<a href=\"/item/sise_day.nhn?code=035420&amp;page=8\"  >8</a>\\n\\t\\t\\t\\t</td>\\n<td>\\n\\t\\t\\t\\t<a href=\"/item/sise_day.nhn?code=035420&amp;page=9\"  >9</a>\\n\\t\\t\\t\\t</td>\\n<td>\\n\\t\\t\\t\\t<a href=\"/item/sise_day.nhn?code=035420&amp;page=10\"  >10</a>\\n\\t\\t\\t\\t</td>\\n\\n                <td class=\"pgR\">\\n\\t\\t\\t\\t<a href=\"/item/sise_day.nhn?code=035420&amp;page=11\"  >\\n\\t\\t\\t\\t다음<img src=\"https://ssl.pstatic.net/static/n/cmn/bu_pgarR.gif\" width=\"3\" height=\"5\" alt=\"\" border=\"0\">\\n\\t\\t\\t\\t</a>\\n\\t\\t\\t\\t</td>\\n\\n                <td class=\"pgRR\">\\n\\t\\t\\t\\t<a href=\"/item/sise_day.nhn?code=035420&amp;page=464\"  >맨뒤\\n\\t\\t\\t\\t<img src=\"https://ssl.pstatic.net/static/n/cmn/bu_pgarRR.gif\" width=\"8\" height=\"5\" alt=\"\" border=\"0\">\\n\\t\\t\\t\\t</a>\\n\\t\\t\\t\\t</td>\\n\\n            \\n\\t\\t\\t\\t</tr>\\n\\t\\t\\t\\t</table>\\n\\t\\t\\t\\t<!--- 페이지 네비게이션 끝--->\\n\\n\\n\\t<script type=\"text/javascript\" src=\"https://ssl.pstatic.net/imgstock/static.pc/20210721200146/js/jindo.min.ns.1.5.3.euckr.js\"></script>\\n\\t<script type=\"text/javascript\" src=\"https://ssl.pstatic.net/imgstock/static.pc/20210721200146/js/lcslog.js\"></script>\\n\\t<script type=\"text/javascript\">\\n        ;(function(){\\n            var eventType = \"onpageshow\" in window ? \"pageshow\" : \"load\";\\n            jindo.$Fn(function(){\\n                lcs_do();\\n            }).attach(window, eventType);\\n        })();\\n\\t</script>\\n\\n</body>'"
            ]
          },
          "metadata": {
            "tags": []
          },
          "execution_count": 4
        }
      ]
    },
    {
      "cell_type": "code",
      "metadata": {
        "colab": {
          "base_uri": "https://localhost:8080/"
        },
        "id": "az7NTA9t1GS5",
        "outputId": "1d04c51b-9301-408c-d393-279734a2d71f"
      },
      "source": [
        "html = bs(response.text,'html.parser')\n",
        "html_table = html.select(\"table\")\n",
        "len(html_table)"
      ],
      "execution_count": 5,
      "outputs": [
        {
          "output_type": "execute_result",
          "data": {
            "text/plain": [
              "2"
            ]
          },
          "metadata": {
            "tags": []
          },
          "execution_count": 5
        }
      ]
    },
    {
      "cell_type": "code",
      "metadata": {
        "colab": {
          "base_uri": "https://localhost:8080/",
          "height": 514
        },
        "id": "vZFJA7oF1zhR",
        "outputId": "aacddebd-eea3-43ee-b583-4aebfc345368"
      },
      "source": [
        "table = pd.read_html(str(html_table))\n",
        "table[0]"
      ],
      "execution_count": 6,
      "outputs": [
        {
          "output_type": "execute_result",
          "data": {
            "text/html": [
              "<div>\n",
              "<style scoped>\n",
              "    .dataframe tbody tr th:only-of-type {\n",
              "        vertical-align: middle;\n",
              "    }\n",
              "\n",
              "    .dataframe tbody tr th {\n",
              "        vertical-align: top;\n",
              "    }\n",
              "\n",
              "    .dataframe thead th {\n",
              "        text-align: right;\n",
              "    }\n",
              "</style>\n",
              "<table border=\"1\" class=\"dataframe\">\n",
              "  <thead>\n",
              "    <tr style=\"text-align: right;\">\n",
              "      <th></th>\n",
              "      <th>날짜</th>\n",
              "      <th>종가</th>\n",
              "      <th>전일비</th>\n",
              "      <th>시가</th>\n",
              "      <th>고가</th>\n",
              "      <th>저가</th>\n",
              "      <th>거래량</th>\n",
              "    </tr>\n",
              "  </thead>\n",
              "  <tbody>\n",
              "    <tr>\n",
              "      <th>0</th>\n",
              "      <td>NaN</td>\n",
              "      <td>NaN</td>\n",
              "      <td>NaN</td>\n",
              "      <td>NaN</td>\n",
              "      <td>NaN</td>\n",
              "      <td>NaN</td>\n",
              "      <td>NaN</td>\n",
              "    </tr>\n",
              "    <tr>\n",
              "      <th>1</th>\n",
              "      <td>2021.07.23</td>\n",
              "      <td>452000.0</td>\n",
              "      <td>12000.0</td>\n",
              "      <td>443500.0</td>\n",
              "      <td>454500.0</td>\n",
              "      <td>441000.0</td>\n",
              "      <td>1059964.0</td>\n",
              "    </tr>\n",
              "    <tr>\n",
              "      <th>2</th>\n",
              "      <td>2021.07.22</td>\n",
              "      <td>440000.0</td>\n",
              "      <td>12000.0</td>\n",
              "      <td>433000.0</td>\n",
              "      <td>445000.0</td>\n",
              "      <td>429000.0</td>\n",
              "      <td>1035882.0</td>\n",
              "    </tr>\n",
              "    <tr>\n",
              "      <th>3</th>\n",
              "      <td>2021.07.21</td>\n",
              "      <td>428000.0</td>\n",
              "      <td>11000.0</td>\n",
              "      <td>443000.0</td>\n",
              "      <td>446000.0</td>\n",
              "      <td>428000.0</td>\n",
              "      <td>885519.0</td>\n",
              "    </tr>\n",
              "    <tr>\n",
              "      <th>4</th>\n",
              "      <td>2021.07.20</td>\n",
              "      <td>439000.0</td>\n",
              "      <td>4000.0</td>\n",
              "      <td>438500.0</td>\n",
              "      <td>441500.0</td>\n",
              "      <td>431000.0</td>\n",
              "      <td>789090.0</td>\n",
              "    </tr>\n",
              "    <tr>\n",
              "      <th>5</th>\n",
              "      <td>2021.07.19</td>\n",
              "      <td>443000.0</td>\n",
              "      <td>4000.0</td>\n",
              "      <td>443000.0</td>\n",
              "      <td>449500.0</td>\n",
              "      <td>438500.0</td>\n",
              "      <td>704307.0</td>\n",
              "    </tr>\n",
              "    <tr>\n",
              "      <th>6</th>\n",
              "      <td>NaN</td>\n",
              "      <td>NaN</td>\n",
              "      <td>NaN</td>\n",
              "      <td>NaN</td>\n",
              "      <td>NaN</td>\n",
              "      <td>NaN</td>\n",
              "      <td>NaN</td>\n",
              "    </tr>\n",
              "    <tr>\n",
              "      <th>7</th>\n",
              "      <td>NaN</td>\n",
              "      <td>NaN</td>\n",
              "      <td>NaN</td>\n",
              "      <td>NaN</td>\n",
              "      <td>NaN</td>\n",
              "      <td>NaN</td>\n",
              "      <td>NaN</td>\n",
              "    </tr>\n",
              "    <tr>\n",
              "      <th>8</th>\n",
              "      <td>NaN</td>\n",
              "      <td>NaN</td>\n",
              "      <td>NaN</td>\n",
              "      <td>NaN</td>\n",
              "      <td>NaN</td>\n",
              "      <td>NaN</td>\n",
              "      <td>NaN</td>\n",
              "    </tr>\n",
              "    <tr>\n",
              "      <th>9</th>\n",
              "      <td>2021.07.16</td>\n",
              "      <td>447000.0</td>\n",
              "      <td>2000.0</td>\n",
              "      <td>448000.0</td>\n",
              "      <td>461000.0</td>\n",
              "      <td>443000.0</td>\n",
              "      <td>1246425.0</td>\n",
              "    </tr>\n",
              "    <tr>\n",
              "      <th>10</th>\n",
              "      <td>2021.07.15</td>\n",
              "      <td>449000.0</td>\n",
              "      <td>5000.0</td>\n",
              "      <td>446500.0</td>\n",
              "      <td>452500.0</td>\n",
              "      <td>439500.0</td>\n",
              "      <td>950460.0</td>\n",
              "    </tr>\n",
              "    <tr>\n",
              "      <th>11</th>\n",
              "      <td>2021.07.14</td>\n",
              "      <td>444000.0</td>\n",
              "      <td>3000.0</td>\n",
              "      <td>436000.0</td>\n",
              "      <td>444500.0</td>\n",
              "      <td>436000.0</td>\n",
              "      <td>931990.0</td>\n",
              "    </tr>\n",
              "    <tr>\n",
              "      <th>12</th>\n",
              "      <td>2021.07.13</td>\n",
              "      <td>441000.0</td>\n",
              "      <td>22500.0</td>\n",
              "      <td>421000.0</td>\n",
              "      <td>442000.0</td>\n",
              "      <td>419000.0</td>\n",
              "      <td>1498546.0</td>\n",
              "    </tr>\n",
              "    <tr>\n",
              "      <th>13</th>\n",
              "      <td>2021.07.12</td>\n",
              "      <td>418500.0</td>\n",
              "      <td>3000.0</td>\n",
              "      <td>418500.0</td>\n",
              "      <td>421500.0</td>\n",
              "      <td>413000.0</td>\n",
              "      <td>475697.0</td>\n",
              "    </tr>\n",
              "    <tr>\n",
              "      <th>14</th>\n",
              "      <td>NaN</td>\n",
              "      <td>NaN</td>\n",
              "      <td>NaN</td>\n",
              "      <td>NaN</td>\n",
              "      <td>NaN</td>\n",
              "      <td>NaN</td>\n",
              "      <td>NaN</td>\n",
              "    </tr>\n",
              "  </tbody>\n",
              "</table>\n",
              "</div>"
            ],
            "text/plain": [
              "            날짜        종가      전일비        시가        고가        저가        거래량\n",
              "0          NaN       NaN      NaN       NaN       NaN       NaN        NaN\n",
              "1   2021.07.23  452000.0  12000.0  443500.0  454500.0  441000.0  1059964.0\n",
              "2   2021.07.22  440000.0  12000.0  433000.0  445000.0  429000.0  1035882.0\n",
              "3   2021.07.21  428000.0  11000.0  443000.0  446000.0  428000.0   885519.0\n",
              "4   2021.07.20  439000.0   4000.0  438500.0  441500.0  431000.0   789090.0\n",
              "5   2021.07.19  443000.0   4000.0  443000.0  449500.0  438500.0   704307.0\n",
              "6          NaN       NaN      NaN       NaN       NaN       NaN        NaN\n",
              "7          NaN       NaN      NaN       NaN       NaN       NaN        NaN\n",
              "8          NaN       NaN      NaN       NaN       NaN       NaN        NaN\n",
              "9   2021.07.16  447000.0   2000.0  448000.0  461000.0  443000.0  1246425.0\n",
              "10  2021.07.15  449000.0   5000.0  446500.0  452500.0  439500.0   950460.0\n",
              "11  2021.07.14  444000.0   3000.0  436000.0  444500.0  436000.0   931990.0\n",
              "12  2021.07.13  441000.0  22500.0  421000.0  442000.0  419000.0  1498546.0\n",
              "13  2021.07.12  418500.0   3000.0  418500.0  421500.0  413000.0   475697.0\n",
              "14         NaN       NaN      NaN       NaN       NaN       NaN        NaN"
            ]
          },
          "metadata": {
            "tags": []
          },
          "execution_count": 6
        }
      ]
    },
    {
      "cell_type": "code",
      "metadata": {
        "colab": {
          "base_uri": "https://localhost:8080/",
          "height": 359
        },
        "id": "XeU9k3Dd2Mzb",
        "outputId": "e777976f-4e68-4bbf-d934-71fcc0dba1f5"
      },
      "source": [
        "table[0].dropna()"
      ],
      "execution_count": 7,
      "outputs": [
        {
          "output_type": "execute_result",
          "data": {
            "text/html": [
              "<div>\n",
              "<style scoped>\n",
              "    .dataframe tbody tr th:only-of-type {\n",
              "        vertical-align: middle;\n",
              "    }\n",
              "\n",
              "    .dataframe tbody tr th {\n",
              "        vertical-align: top;\n",
              "    }\n",
              "\n",
              "    .dataframe thead th {\n",
              "        text-align: right;\n",
              "    }\n",
              "</style>\n",
              "<table border=\"1\" class=\"dataframe\">\n",
              "  <thead>\n",
              "    <tr style=\"text-align: right;\">\n",
              "      <th></th>\n",
              "      <th>날짜</th>\n",
              "      <th>종가</th>\n",
              "      <th>전일비</th>\n",
              "      <th>시가</th>\n",
              "      <th>고가</th>\n",
              "      <th>저가</th>\n",
              "      <th>거래량</th>\n",
              "    </tr>\n",
              "  </thead>\n",
              "  <tbody>\n",
              "    <tr>\n",
              "      <th>1</th>\n",
              "      <td>2021.07.23</td>\n",
              "      <td>452000.0</td>\n",
              "      <td>12000.0</td>\n",
              "      <td>443500.0</td>\n",
              "      <td>454500.0</td>\n",
              "      <td>441000.0</td>\n",
              "      <td>1059964.0</td>\n",
              "    </tr>\n",
              "    <tr>\n",
              "      <th>2</th>\n",
              "      <td>2021.07.22</td>\n",
              "      <td>440000.0</td>\n",
              "      <td>12000.0</td>\n",
              "      <td>433000.0</td>\n",
              "      <td>445000.0</td>\n",
              "      <td>429000.0</td>\n",
              "      <td>1035882.0</td>\n",
              "    </tr>\n",
              "    <tr>\n",
              "      <th>3</th>\n",
              "      <td>2021.07.21</td>\n",
              "      <td>428000.0</td>\n",
              "      <td>11000.0</td>\n",
              "      <td>443000.0</td>\n",
              "      <td>446000.0</td>\n",
              "      <td>428000.0</td>\n",
              "      <td>885519.0</td>\n",
              "    </tr>\n",
              "    <tr>\n",
              "      <th>4</th>\n",
              "      <td>2021.07.20</td>\n",
              "      <td>439000.0</td>\n",
              "      <td>4000.0</td>\n",
              "      <td>438500.0</td>\n",
              "      <td>441500.0</td>\n",
              "      <td>431000.0</td>\n",
              "      <td>789090.0</td>\n",
              "    </tr>\n",
              "    <tr>\n",
              "      <th>5</th>\n",
              "      <td>2021.07.19</td>\n",
              "      <td>443000.0</td>\n",
              "      <td>4000.0</td>\n",
              "      <td>443000.0</td>\n",
              "      <td>449500.0</td>\n",
              "      <td>438500.0</td>\n",
              "      <td>704307.0</td>\n",
              "    </tr>\n",
              "    <tr>\n",
              "      <th>9</th>\n",
              "      <td>2021.07.16</td>\n",
              "      <td>447000.0</td>\n",
              "      <td>2000.0</td>\n",
              "      <td>448000.0</td>\n",
              "      <td>461000.0</td>\n",
              "      <td>443000.0</td>\n",
              "      <td>1246425.0</td>\n",
              "    </tr>\n",
              "    <tr>\n",
              "      <th>10</th>\n",
              "      <td>2021.07.15</td>\n",
              "      <td>449000.0</td>\n",
              "      <td>5000.0</td>\n",
              "      <td>446500.0</td>\n",
              "      <td>452500.0</td>\n",
              "      <td>439500.0</td>\n",
              "      <td>950460.0</td>\n",
              "    </tr>\n",
              "    <tr>\n",
              "      <th>11</th>\n",
              "      <td>2021.07.14</td>\n",
              "      <td>444000.0</td>\n",
              "      <td>3000.0</td>\n",
              "      <td>436000.0</td>\n",
              "      <td>444500.0</td>\n",
              "      <td>436000.0</td>\n",
              "      <td>931990.0</td>\n",
              "    </tr>\n",
              "    <tr>\n",
              "      <th>12</th>\n",
              "      <td>2021.07.13</td>\n",
              "      <td>441000.0</td>\n",
              "      <td>22500.0</td>\n",
              "      <td>421000.0</td>\n",
              "      <td>442000.0</td>\n",
              "      <td>419000.0</td>\n",
              "      <td>1498546.0</td>\n",
              "    </tr>\n",
              "    <tr>\n",
              "      <th>13</th>\n",
              "      <td>2021.07.12</td>\n",
              "      <td>418500.0</td>\n",
              "      <td>3000.0</td>\n",
              "      <td>418500.0</td>\n",
              "      <td>421500.0</td>\n",
              "      <td>413000.0</td>\n",
              "      <td>475697.0</td>\n",
              "    </tr>\n",
              "  </tbody>\n",
              "</table>\n",
              "</div>"
            ],
            "text/plain": [
              "            날짜        종가      전일비        시가        고가        저가        거래량\n",
              "1   2021.07.23  452000.0  12000.0  443500.0  454500.0  441000.0  1059964.0\n",
              "2   2021.07.22  440000.0  12000.0  433000.0  445000.0  429000.0  1035882.0\n",
              "3   2021.07.21  428000.0  11000.0  443000.0  446000.0  428000.0   885519.0\n",
              "4   2021.07.20  439000.0   4000.0  438500.0  441500.0  431000.0   789090.0\n",
              "5   2021.07.19  443000.0   4000.0  443000.0  449500.0  438500.0   704307.0\n",
              "9   2021.07.16  447000.0   2000.0  448000.0  461000.0  443000.0  1246425.0\n",
              "10  2021.07.15  449000.0   5000.0  446500.0  452500.0  439500.0   950460.0\n",
              "11  2021.07.14  444000.0   3000.0  436000.0  444500.0  436000.0   931990.0\n",
              "12  2021.07.13  441000.0  22500.0  421000.0  442000.0  419000.0  1498546.0\n",
              "13  2021.07.12  418500.0   3000.0  418500.0  421500.0  413000.0   475697.0"
            ]
          },
          "metadata": {
            "tags": []
          },
          "execution_count": 7
        }
      ]
    },
    {
      "cell_type": "markdown",
      "metadata": {
        "id": "rcKSUohE2Q_O"
      },
      "source": [
        "```table[0]```는 dropna로 결측치 제거 필요"
      ]
    },
    {
      "cell_type": "code",
      "metadata": {
        "colab": {
          "base_uri": "https://localhost:8080/",
          "height": 80
        },
        "id": "-89uq6z916Yl",
        "outputId": "6b0fa3b3-fee6-4be3-e1a2-230f0c858a4c"
      },
      "source": [
        "table[1]"
      ],
      "execution_count": 8,
      "outputs": [
        {
          "output_type": "execute_result",
          "data": {
            "text/html": [
              "<div>\n",
              "<style scoped>\n",
              "    .dataframe tbody tr th:only-of-type {\n",
              "        vertical-align: middle;\n",
              "    }\n",
              "\n",
              "    .dataframe tbody tr th {\n",
              "        vertical-align: top;\n",
              "    }\n",
              "\n",
              "    .dataframe thead th {\n",
              "        text-align: right;\n",
              "    }\n",
              "</style>\n",
              "<table border=\"1\" class=\"dataframe\">\n",
              "  <thead>\n",
              "    <tr style=\"text-align: right;\">\n",
              "      <th></th>\n",
              "      <th>0</th>\n",
              "      <th>1</th>\n",
              "      <th>2</th>\n",
              "      <th>3</th>\n",
              "      <th>4</th>\n",
              "      <th>5</th>\n",
              "      <th>6</th>\n",
              "      <th>7</th>\n",
              "      <th>8</th>\n",
              "      <th>9</th>\n",
              "      <th>10</th>\n",
              "      <th>11</th>\n",
              "    </tr>\n",
              "  </thead>\n",
              "  <tbody>\n",
              "    <tr>\n",
              "      <th>0</th>\n",
              "      <td>1</td>\n",
              "      <td>2</td>\n",
              "      <td>3</td>\n",
              "      <td>4</td>\n",
              "      <td>5</td>\n",
              "      <td>6</td>\n",
              "      <td>7</td>\n",
              "      <td>8</td>\n",
              "      <td>9</td>\n",
              "      <td>10</td>\n",
              "      <td>다음</td>\n",
              "      <td>맨뒤</td>\n",
              "    </tr>\n",
              "  </tbody>\n",
              "</table>\n",
              "</div>"
            ],
            "text/plain": [
              "   0   1   2   3   4   5   6   7   8   9   10  11\n",
              "0   1   2   3   4   5   6   7   8   9  10  다음  맨뒤"
            ]
          },
          "metadata": {
            "tags": []
          },
          "execution_count": 8
        }
      ]
    },
    {
      "cell_type": "markdown",
      "metadata": {
        "id": "E4KHShyp2F79"
      },
      "source": [
        "```table[1]```은 필요 없음"
      ]
    },
    {
      "cell_type": "code",
      "metadata": {
        "colab": {
          "base_uri": "https://localhost:8080/"
        },
        "id": "G4l0N9JV18I6",
        "outputId": "2b2ec2c9-01e3-4b4c-d1a6-c9db98dece62"
      },
      "source": [
        "table[0].info()"
      ],
      "execution_count": 9,
      "outputs": [
        {
          "output_type": "stream",
          "text": [
            "<class 'pandas.core.frame.DataFrame'>\n",
            "RangeIndex: 15 entries, 0 to 14\n",
            "Data columns (total 7 columns):\n",
            " #   Column  Non-Null Count  Dtype  \n",
            "---  ------  --------------  -----  \n",
            " 0   날짜      10 non-null     object \n",
            " 1   종가      10 non-null     float64\n",
            " 2   전일비     10 non-null     float64\n",
            " 3   시가      10 non-null     float64\n",
            " 4   고가      10 non-null     float64\n",
            " 5   저가      10 non-null     float64\n",
            " 6   거래량     10 non-null     float64\n",
            "dtypes: float64(6), object(1)\n",
            "memory usage: 968.0+ bytes\n"
          ],
          "name": "stdout"
        }
      ]
    },
    {
      "cell_type": "code",
      "metadata": {
        "colab": {
          "base_uri": "https://localhost:8080/"
        },
        "id": "0Qi4IMGB2fVm",
        "outputId": "e90e61c6-6ba4-4a42-b706-e91aeeff07ee"
      },
      "source": [
        "df = pd.DataFrame()\n",
        "default_url = \"https://finance.naver.com/item/sise_day.nhn?code=035420\"\n",
        "for page in range(1,100): #99페이지에 대해 데이터 가져오기\n",
        "  url = \"{}&page={}\".format(default_url, page)\n",
        "  print(url)\n",
        "\n",
        "  response = requests.get(url, headers = headers)\n",
        "  html = bs(response.text,'html.parser')\n",
        "  html_table = html.select(\"table\")\n",
        "  table = pd.read_html(str(html_table))\n",
        "\n",
        "  df = df.append(table[0].dropna())"
      ],
      "execution_count": 10,
      "outputs": [
        {
          "output_type": "stream",
          "text": [
            "https://finance.naver.com/item/sise_day.nhn?code=035420&page=1\n",
            "https://finance.naver.com/item/sise_day.nhn?code=035420&page=2\n",
            "https://finance.naver.com/item/sise_day.nhn?code=035420&page=3\n",
            "https://finance.naver.com/item/sise_day.nhn?code=035420&page=4\n",
            "https://finance.naver.com/item/sise_day.nhn?code=035420&page=5\n",
            "https://finance.naver.com/item/sise_day.nhn?code=035420&page=6\n",
            "https://finance.naver.com/item/sise_day.nhn?code=035420&page=7\n",
            "https://finance.naver.com/item/sise_day.nhn?code=035420&page=8\n",
            "https://finance.naver.com/item/sise_day.nhn?code=035420&page=9\n",
            "https://finance.naver.com/item/sise_day.nhn?code=035420&page=10\n",
            "https://finance.naver.com/item/sise_day.nhn?code=035420&page=11\n",
            "https://finance.naver.com/item/sise_day.nhn?code=035420&page=12\n",
            "https://finance.naver.com/item/sise_day.nhn?code=035420&page=13\n",
            "https://finance.naver.com/item/sise_day.nhn?code=035420&page=14\n",
            "https://finance.naver.com/item/sise_day.nhn?code=035420&page=15\n",
            "https://finance.naver.com/item/sise_day.nhn?code=035420&page=16\n",
            "https://finance.naver.com/item/sise_day.nhn?code=035420&page=17\n",
            "https://finance.naver.com/item/sise_day.nhn?code=035420&page=18\n",
            "https://finance.naver.com/item/sise_day.nhn?code=035420&page=19\n",
            "https://finance.naver.com/item/sise_day.nhn?code=035420&page=20\n",
            "https://finance.naver.com/item/sise_day.nhn?code=035420&page=21\n",
            "https://finance.naver.com/item/sise_day.nhn?code=035420&page=22\n",
            "https://finance.naver.com/item/sise_day.nhn?code=035420&page=23\n",
            "https://finance.naver.com/item/sise_day.nhn?code=035420&page=24\n",
            "https://finance.naver.com/item/sise_day.nhn?code=035420&page=25\n",
            "https://finance.naver.com/item/sise_day.nhn?code=035420&page=26\n",
            "https://finance.naver.com/item/sise_day.nhn?code=035420&page=27\n",
            "https://finance.naver.com/item/sise_day.nhn?code=035420&page=28\n",
            "https://finance.naver.com/item/sise_day.nhn?code=035420&page=29\n",
            "https://finance.naver.com/item/sise_day.nhn?code=035420&page=30\n",
            "https://finance.naver.com/item/sise_day.nhn?code=035420&page=31\n",
            "https://finance.naver.com/item/sise_day.nhn?code=035420&page=32\n",
            "https://finance.naver.com/item/sise_day.nhn?code=035420&page=33\n",
            "https://finance.naver.com/item/sise_day.nhn?code=035420&page=34\n",
            "https://finance.naver.com/item/sise_day.nhn?code=035420&page=35\n",
            "https://finance.naver.com/item/sise_day.nhn?code=035420&page=36\n",
            "https://finance.naver.com/item/sise_day.nhn?code=035420&page=37\n",
            "https://finance.naver.com/item/sise_day.nhn?code=035420&page=38\n",
            "https://finance.naver.com/item/sise_day.nhn?code=035420&page=39\n",
            "https://finance.naver.com/item/sise_day.nhn?code=035420&page=40\n",
            "https://finance.naver.com/item/sise_day.nhn?code=035420&page=41\n",
            "https://finance.naver.com/item/sise_day.nhn?code=035420&page=42\n",
            "https://finance.naver.com/item/sise_day.nhn?code=035420&page=43\n",
            "https://finance.naver.com/item/sise_day.nhn?code=035420&page=44\n",
            "https://finance.naver.com/item/sise_day.nhn?code=035420&page=45\n",
            "https://finance.naver.com/item/sise_day.nhn?code=035420&page=46\n",
            "https://finance.naver.com/item/sise_day.nhn?code=035420&page=47\n",
            "https://finance.naver.com/item/sise_day.nhn?code=035420&page=48\n",
            "https://finance.naver.com/item/sise_day.nhn?code=035420&page=49\n",
            "https://finance.naver.com/item/sise_day.nhn?code=035420&page=50\n",
            "https://finance.naver.com/item/sise_day.nhn?code=035420&page=51\n",
            "https://finance.naver.com/item/sise_day.nhn?code=035420&page=52\n",
            "https://finance.naver.com/item/sise_day.nhn?code=035420&page=53\n",
            "https://finance.naver.com/item/sise_day.nhn?code=035420&page=54\n",
            "https://finance.naver.com/item/sise_day.nhn?code=035420&page=55\n",
            "https://finance.naver.com/item/sise_day.nhn?code=035420&page=56\n",
            "https://finance.naver.com/item/sise_day.nhn?code=035420&page=57\n",
            "https://finance.naver.com/item/sise_day.nhn?code=035420&page=58\n",
            "https://finance.naver.com/item/sise_day.nhn?code=035420&page=59\n",
            "https://finance.naver.com/item/sise_day.nhn?code=035420&page=60\n",
            "https://finance.naver.com/item/sise_day.nhn?code=035420&page=61\n",
            "https://finance.naver.com/item/sise_day.nhn?code=035420&page=62\n",
            "https://finance.naver.com/item/sise_day.nhn?code=035420&page=63\n",
            "https://finance.naver.com/item/sise_day.nhn?code=035420&page=64\n",
            "https://finance.naver.com/item/sise_day.nhn?code=035420&page=65\n",
            "https://finance.naver.com/item/sise_day.nhn?code=035420&page=66\n",
            "https://finance.naver.com/item/sise_day.nhn?code=035420&page=67\n",
            "https://finance.naver.com/item/sise_day.nhn?code=035420&page=68\n",
            "https://finance.naver.com/item/sise_day.nhn?code=035420&page=69\n",
            "https://finance.naver.com/item/sise_day.nhn?code=035420&page=70\n",
            "https://finance.naver.com/item/sise_day.nhn?code=035420&page=71\n",
            "https://finance.naver.com/item/sise_day.nhn?code=035420&page=72\n",
            "https://finance.naver.com/item/sise_day.nhn?code=035420&page=73\n",
            "https://finance.naver.com/item/sise_day.nhn?code=035420&page=74\n",
            "https://finance.naver.com/item/sise_day.nhn?code=035420&page=75\n",
            "https://finance.naver.com/item/sise_day.nhn?code=035420&page=76\n",
            "https://finance.naver.com/item/sise_day.nhn?code=035420&page=77\n",
            "https://finance.naver.com/item/sise_day.nhn?code=035420&page=78\n",
            "https://finance.naver.com/item/sise_day.nhn?code=035420&page=79\n",
            "https://finance.naver.com/item/sise_day.nhn?code=035420&page=80\n",
            "https://finance.naver.com/item/sise_day.nhn?code=035420&page=81\n",
            "https://finance.naver.com/item/sise_day.nhn?code=035420&page=82\n",
            "https://finance.naver.com/item/sise_day.nhn?code=035420&page=83\n",
            "https://finance.naver.com/item/sise_day.nhn?code=035420&page=84\n",
            "https://finance.naver.com/item/sise_day.nhn?code=035420&page=85\n",
            "https://finance.naver.com/item/sise_day.nhn?code=035420&page=86\n",
            "https://finance.naver.com/item/sise_day.nhn?code=035420&page=87\n",
            "https://finance.naver.com/item/sise_day.nhn?code=035420&page=88\n",
            "https://finance.naver.com/item/sise_day.nhn?code=035420&page=89\n",
            "https://finance.naver.com/item/sise_day.nhn?code=035420&page=90\n",
            "https://finance.naver.com/item/sise_day.nhn?code=035420&page=91\n",
            "https://finance.naver.com/item/sise_day.nhn?code=035420&page=92\n",
            "https://finance.naver.com/item/sise_day.nhn?code=035420&page=93\n",
            "https://finance.naver.com/item/sise_day.nhn?code=035420&page=94\n",
            "https://finance.naver.com/item/sise_day.nhn?code=035420&page=95\n",
            "https://finance.naver.com/item/sise_day.nhn?code=035420&page=96\n",
            "https://finance.naver.com/item/sise_day.nhn?code=035420&page=97\n",
            "https://finance.naver.com/item/sise_day.nhn?code=035420&page=98\n",
            "https://finance.naver.com/item/sise_day.nhn?code=035420&page=99\n"
          ],
          "name": "stdout"
        }
      ]
    },
    {
      "cell_type": "code",
      "metadata": {
        "colab": {
          "base_uri": "https://localhost:8080/",
          "height": 419
        },
        "id": "EylUSiET3k1l",
        "outputId": "503df042-f3e8-412c-99b5-29c99c59607d"
      },
      "source": [
        "df"
      ],
      "execution_count": 11,
      "outputs": [
        {
          "output_type": "execute_result",
          "data": {
            "text/html": [
              "<div>\n",
              "<style scoped>\n",
              "    .dataframe tbody tr th:only-of-type {\n",
              "        vertical-align: middle;\n",
              "    }\n",
              "\n",
              "    .dataframe tbody tr th {\n",
              "        vertical-align: top;\n",
              "    }\n",
              "\n",
              "    .dataframe thead th {\n",
              "        text-align: right;\n",
              "    }\n",
              "</style>\n",
              "<table border=\"1\" class=\"dataframe\">\n",
              "  <thead>\n",
              "    <tr style=\"text-align: right;\">\n",
              "      <th></th>\n",
              "      <th>날짜</th>\n",
              "      <th>종가</th>\n",
              "      <th>전일비</th>\n",
              "      <th>시가</th>\n",
              "      <th>고가</th>\n",
              "      <th>저가</th>\n",
              "      <th>거래량</th>\n",
              "    </tr>\n",
              "  </thead>\n",
              "  <tbody>\n",
              "    <tr>\n",
              "      <th>1</th>\n",
              "      <td>2021.07.23</td>\n",
              "      <td>452000.0</td>\n",
              "      <td>12000.0</td>\n",
              "      <td>443500.0</td>\n",
              "      <td>454500.0</td>\n",
              "      <td>441000.0</td>\n",
              "      <td>1059964.0</td>\n",
              "    </tr>\n",
              "    <tr>\n",
              "      <th>2</th>\n",
              "      <td>2021.07.22</td>\n",
              "      <td>440000.0</td>\n",
              "      <td>12000.0</td>\n",
              "      <td>433000.0</td>\n",
              "      <td>445000.0</td>\n",
              "      <td>429000.0</td>\n",
              "      <td>1035882.0</td>\n",
              "    </tr>\n",
              "    <tr>\n",
              "      <th>3</th>\n",
              "      <td>2021.07.21</td>\n",
              "      <td>428000.0</td>\n",
              "      <td>11000.0</td>\n",
              "      <td>443000.0</td>\n",
              "      <td>446000.0</td>\n",
              "      <td>428000.0</td>\n",
              "      <td>885519.0</td>\n",
              "    </tr>\n",
              "    <tr>\n",
              "      <th>4</th>\n",
              "      <td>2021.07.20</td>\n",
              "      <td>439000.0</td>\n",
              "      <td>4000.0</td>\n",
              "      <td>438500.0</td>\n",
              "      <td>441500.0</td>\n",
              "      <td>431000.0</td>\n",
              "      <td>789090.0</td>\n",
              "    </tr>\n",
              "    <tr>\n",
              "      <th>5</th>\n",
              "      <td>2021.07.19</td>\n",
              "      <td>443000.0</td>\n",
              "      <td>4000.0</td>\n",
              "      <td>443000.0</td>\n",
              "      <td>449500.0</td>\n",
              "      <td>438500.0</td>\n",
              "      <td>704307.0</td>\n",
              "    </tr>\n",
              "    <tr>\n",
              "      <th>...</th>\n",
              "      <td>...</td>\n",
              "      <td>...</td>\n",
              "      <td>...</td>\n",
              "      <td>...</td>\n",
              "      <td>...</td>\n",
              "      <td>...</td>\n",
              "      <td>...</td>\n",
              "    </tr>\n",
              "    <tr>\n",
              "      <th>9</th>\n",
              "      <td>2017.07.20</td>\n",
              "      <td>835000.0</td>\n",
              "      <td>0.0</td>\n",
              "      <td>833000.0</td>\n",
              "      <td>842000.0</td>\n",
              "      <td>827000.0</td>\n",
              "      <td>63638.0</td>\n",
              "    </tr>\n",
              "    <tr>\n",
              "      <th>10</th>\n",
              "      <td>2017.07.19</td>\n",
              "      <td>835000.0</td>\n",
              "      <td>5000.0</td>\n",
              "      <td>831000.0</td>\n",
              "      <td>842000.0</td>\n",
              "      <td>830000.0</td>\n",
              "      <td>69438.0</td>\n",
              "    </tr>\n",
              "    <tr>\n",
              "      <th>11</th>\n",
              "      <td>2017.07.18</td>\n",
              "      <td>830000.0</td>\n",
              "      <td>9000.0</td>\n",
              "      <td>841000.0</td>\n",
              "      <td>844000.0</td>\n",
              "      <td>826000.0</td>\n",
              "      <td>63292.0</td>\n",
              "    </tr>\n",
              "    <tr>\n",
              "      <th>12</th>\n",
              "      <td>2017.07.17</td>\n",
              "      <td>839000.0</td>\n",
              "      <td>0.0</td>\n",
              "      <td>840000.0</td>\n",
              "      <td>844000.0</td>\n",
              "      <td>835000.0</td>\n",
              "      <td>84952.0</td>\n",
              "    </tr>\n",
              "    <tr>\n",
              "      <th>13</th>\n",
              "      <td>2017.07.14</td>\n",
              "      <td>839000.0</td>\n",
              "      <td>9000.0</td>\n",
              "      <td>829000.0</td>\n",
              "      <td>839000.0</td>\n",
              "      <td>826000.0</td>\n",
              "      <td>98662.0</td>\n",
              "    </tr>\n",
              "  </tbody>\n",
              "</table>\n",
              "<p>990 rows × 7 columns</p>\n",
              "</div>"
            ],
            "text/plain": [
              "            날짜        종가      전일비        시가        고가        저가        거래량\n",
              "1   2021.07.23  452000.0  12000.0  443500.0  454500.0  441000.0  1059964.0\n",
              "2   2021.07.22  440000.0  12000.0  433000.0  445000.0  429000.0  1035882.0\n",
              "3   2021.07.21  428000.0  11000.0  443000.0  446000.0  428000.0   885519.0\n",
              "4   2021.07.20  439000.0   4000.0  438500.0  441500.0  431000.0   789090.0\n",
              "5   2021.07.19  443000.0   4000.0  443000.0  449500.0  438500.0   704307.0\n",
              "..         ...       ...      ...       ...       ...       ...        ...\n",
              "9   2017.07.20  835000.0      0.0  833000.0  842000.0  827000.0    63638.0\n",
              "10  2017.07.19  835000.0   5000.0  831000.0  842000.0  830000.0    69438.0\n",
              "11  2017.07.18  830000.0   9000.0  841000.0  844000.0  826000.0    63292.0\n",
              "12  2017.07.17  839000.0      0.0  840000.0  844000.0  835000.0    84952.0\n",
              "13  2017.07.14  839000.0   9000.0  829000.0  839000.0  826000.0    98662.0\n",
              "\n",
              "[990 rows x 7 columns]"
            ]
          },
          "metadata": {
            "tags": []
          },
          "execution_count": 11
        }
      ]
    },
    {
      "cell_type": "markdown",
      "metadata": {
        "id": "8psogd7130EI"
      },
      "source": [
        "## Matplotlib 차트"
      ]
    },
    {
      "cell_type": "code",
      "metadata": {
        "colab": {
          "base_uri": "https://localhost:8080/"
        },
        "id": "sAG9L9Jc3pud",
        "outputId": "317004f1-0c10-413a-ed50-b0cb1bc5cf63"
      },
      "source": [
        "df.isnull().info()"
      ],
      "execution_count": 12,
      "outputs": [
        {
          "output_type": "stream",
          "text": [
            "<class 'pandas.core.frame.DataFrame'>\n",
            "Int64Index: 990 entries, 1 to 13\n",
            "Data columns (total 7 columns):\n",
            " #   Column  Non-Null Count  Dtype\n",
            "---  ------  --------------  -----\n",
            " 0   날짜      990 non-null    bool \n",
            " 1   종가      990 non-null    bool \n",
            " 2   전일비     990 non-null    bool \n",
            " 3   시가      990 non-null    bool \n",
            " 4   고가      990 non-null    bool \n",
            " 5   저가      990 non-null    bool \n",
            " 6   거래량     990 non-null    bool \n",
            "dtypes: bool(7)\n",
            "memory usage: 14.5 KB\n"
          ],
          "name": "stdout"
        }
      ]
    },
    {
      "cell_type": "markdown",
      "metadata": {
        "id": "e7gkFYcv37uM"
      },
      "source": [
        "**최근 데이터 30행**만 사용하고 **날짜를 오름차순으**로 변경"
      ]
    },
    {
      "cell_type": "code",
      "metadata": {
        "colab": {
          "base_uri": "https://localhost:8080/",
          "height": 979
        },
        "id": "7FP6SXh34NvF",
        "outputId": "c1760c0e-0f11-4dbc-c868-303bf6e16bd7"
      },
      "source": [
        "df = df.iloc[0:30]\n",
        "df = df.sort_values(by='날짜')\n",
        "df"
      ],
      "execution_count": 13,
      "outputs": [
        {
          "output_type": "execute_result",
          "data": {
            "text/html": [
              "<div>\n",
              "<style scoped>\n",
              "    .dataframe tbody tr th:only-of-type {\n",
              "        vertical-align: middle;\n",
              "    }\n",
              "\n",
              "    .dataframe tbody tr th {\n",
              "        vertical-align: top;\n",
              "    }\n",
              "\n",
              "    .dataframe thead th {\n",
              "        text-align: right;\n",
              "    }\n",
              "</style>\n",
              "<table border=\"1\" class=\"dataframe\">\n",
              "  <thead>\n",
              "    <tr style=\"text-align: right;\">\n",
              "      <th></th>\n",
              "      <th>날짜</th>\n",
              "      <th>종가</th>\n",
              "      <th>전일비</th>\n",
              "      <th>시가</th>\n",
              "      <th>고가</th>\n",
              "      <th>저가</th>\n",
              "      <th>거래량</th>\n",
              "    </tr>\n",
              "  </thead>\n",
              "  <tbody>\n",
              "    <tr>\n",
              "      <th>13</th>\n",
              "      <td>2021.06.14</td>\n",
              "      <td>387000.0</td>\n",
              "      <td>14500.0</td>\n",
              "      <td>377500.0</td>\n",
              "      <td>388000.0</td>\n",
              "      <td>375500.0</td>\n",
              "      <td>1208589.0</td>\n",
              "    </tr>\n",
              "    <tr>\n",
              "      <th>12</th>\n",
              "      <td>2021.06.15</td>\n",
              "      <td>387000.0</td>\n",
              "      <td>0.0</td>\n",
              "      <td>387000.0</td>\n",
              "      <td>389000.0</td>\n",
              "      <td>381500.0</td>\n",
              "      <td>625594.0</td>\n",
              "    </tr>\n",
              "    <tr>\n",
              "      <th>11</th>\n",
              "      <td>2021.06.16</td>\n",
              "      <td>391000.0</td>\n",
              "      <td>4000.0</td>\n",
              "      <td>384500.0</td>\n",
              "      <td>395000.0</td>\n",
              "      <td>383000.0</td>\n",
              "      <td>836281.0</td>\n",
              "    </tr>\n",
              "    <tr>\n",
              "      <th>10</th>\n",
              "      <td>2021.06.17</td>\n",
              "      <td>389500.0</td>\n",
              "      <td>1500.0</td>\n",
              "      <td>389500.0</td>\n",
              "      <td>394500.0</td>\n",
              "      <td>385000.0</td>\n",
              "      <td>670522.0</td>\n",
              "    </tr>\n",
              "    <tr>\n",
              "      <th>9</th>\n",
              "      <td>2021.06.18</td>\n",
              "      <td>398000.0</td>\n",
              "      <td>8500.0</td>\n",
              "      <td>391500.0</td>\n",
              "      <td>400500.0</td>\n",
              "      <td>391000.0</td>\n",
              "      <td>1268656.0</td>\n",
              "    </tr>\n",
              "    <tr>\n",
              "      <th>5</th>\n",
              "      <td>2021.06.21</td>\n",
              "      <td>397000.0</td>\n",
              "      <td>1000.0</td>\n",
              "      <td>398000.0</td>\n",
              "      <td>402000.0</td>\n",
              "      <td>392000.0</td>\n",
              "      <td>809114.0</td>\n",
              "    </tr>\n",
              "    <tr>\n",
              "      <th>4</th>\n",
              "      <td>2021.06.22</td>\n",
              "      <td>391000.0</td>\n",
              "      <td>6000.0</td>\n",
              "      <td>400000.0</td>\n",
              "      <td>400500.0</td>\n",
              "      <td>391000.0</td>\n",
              "      <td>702840.0</td>\n",
              "    </tr>\n",
              "    <tr>\n",
              "      <th>3</th>\n",
              "      <td>2021.06.23</td>\n",
              "      <td>423500.0</td>\n",
              "      <td>32500.0</td>\n",
              "      <td>393000.0</td>\n",
              "      <td>427000.0</td>\n",
              "      <td>392500.0</td>\n",
              "      <td>2721355.0</td>\n",
              "    </tr>\n",
              "    <tr>\n",
              "      <th>2</th>\n",
              "      <td>2021.06.24</td>\n",
              "      <td>419500.0</td>\n",
              "      <td>4000.0</td>\n",
              "      <td>430000.0</td>\n",
              "      <td>436000.0</td>\n",
              "      <td>413000.0</td>\n",
              "      <td>2143286.0</td>\n",
              "    </tr>\n",
              "    <tr>\n",
              "      <th>1</th>\n",
              "      <td>2021.06.25</td>\n",
              "      <td>410000.0</td>\n",
              "      <td>9500.0</td>\n",
              "      <td>420000.0</td>\n",
              "      <td>420000.0</td>\n",
              "      <td>405000.0</td>\n",
              "      <td>1382051.0</td>\n",
              "    </tr>\n",
              "    <tr>\n",
              "      <th>13</th>\n",
              "      <td>2021.06.28</td>\n",
              "      <td>408000.0</td>\n",
              "      <td>2000.0</td>\n",
              "      <td>406000.0</td>\n",
              "      <td>413000.0</td>\n",
              "      <td>403000.0</td>\n",
              "      <td>623480.0</td>\n",
              "    </tr>\n",
              "    <tr>\n",
              "      <th>12</th>\n",
              "      <td>2021.06.29</td>\n",
              "      <td>411500.0</td>\n",
              "      <td>3500.0</td>\n",
              "      <td>409500.0</td>\n",
              "      <td>411500.0</td>\n",
              "      <td>406000.0</td>\n",
              "      <td>572319.0</td>\n",
              "    </tr>\n",
              "    <tr>\n",
              "      <th>11</th>\n",
              "      <td>2021.06.30</td>\n",
              "      <td>417500.0</td>\n",
              "      <td>6000.0</td>\n",
              "      <td>415000.0</td>\n",
              "      <td>425000.0</td>\n",
              "      <td>409000.0</td>\n",
              "      <td>955297.0</td>\n",
              "    </tr>\n",
              "    <tr>\n",
              "      <th>10</th>\n",
              "      <td>2021.07.01</td>\n",
              "      <td>413000.0</td>\n",
              "      <td>4500.0</td>\n",
              "      <td>418000.0</td>\n",
              "      <td>423500.0</td>\n",
              "      <td>410500.0</td>\n",
              "      <td>592869.0</td>\n",
              "    </tr>\n",
              "    <tr>\n",
              "      <th>9</th>\n",
              "      <td>2021.07.02</td>\n",
              "      <td>414000.0</td>\n",
              "      <td>1000.0</td>\n",
              "      <td>412500.0</td>\n",
              "      <td>418500.0</td>\n",
              "      <td>407000.0</td>\n",
              "      <td>517934.0</td>\n",
              "    </tr>\n",
              "    <tr>\n",
              "      <th>5</th>\n",
              "      <td>2021.07.05</td>\n",
              "      <td>410000.0</td>\n",
              "      <td>4000.0</td>\n",
              "      <td>415500.0</td>\n",
              "      <td>418000.0</td>\n",
              "      <td>408500.0</td>\n",
              "      <td>492899.0</td>\n",
              "    </tr>\n",
              "    <tr>\n",
              "      <th>4</th>\n",
              "      <td>2021.07.06</td>\n",
              "      <td>409500.0</td>\n",
              "      <td>500.0</td>\n",
              "      <td>411500.0</td>\n",
              "      <td>412500.0</td>\n",
              "      <td>408000.0</td>\n",
              "      <td>342771.0</td>\n",
              "    </tr>\n",
              "    <tr>\n",
              "      <th>3</th>\n",
              "      <td>2021.07.07</td>\n",
              "      <td>417500.0</td>\n",
              "      <td>8000.0</td>\n",
              "      <td>411000.0</td>\n",
              "      <td>419000.0</td>\n",
              "      <td>410500.0</td>\n",
              "      <td>663260.0</td>\n",
              "    </tr>\n",
              "    <tr>\n",
              "      <th>2</th>\n",
              "      <td>2021.07.08</td>\n",
              "      <td>422000.0</td>\n",
              "      <td>4500.0</td>\n",
              "      <td>419000.0</td>\n",
              "      <td>431500.0</td>\n",
              "      <td>418500.0</td>\n",
              "      <td>1142267.0</td>\n",
              "    </tr>\n",
              "    <tr>\n",
              "      <th>1</th>\n",
              "      <td>2021.07.09</td>\n",
              "      <td>415500.0</td>\n",
              "      <td>6500.0</td>\n",
              "      <td>420000.0</td>\n",
              "      <td>424000.0</td>\n",
              "      <td>408000.0</td>\n",
              "      <td>1090218.0</td>\n",
              "    </tr>\n",
              "    <tr>\n",
              "      <th>13</th>\n",
              "      <td>2021.07.12</td>\n",
              "      <td>418500.0</td>\n",
              "      <td>3000.0</td>\n",
              "      <td>418500.0</td>\n",
              "      <td>421500.0</td>\n",
              "      <td>413000.0</td>\n",
              "      <td>475697.0</td>\n",
              "    </tr>\n",
              "    <tr>\n",
              "      <th>12</th>\n",
              "      <td>2021.07.13</td>\n",
              "      <td>441000.0</td>\n",
              "      <td>22500.0</td>\n",
              "      <td>421000.0</td>\n",
              "      <td>442000.0</td>\n",
              "      <td>419000.0</td>\n",
              "      <td>1498546.0</td>\n",
              "    </tr>\n",
              "    <tr>\n",
              "      <th>11</th>\n",
              "      <td>2021.07.14</td>\n",
              "      <td>444000.0</td>\n",
              "      <td>3000.0</td>\n",
              "      <td>436000.0</td>\n",
              "      <td>444500.0</td>\n",
              "      <td>436000.0</td>\n",
              "      <td>931990.0</td>\n",
              "    </tr>\n",
              "    <tr>\n",
              "      <th>10</th>\n",
              "      <td>2021.07.15</td>\n",
              "      <td>449000.0</td>\n",
              "      <td>5000.0</td>\n",
              "      <td>446500.0</td>\n",
              "      <td>452500.0</td>\n",
              "      <td>439500.0</td>\n",
              "      <td>950460.0</td>\n",
              "    </tr>\n",
              "    <tr>\n",
              "      <th>9</th>\n",
              "      <td>2021.07.16</td>\n",
              "      <td>447000.0</td>\n",
              "      <td>2000.0</td>\n",
              "      <td>448000.0</td>\n",
              "      <td>461000.0</td>\n",
              "      <td>443000.0</td>\n",
              "      <td>1246425.0</td>\n",
              "    </tr>\n",
              "    <tr>\n",
              "      <th>5</th>\n",
              "      <td>2021.07.19</td>\n",
              "      <td>443000.0</td>\n",
              "      <td>4000.0</td>\n",
              "      <td>443000.0</td>\n",
              "      <td>449500.0</td>\n",
              "      <td>438500.0</td>\n",
              "      <td>704307.0</td>\n",
              "    </tr>\n",
              "    <tr>\n",
              "      <th>4</th>\n",
              "      <td>2021.07.20</td>\n",
              "      <td>439000.0</td>\n",
              "      <td>4000.0</td>\n",
              "      <td>438500.0</td>\n",
              "      <td>441500.0</td>\n",
              "      <td>431000.0</td>\n",
              "      <td>789090.0</td>\n",
              "    </tr>\n",
              "    <tr>\n",
              "      <th>3</th>\n",
              "      <td>2021.07.21</td>\n",
              "      <td>428000.0</td>\n",
              "      <td>11000.0</td>\n",
              "      <td>443000.0</td>\n",
              "      <td>446000.0</td>\n",
              "      <td>428000.0</td>\n",
              "      <td>885519.0</td>\n",
              "    </tr>\n",
              "    <tr>\n",
              "      <th>2</th>\n",
              "      <td>2021.07.22</td>\n",
              "      <td>440000.0</td>\n",
              "      <td>12000.0</td>\n",
              "      <td>433000.0</td>\n",
              "      <td>445000.0</td>\n",
              "      <td>429000.0</td>\n",
              "      <td>1035882.0</td>\n",
              "    </tr>\n",
              "    <tr>\n",
              "      <th>1</th>\n",
              "      <td>2021.07.23</td>\n",
              "      <td>452000.0</td>\n",
              "      <td>12000.0</td>\n",
              "      <td>443500.0</td>\n",
              "      <td>454500.0</td>\n",
              "      <td>441000.0</td>\n",
              "      <td>1059964.0</td>\n",
              "    </tr>\n",
              "  </tbody>\n",
              "</table>\n",
              "</div>"
            ],
            "text/plain": [
              "            날짜        종가      전일비        시가        고가        저가        거래량\n",
              "13  2021.06.14  387000.0  14500.0  377500.0  388000.0  375500.0  1208589.0\n",
              "12  2021.06.15  387000.0      0.0  387000.0  389000.0  381500.0   625594.0\n",
              "11  2021.06.16  391000.0   4000.0  384500.0  395000.0  383000.0   836281.0\n",
              "10  2021.06.17  389500.0   1500.0  389500.0  394500.0  385000.0   670522.0\n",
              "9   2021.06.18  398000.0   8500.0  391500.0  400500.0  391000.0  1268656.0\n",
              "5   2021.06.21  397000.0   1000.0  398000.0  402000.0  392000.0   809114.0\n",
              "4   2021.06.22  391000.0   6000.0  400000.0  400500.0  391000.0   702840.0\n",
              "3   2021.06.23  423500.0  32500.0  393000.0  427000.0  392500.0  2721355.0\n",
              "2   2021.06.24  419500.0   4000.0  430000.0  436000.0  413000.0  2143286.0\n",
              "1   2021.06.25  410000.0   9500.0  420000.0  420000.0  405000.0  1382051.0\n",
              "13  2021.06.28  408000.0   2000.0  406000.0  413000.0  403000.0   623480.0\n",
              "12  2021.06.29  411500.0   3500.0  409500.0  411500.0  406000.0   572319.0\n",
              "11  2021.06.30  417500.0   6000.0  415000.0  425000.0  409000.0   955297.0\n",
              "10  2021.07.01  413000.0   4500.0  418000.0  423500.0  410500.0   592869.0\n",
              "9   2021.07.02  414000.0   1000.0  412500.0  418500.0  407000.0   517934.0\n",
              "5   2021.07.05  410000.0   4000.0  415500.0  418000.0  408500.0   492899.0\n",
              "4   2021.07.06  409500.0    500.0  411500.0  412500.0  408000.0   342771.0\n",
              "3   2021.07.07  417500.0   8000.0  411000.0  419000.0  410500.0   663260.0\n",
              "2   2021.07.08  422000.0   4500.0  419000.0  431500.0  418500.0  1142267.0\n",
              "1   2021.07.09  415500.0   6500.0  420000.0  424000.0  408000.0  1090218.0\n",
              "13  2021.07.12  418500.0   3000.0  418500.0  421500.0  413000.0   475697.0\n",
              "12  2021.07.13  441000.0  22500.0  421000.0  442000.0  419000.0  1498546.0\n",
              "11  2021.07.14  444000.0   3000.0  436000.0  444500.0  436000.0   931990.0\n",
              "10  2021.07.15  449000.0   5000.0  446500.0  452500.0  439500.0   950460.0\n",
              "9   2021.07.16  447000.0   2000.0  448000.0  461000.0  443000.0  1246425.0\n",
              "5   2021.07.19  443000.0   4000.0  443000.0  449500.0  438500.0   704307.0\n",
              "4   2021.07.20  439000.0   4000.0  438500.0  441500.0  431000.0   789090.0\n",
              "3   2021.07.21  428000.0  11000.0  443000.0  446000.0  428000.0   885519.0\n",
              "2   2021.07.22  440000.0  12000.0  433000.0  445000.0  429000.0  1035882.0\n",
              "1   2021.07.23  452000.0  12000.0  443500.0  454500.0  441000.0  1059964.0"
            ]
          },
          "metadata": {
            "tags": []
          },
          "execution_count": 13
        }
      ]
    },
    {
      "cell_type": "code",
      "metadata": {
        "colab": {
          "base_uri": "https://localhost:8080/",
          "height": 330
        },
        "id": "v8-SGCPC4anq",
        "outputId": "9b89d994-b0fb-4d5f-aef2-3973f6b7dfdc"
      },
      "source": [
        "plt.figure(figsize=(15, 5)) \n",
        "plt.title('Celltrion (close)')\n",
        "plt.xticks(rotation=45) \n",
        "plt.plot(df.날짜, df.종가, 'co-')\n",
        "plt.grid(color='gray', linestyle='--')\n",
        "plt.show()"
      ],
      "execution_count": 14,
      "outputs": [
        {
          "output_type": "display_data",
          "data": {
            "image/png": "[encoded data removed]",
            "text/plain": [
              "<Figure size 1080x360 with 1 Axes>"
            ]
          },
          "metadata": {
            "tags": [],
            "needs_background": "light"
          }
        }
      ]
    },
    {
      "cell_type": "markdown",
      "metadata": {
        "id": "y1Sa0m2z5krZ"
      },
      "source": [
        "- x축 레이블의 날짜가 겹쳐서 보기어려우므로 90도 회전하여 표시\n",
        "- x축은 날짜 데이터로 y축은 종가 데이터로 출력"
      ]
    },
    {
      "cell_type": "markdown",
      "metadata": {
        "id": "4ckIuK0U5yVT"
      },
      "source": [
        "## 캔들 차트"
      ]
    },
    {
      "cell_type": "code",
      "metadata": {
        "colab": {
          "base_uri": "https://localhost:8080/"
        },
        "id": "Nx2pRP6B5jx0",
        "outputId": "e0885700-2248-4cc7-a2f8-7b42f28b127c"
      },
      "source": [
        "!pip install --upgrade mplfinance #신버전"
      ],
      "execution_count": 15,
      "outputs": [
        {
          "output_type": "stream",
          "text": [
            "Collecting mplfinance\n",
            "  Downloading mplfinance-0.12.7a17-py3-none-any.whl (62 kB)\n",
            "\u001b[?25l\r\u001b[K     |█████▎                          | 10 kB 33.1 MB/s eta 0:00:01\r\u001b[K     |██████████▌                     | 20 kB 38.2 MB/s eta 0:00:01\r\u001b[K     |███████████████▊                | 30 kB 40.3 MB/s eta 0:00:01\r\u001b[K     |█████████████████████           | 40 kB 40.9 MB/s eta 0:00:01\r\u001b[K     |██████████████████████████▎     | 51 kB 38.5 MB/s eta 0:00:01\r\u001b[K     |███████████████████████████████▌| 61 kB 39.9 MB/s eta 0:00:01\r\u001b[K     |████████████████████████████████| 62 kB 987 kB/s \n",
            "\u001b[?25hRequirement already satisfied: pandas in /usr/local/lib/python3.7/dist-packages (from mplfinance) (1.1.5)\n",
            "Requirement already satisfied: matplotlib in /usr/local/lib/python3.7/dist-packages (from mplfinance) (3.2.2)\n",
            "Requirement already satisfied: numpy>=1.11 in /usr/local/lib/python3.7/dist-packages (from matplotlib->mplfinance) (1.19.5)\n",
            "Requirement already satisfied: cycler>=0.10 in /usr/local/lib/python3.7/dist-packages (from matplotlib->mplfinance) (0.10.0)\n",
            "Requirement already satisfied: kiwisolver>=1.0.1 in /usr/local/lib/python3.7/dist-packages (from matplotlib->mplfinance) (1.3.1)\n",
            "Requirement already satisfied: pyparsing!=2.0.4,!=2.1.2,!=2.1.6,>=2.0.1 in /usr/local/lib/python3.7/dist-packages (from matplotlib->mplfinance) (2.4.7)\n",
            "Requirement already satisfied: python-dateutil>=2.1 in /usr/local/lib/python3.7/dist-packages (from matplotlib->mplfinance) (2.8.1)\n",
            "Requirement already satisfied: six in /usr/local/lib/python3.7/dist-packages (from cycler>=0.10->matplotlib->mplfinance) (1.15.0)\n",
            "Requirement already satisfied: pytz>=2017.2 in /usr/local/lib/python3.7/dist-packages (from pandas->mplfinance) (2018.9)\n",
            "Installing collected packages: mplfinance\n",
            "Successfully installed mplfinance-0.12.7a17\n"
          ],
          "name": "stdout"
        }
      ]
    },
    {
      "cell_type": "code",
      "metadata": {
        "id": "I5Vykg0u4fpW"
      },
      "source": [
        "import mplfinance as mpf"
      ],
      "execution_count": 16,
      "outputs": []
    },
    {
      "cell_type": "code",
      "metadata": {
        "colab": {
          "base_uri": "https://localhost:8080/",
          "height": 559
        },
        "id": "cX0n-W2g6Hhs",
        "outputId": "f3370375-7a78-40c6-d787-e10b731fa8ae"
      },
      "source": [
        "# 한글 컬럼명을 영어 컬럼명으로 변경\n",
        "df = df.rename(columns={'날짜':'Date', '시가':'Open', '고가':'High', '저가':'Low', '종가':'Close', '거래량':'Volume'})\n",
        "\n",
        "# 날짜 오름차순으로 변경\n",
        "# df = df.sort_values(by='Date')\n",
        "\n",
        "# Date 컬럼을 DatetimeIndex 타입으로 변경 후 인덱스로 설정\n",
        "df.index = pd.to_datetime(df.Date)\n",
        "\n",
        "# Open, High, Low, Close, Volume 컬럼만 갖도록 데이터프레임 구조 변경\n",
        "df = df[['Open', 'High', 'Low', 'Close', 'Volume']]\n",
        "\n",
        "# 캔들 차트 그리기\n",
        "mpf.plot(df, title='Celltrion candle chart', type='candle')"
      ],
      "execution_count": 17,
      "outputs": [
        {
          "output_type": "display_data",
          "data": {
            "image/png": "[encoded data removed]",
            "text/plain": [
              "<Figure size 800x575 with 2 Axes>"
            ]
          },
          "metadata": {
            "tags": []
          }
        }
      ]
    },
    {
      "cell_type": "code",
      "metadata": {
        "colab": {
          "base_uri": "https://localhost:8080/",
          "height": 559
        },
        "id": "v_JsIO5O60_k",
        "outputId": "bdcc3d69-7028-42f4-ca58-2ecb63d8fecc"
      },
      "source": [
        "# 다른 종류의 차트\n",
        "mpf.plot(df, title='Celltrion ohlc chart', type='ohlc')"
      ],
      "execution_count": 18,
      "outputs": [
        {
          "output_type": "display_data",
          "data": {
            "image/png": "[encoded data removed]",
            "text/plain": [
              "<Figure size 800x575 with 2 Axes>"
            ]
          },
          "metadata": {
            "tags": []
          }
        }
      ]
    },
    {
      "cell_type": "code",
      "metadata": {
        "colab": {
          "base_uri": "https://localhost:8080/",
          "height": 556
        },
        "id": "Yn2s_7UJ7wBH",
        "outputId": "380a8f43-ce48-44e6-e01a-8694e2a04418"
      },
      "source": [
        "# kwargs는 mpf.plot() 함수를 호출할 때 쓰이는 여러 인수를 담는 딕셔너리\n",
        "kwargs = dict(title='Naver customized chart', type='candle', mav=(2, 4, 6), volume=True, ylabel='ohlc candles')\n",
        "\n",
        "# 상승은 red, 하락은 blue로 지정\n",
        "mc = mpf.make_marketcolors(up='r', down='b', inherit=True)\n",
        "s  = mpf.make_mpf_style(marketcolors=mc)\n",
        "\n",
        "# 네이버 시세 OHLVC 데이터와 kwargs로 설정한 인수들과 스타일 객체를 인수로 넘겨주면서\n",
        "# mpf.plot() 함수를 호출하여 차트를 출력\n",
        "mpf.plot(df, **kwargs, style=s)"
      ],
      "execution_count": 19,
      "outputs": [
        {
          "output_type": "display_data",
          "data": {
            "image/png": "[encoded data removed]",
            "text/plain": [
              "<Figure size 800x575 with 4 Axes>"
            ]
          },
          "metadata": {
            "tags": []
          }
        }
      ]
    }
  ]
}