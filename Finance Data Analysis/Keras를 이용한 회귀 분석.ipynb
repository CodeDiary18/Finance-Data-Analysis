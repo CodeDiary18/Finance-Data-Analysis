{
  "nbformat": 4,
  "nbformat_minor": 0,
  "metadata": {
    "colab": {
      "name": "Keras를 이용한 회귀 분석.ipynb",
      "provenance": [],
      "collapsed_sections": [],
      "authorship_tag": "ABX9TyN7ggYpsQ/95ST6PB6SOTwq"
    },
    "kernelspec": {
      "name": "python3",
      "display_name": "Python 3"
    },
    "language_info": {
      "name": "python"
    },
    "accelerator": "GPU"
  },
  "cells": [
    {
      "cell_type": "markdown",
      "metadata": {
        "id": "uSjHUtKsWhbh"
      },
      "source": [
        "## 데이터 로드"
      ]
    },
    {
      "cell_type": "code",
      "metadata": {
        "id": "NqIgUBeMWNG9"
      },
      "source": [
        "pip install -U finance-datareader"
      ],
      "execution_count": null,
      "outputs": []
    },
    {
      "cell_type": "code",
      "metadata": {
        "id": "Jc6i9ka7WjNI"
      },
      "source": [
        "import FinanceDataReader as fdr"
      ],
      "execution_count": 2,
      "outputs": []
    },
    {
      "cell_type": "code",
      "metadata": {
        "colab": {
          "base_uri": "https://localhost:8080/",
          "height": 235
        },
        "id": "egUB3e1gaqDV",
        "outputId": "ebd45961-63c9-41aa-f04b-e4f888ade10a"
      },
      "source": [
        "standard_date = '2010-07-01'\n",
        "dow = fdr.DataReader('DJI', standard_date)\n",
        "dow.head()"
      ],
      "execution_count": 3,
      "outputs": [
        {
          "output_type": "execute_result",
          "data": {
            "text/html": [
              "<div>\n",
              "<style scoped>\n",
              "    .dataframe tbody tr th:only-of-type {\n",
              "        vertical-align: middle;\n",
              "    }\n",
              "\n",
              "    .dataframe tbody tr th {\n",
              "        vertical-align: top;\n",
              "    }\n",
              "\n",
              "    .dataframe thead th {\n",
              "        text-align: right;\n",
              "    }\n",
              "</style>\n",
              "<table border=\"1\" class=\"dataframe\">\n",
              "  <thead>\n",
              "    <tr style=\"text-align: right;\">\n",
              "      <th></th>\n",
              "      <th>Close</th>\n",
              "      <th>Open</th>\n",
              "      <th>High</th>\n",
              "      <th>Low</th>\n",
              "      <th>Volume</th>\n",
              "      <th>Change</th>\n",
              "    </tr>\n",
              "    <tr>\n",
              "      <th>Date</th>\n",
              "      <th></th>\n",
              "      <th></th>\n",
              "      <th></th>\n",
              "      <th></th>\n",
              "      <th></th>\n",
              "      <th></th>\n",
              "    </tr>\n",
              "  </thead>\n",
              "  <tbody>\n",
              "    <tr>\n",
              "      <th>2010-07-01</th>\n",
              "      <td>9732.53</td>\n",
              "      <td>9773.27</td>\n",
              "      <td>9834.71</td>\n",
              "      <td>9596.04</td>\n",
              "      <td>262820000.0</td>\n",
              "      <td>-0.0042</td>\n",
              "    </tr>\n",
              "    <tr>\n",
              "      <th>2010-07-02</th>\n",
              "      <td>9686.48</td>\n",
              "      <td>9732.23</td>\n",
              "      <td>9798.19</td>\n",
              "      <td>9603.80</td>\n",
              "      <td>199570000.0</td>\n",
              "      <td>-0.0047</td>\n",
              "    </tr>\n",
              "    <tr>\n",
              "      <th>2010-07-06</th>\n",
              "      <td>9743.62</td>\n",
              "      <td>9689.21</td>\n",
              "      <td>9880.76</td>\n",
              "      <td>9648.26</td>\n",
              "      <td>216710000.0</td>\n",
              "      <td>0.0059</td>\n",
              "    </tr>\n",
              "    <tr>\n",
              "      <th>2010-07-07</th>\n",
              "      <td>10018.28</td>\n",
              "      <td>9736.85</td>\n",
              "      <td>10029.93</td>\n",
              "      <td>9716.38</td>\n",
              "      <td>219560000.0</td>\n",
              "      <td>0.0282</td>\n",
              "    </tr>\n",
              "    <tr>\n",
              "      <th>2010-07-08</th>\n",
              "      <td>10138.99</td>\n",
              "      <td>10019.26</td>\n",
              "      <td>10175.02</td>\n",
              "      <td>9987.02</td>\n",
              "      <td>192220000.0</td>\n",
              "      <td>0.0120</td>\n",
              "    </tr>\n",
              "  </tbody>\n",
              "</table>\n",
              "</div>"
            ],
            "text/plain": [
              "               Close      Open      High      Low       Volume  Change\n",
              "Date                                                                  \n",
              "2010-07-01   9732.53   9773.27   9834.71  9596.04  262820000.0 -0.0042\n",
              "2010-07-02   9686.48   9732.23   9798.19  9603.80  199570000.0 -0.0047\n",
              "2010-07-06   9743.62   9689.21   9880.76  9648.26  216710000.0  0.0059\n",
              "2010-07-07  10018.28   9736.85  10029.93  9716.38  219560000.0  0.0282\n",
              "2010-07-08  10138.99  10019.26  10175.02  9987.02  192220000.0  0.0120"
            ]
          },
          "metadata": {
            "tags": []
          },
          "execution_count": 3
        }
      ]
    },
    {
      "cell_type": "code",
      "metadata": {
        "colab": {
          "base_uri": "https://localhost:8080/",
          "height": 235
        },
        "id": "quZ9thi-awfa",
        "outputId": "cde1e4cc-3c11-4c4f-ab0b-e74d569a08d2"
      },
      "source": [
        "kospi = fdr.DataReader('KS11', standard_date)\n",
        "kospi.head()"
      ],
      "execution_count": 4,
      "outputs": [
        {
          "output_type": "execute_result",
          "data": {
            "text/html": [
              "<div>\n",
              "<style scoped>\n",
              "    .dataframe tbody tr th:only-of-type {\n",
              "        vertical-align: middle;\n",
              "    }\n",
              "\n",
              "    .dataframe tbody tr th {\n",
              "        vertical-align: top;\n",
              "    }\n",
              "\n",
              "    .dataframe thead th {\n",
              "        text-align: right;\n",
              "    }\n",
              "</style>\n",
              "<table border=\"1\" class=\"dataframe\">\n",
              "  <thead>\n",
              "    <tr style=\"text-align: right;\">\n",
              "      <th></th>\n",
              "      <th>Close</th>\n",
              "      <th>Open</th>\n",
              "      <th>High</th>\n",
              "      <th>Low</th>\n",
              "      <th>Volume</th>\n",
              "      <th>Change</th>\n",
              "    </tr>\n",
              "    <tr>\n",
              "      <th>Date</th>\n",
              "      <th></th>\n",
              "      <th></th>\n",
              "      <th></th>\n",
              "      <th></th>\n",
              "      <th></th>\n",
              "      <th></th>\n",
              "    </tr>\n",
              "  </thead>\n",
              "  <tbody>\n",
              "    <tr>\n",
              "      <th>2010-07-01</th>\n",
              "      <td>1686.24</td>\n",
              "      <td>1687.00</td>\n",
              "      <td>1693.90</td>\n",
              "      <td>1664.54</td>\n",
              "      <td>327660000.0</td>\n",
              "      <td>-0.0071</td>\n",
              "    </tr>\n",
              "    <tr>\n",
              "      <th>2010-07-02</th>\n",
              "      <td>1671.82</td>\n",
              "      <td>1688.95</td>\n",
              "      <td>1693.75</td>\n",
              "      <td>1667.38</td>\n",
              "      <td>344940000.0</td>\n",
              "      <td>-0.0086</td>\n",
              "    </tr>\n",
              "    <tr>\n",
              "      <th>2010-07-05</th>\n",
              "      <td>1675.37</td>\n",
              "      <td>1675.43</td>\n",
              "      <td>1680.39</td>\n",
              "      <td>1664.22</td>\n",
              "      <td>356620000.0</td>\n",
              "      <td>0.0021</td>\n",
              "    </tr>\n",
              "    <tr>\n",
              "      <th>2010-07-06</th>\n",
              "      <td>1684.94</td>\n",
              "      <td>1664.87</td>\n",
              "      <td>1684.94</td>\n",
              "      <td>1650.30</td>\n",
              "      <td>337490000.0</td>\n",
              "      <td>0.0057</td>\n",
              "    </tr>\n",
              "    <tr>\n",
              "      <th>2010-07-07</th>\n",
              "      <td>1675.65</td>\n",
              "      <td>1685.77</td>\n",
              "      <td>1685.77</td>\n",
              "      <td>1668.61</td>\n",
              "      <td>345700000.0</td>\n",
              "      <td>-0.0055</td>\n",
              "    </tr>\n",
              "  </tbody>\n",
              "</table>\n",
              "</div>"
            ],
            "text/plain": [
              "              Close     Open     High      Low       Volume  Change\n",
              "Date                                                               \n",
              "2010-07-01  1686.24  1687.00  1693.90  1664.54  327660000.0 -0.0071\n",
              "2010-07-02  1671.82  1688.95  1693.75  1667.38  344940000.0 -0.0086\n",
              "2010-07-05  1675.37  1675.43  1680.39  1664.22  356620000.0  0.0021\n",
              "2010-07-06  1684.94  1664.87  1684.94  1650.30  337490000.0  0.0057\n",
              "2010-07-07  1675.65  1685.77  1685.77  1668.61  345700000.0 -0.0055"
            ]
          },
          "metadata": {
            "tags": []
          },
          "execution_count": 4
        }
      ]
    },
    {
      "cell_type": "markdown",
      "metadata": {
        "id": "TUN8X4N1d0Je"
      },
      "source": [
        "## 데이터 전처리"
      ]
    },
    {
      "cell_type": "code",
      "metadata": {
        "id": "duwLyXIXazHq"
      },
      "source": [
        "import pandas as pd"
      ],
      "execution_count": 5,
      "outputs": []
    },
    {
      "cell_type": "code",
      "metadata": {
        "colab": {
          "base_uri": "https://localhost:8080/",
          "height": 449
        },
        "id": "hxg3S2B5d6pn",
        "outputId": "41e428e6-8f77-4309-f299-faf2731a2b34"
      },
      "source": [
        "df = pd.DataFrame({'DOW' : dow['Close'], 'KOSPI' : kospi['Close']})\n",
        "df"
      ],
      "execution_count": 6,
      "outputs": [
        {
          "output_type": "execute_result",
          "data": {
            "text/html": [
              "<div>\n",
              "<style scoped>\n",
              "    .dataframe tbody tr th:only-of-type {\n",
              "        vertical-align: middle;\n",
              "    }\n",
              "\n",
              "    .dataframe tbody tr th {\n",
              "        vertical-align: top;\n",
              "    }\n",
              "\n",
              "    .dataframe thead th {\n",
              "        text-align: right;\n",
              "    }\n",
              "</style>\n",
              "<table border=\"1\" class=\"dataframe\">\n",
              "  <thead>\n",
              "    <tr style=\"text-align: right;\">\n",
              "      <th></th>\n",
              "      <th>DOW</th>\n",
              "      <th>KOSPI</th>\n",
              "    </tr>\n",
              "    <tr>\n",
              "      <th>Date</th>\n",
              "      <th></th>\n",
              "      <th></th>\n",
              "    </tr>\n",
              "  </thead>\n",
              "  <tbody>\n",
              "    <tr>\n",
              "      <th>2010-07-01</th>\n",
              "      <td>9732.53</td>\n",
              "      <td>1686.24</td>\n",
              "    </tr>\n",
              "    <tr>\n",
              "      <th>2010-07-02</th>\n",
              "      <td>9686.48</td>\n",
              "      <td>1671.82</td>\n",
              "    </tr>\n",
              "    <tr>\n",
              "      <th>2010-07-05</th>\n",
              "      <td>NaN</td>\n",
              "      <td>1675.37</td>\n",
              "    </tr>\n",
              "    <tr>\n",
              "      <th>2010-07-06</th>\n",
              "      <td>9743.62</td>\n",
              "      <td>1684.94</td>\n",
              "    </tr>\n",
              "    <tr>\n",
              "      <th>2010-07-07</th>\n",
              "      <td>10018.28</td>\n",
              "      <td>1675.65</td>\n",
              "    </tr>\n",
              "    <tr>\n",
              "      <th>...</th>\n",
              "      <td>...</td>\n",
              "      <td>...</td>\n",
              "    </tr>\n",
              "    <tr>\n",
              "      <th>2021-07-19</th>\n",
              "      <td>33963.29</td>\n",
              "      <td>3244.04</td>\n",
              "    </tr>\n",
              "    <tr>\n",
              "      <th>2021-07-20</th>\n",
              "      <td>34511.86</td>\n",
              "      <td>3232.70</td>\n",
              "    </tr>\n",
              "    <tr>\n",
              "      <th>2021-07-21</th>\n",
              "      <td>34797.74</td>\n",
              "      <td>3215.91</td>\n",
              "    </tr>\n",
              "    <tr>\n",
              "      <th>2021-07-22</th>\n",
              "      <td>34822.75</td>\n",
              "      <td>3250.21</td>\n",
              "    </tr>\n",
              "    <tr>\n",
              "      <th>2021-07-23</th>\n",
              "      <td>35061.69</td>\n",
              "      <td>3254.42</td>\n",
              "    </tr>\n",
              "  </tbody>\n",
              "</table>\n",
              "<p>2869 rows × 2 columns</p>\n",
              "</div>"
            ],
            "text/plain": [
              "                 DOW    KOSPI\n",
              "Date                         \n",
              "2010-07-01   9732.53  1686.24\n",
              "2010-07-02   9686.48  1671.82\n",
              "2010-07-05       NaN  1675.37\n",
              "2010-07-06   9743.62  1684.94\n",
              "2010-07-07  10018.28  1675.65\n",
              "...              ...      ...\n",
              "2021-07-19  33963.29  3244.04\n",
              "2021-07-20  34511.86  3232.70\n",
              "2021-07-21  34797.74  3215.91\n",
              "2021-07-22  34822.75  3250.21\n",
              "2021-07-23  35061.69  3254.42\n",
              "\n",
              "[2869 rows x 2 columns]"
            ]
          },
          "metadata": {
            "tags": []
          },
          "execution_count": 6
        }
      ]
    },
    {
      "cell_type": "code",
      "metadata": {
        "colab": {
          "base_uri": "https://localhost:8080/"
        },
        "id": "wDqAMYmLeU_t",
        "outputId": "5a76b623-b418-4252-b544-21844bafb4a8"
      },
      "source": [
        "df.isnull().sum()"
      ],
      "execution_count": 7,
      "outputs": [
        {
          "output_type": "execute_result",
          "data": {
            "text/plain": [
              "DOW       85\n",
              "KOSPI    137\n",
              "dtype: int64"
            ]
          },
          "metadata": {
            "tags": []
          },
          "execution_count": 7
        }
      ]
    },
    {
      "cell_type": "code",
      "metadata": {
        "colab": {
          "base_uri": "https://localhost:8080/"
        },
        "id": "fN_q0tPweX8L",
        "outputId": "c75b9656-da27-451c-9683-26880d439c83"
      },
      "source": [
        "df = df.fillna(method='bfill')\n",
        "df = df.fillna(method='ffill')\n",
        "df.isnull().sum()"
      ],
      "execution_count": 8,
      "outputs": [
        {
          "output_type": "execute_result",
          "data": {
            "text/plain": [
              "DOW      0\n",
              "KOSPI    0\n",
              "dtype: int64"
            ]
          },
          "metadata": {
            "tags": []
          },
          "execution_count": 8
        }
      ]
    },
    {
      "cell_type": "markdown",
      "metadata": {
        "id": "kGlaHz-Qedg2"
      },
      "source": [
        "# 선형 회귀 분석"
      ]
    },
    {
      "cell_type": "markdown",
      "metadata": {
        "id": "XSzJ_O9-e02l"
      },
      "source": [
        "## 사이파이를 이용한 선형 회귀"
      ]
    },
    {
      "cell_type": "code",
      "metadata": {
        "colab": {
          "base_uri": "https://localhost:8080/"
        },
        "id": "HkGpzaCxeb0o",
        "outputId": "7efb4250-e326-4370-98b6-6079ed9a7cd8"
      },
      "source": [
        "!pip install scipy"
      ],
      "execution_count": 9,
      "outputs": [
        {
          "output_type": "stream",
          "text": [
            "Requirement already satisfied: scipy in /usr/local/lib/python3.7/dist-packages (1.4.1)\n",
            "Requirement already satisfied: numpy>=1.13.3 in /usr/local/lib/python3.7/dist-packages (from scipy) (1.19.5)\n"
          ],
          "name": "stdout"
        }
      ]
    },
    {
      "cell_type": "code",
      "metadata": {
        "id": "V7wkArIMe36W"
      },
      "source": [
        "from scipy import stats"
      ],
      "execution_count": 10,
      "outputs": []
    },
    {
      "cell_type": "markdown",
      "metadata": {
        "id": "QtUnQK1jcZGv"
      },
      "source": [
        "* model = stats.linregress(독립 변수 x, 종속 변수 y)  \n",
        "* model.slope : 기울기  \n",
        "* model.intercept : y절편"
      ]
    },
    {
      "cell_type": "code",
      "metadata": {
        "colab": {
          "base_uri": "https://localhost:8080/"
        },
        "id": "x2Vi0_i7e8P_",
        "outputId": "1e508409-216d-437c-f881-aebef2af7dec"
      },
      "source": [
        "regr = stats.linregress(df['DOW'], df['KOSPI'])\n",
        "regr"
      ],
      "execution_count": 11,
      "outputs": [
        {
          "output_type": "execute_result",
          "data": {
            "text/plain": [
              "LinregressResult(slope=0.037579050604805715, intercept=1391.4901953723474, rvalue=0.7663662748292898, pvalue=0.0, stderr=0.0005883066014326273)"
            ]
          },
          "metadata": {
            "tags": []
          },
          "execution_count": 11
        }
      ]
    },
    {
      "cell_type": "code",
      "metadata": {
        "colab": {
          "base_uri": "https://localhost:8080/"
        },
        "id": "6KnU_eoXe9yw",
        "outputId": "8f101ba1-ae18-4347-f65a-f237f9cf0012"
      },
      "source": [
        "regr.slope"
      ],
      "execution_count": 12,
      "outputs": [
        {
          "output_type": "execute_result",
          "data": {
            "text/plain": [
              "0.037579050604805715"
            ]
          },
          "metadata": {
            "tags": []
          },
          "execution_count": 12
        }
      ]
    },
    {
      "cell_type": "code",
      "metadata": {
        "colab": {
          "base_uri": "https://localhost:8080/"
        },
        "id": "VNW4gw7ofBaO",
        "outputId": "39b69d15-8989-4664-d8c7-a7b934c702e0"
      },
      "source": [
        "regr.intercept"
      ],
      "execution_count": 13,
      "outputs": [
        {
          "output_type": "execute_result",
          "data": {
            "text/plain": [
              "1391.4901953723474"
            ]
          },
          "metadata": {
            "tags": []
          },
          "execution_count": 13
        }
      ]
    },
    {
      "cell_type": "code",
      "metadata": {
        "colab": {
          "base_uri": "https://localhost:8080/",
          "height": 35
        },
        "id": "-cc2R14xfDZ0",
        "outputId": "81289db3-922d-4162-9a5e-3fba8e237000"
      },
      "source": [
        "regr_line = f'Y = {regr.slope:.3f} * X + {regr.intercept:.2f}'\n",
        "regr_line"
      ],
      "execution_count": 14,
      "outputs": [
        {
          "output_type": "execute_result",
          "data": {
            "application/vnd.google.colaboratory.intrinsic+json": {
              "type": "string"
            },
            "text/plain": [
              "'Y = 0.038 * X + 1391.49'"
            ]
          },
          "metadata": {
            "tags": []
          },
          "execution_count": 14
        }
      ]
    },
    {
      "cell_type": "markdown",
      "metadata": {
        "id": "cHic8C1JXkM_"
      },
      "source": [
        "# 케라스를 이용한 선형 회귀 기초"
      ]
    },
    {
      "cell_type": "code",
      "metadata": {
        "id": "iZZSEAGwJJuw"
      },
      "source": [
        "from tensorflow.keras.layers     import Dense\n",
        "from tensorflow.keras.models     import Sequential\n",
        "from tensorflow.keras.callbacks  import ModelCheckpoint\n",
        "from tensorflow.keras.optimizers import Adam\n",
        "import tensorflow as tf\n",
        "import numpy as np\n",
        "import matplotlib.pyplot as plt"
      ],
      "execution_count": 22,
      "outputs": []
    },
    {
      "cell_type": "markdown",
      "metadata": {
        "id": "MhJUWjHvh6Ib"
      },
      "source": [
        "- Adam은 sgd(일반 경사하강법)에서 보완한 더 좋은 경사하강법\n",
        "- optimizer=Adam 써주면 sgd 썼을 때보다 성능이 더 좋을 수 있음"
      ]
    },
    {
      "cell_type": "markdown",
      "metadata": {
        "id": "7pgntwiOJSnh"
      },
      "source": [
        "**딥러닝 실행 순서**\n",
        "1. 전처리: 학습에 필요한 데이터 전처리를 수행  \n",
        "2. 모델링(model): 모델을 정의  \n",
        "3. 컴파일(compile): 모델을 생성  \n",
        "4. 학습 (fit): 모델을 학습"
      ]
    },
    {
      "cell_type": "markdown",
      "metadata": {
        "id": "NY6h0dNZJw1-"
      },
      "source": [
        "**적절한 optimizer와 loss 선정하기**\n",
        "- regression(회귀) 예측을 위해서는 loss=mse를 선택  \n",
        "- optimizer는 여러가지를 활용할 수는 있지만, 단순 회귀에는 sgd가 적당"
      ]
    },
    {
      "cell_type": "code",
      "metadata": {
        "id": "hwI3Vf9jh5uQ"
      },
      "source": [
        "X_train = np.array(df['DOW'])\n",
        "Y_train = np.array(df['KOSPI'])"
      ],
      "execution_count": 16,
      "outputs": []
    },
    {
      "cell_type": "code",
      "metadata": {
        "colab": {
          "base_uri": "https://localhost:8080/"
        },
        "id": "ekJFO3GDh9mZ",
        "outputId": "5dd20a3e-1f32-4615-f511-3720fef4985e"
      },
      "source": [
        "# 모델의 정의(modeling)\n",
        "model = Sequential()\n",
        "\n",
        "# Dense의 첫번째 인자는 항상 출력의 차원을 의미\n",
        "model.add(Dense(1, input_dim=1, activation='linear'))\n",
        "\n",
        "adam = Adam(lr=0.05)\n",
        "\n",
        "# 모델의 생성(compile)\n",
        "model.compile(optimizer=adam, loss='mse')"
      ],
      "execution_count": 17,
      "outputs": [
        {
          "output_type": "stream",
          "text": [
            "/usr/local/lib/python3.7/dist-packages/tensorflow/python/keras/optimizer_v2/optimizer_v2.py:375: UserWarning: The `lr` argument is deprecated, use `learning_rate` instead.\n",
            "  \"The `lr` argument is deprecated, use `learning_rate` instead.\")\n"
          ],
          "name": "stderr"
        }
      ]
    },
    {
      "cell_type": "code",
      "metadata": {
        "id": "sJj0BRrHjwNK"
      },
      "source": [
        "# 학습(fit)\n",
        "result = model.fit(X_train, Y_train, epochs=1200, verbose=1)"
      ],
      "execution_count": null,
      "outputs": []
    },
    {
      "cell_type": "code",
      "metadata": {
        "id": "xH5phqaUj0rf"
      },
      "source": [
        "weight = float(model.layers[0].get_weights()[0])\n",
        "bias = float(model.layers[0].get_weights()[1])"
      ],
      "execution_count": 19,
      "outputs": []
    },
    {
      "cell_type": "code",
      "metadata": {
        "colab": {
          "base_uri": "https://localhost:8080/",
          "height": 35
        },
        "id": "oRB89ZQuj-Zt",
        "outputId": "aac277de-cf45-4b5e-d1dc-161909c9ce80"
      },
      "source": [
        "keras_line = f'Y = {weight:.3f} * X + {bias:.2f}'\n",
        "keras_line"
      ],
      "execution_count": 20,
      "outputs": [
        {
          "output_type": "execute_result",
          "data": {
            "application/vnd.google.colaboratory.intrinsic+json": {
              "type": "string"
            },
            "text/plain": [
              "'Y = 0.031 * X + 1362.57'"
            ]
          },
          "metadata": {
            "tags": []
          },
          "execution_count": 20
        }
      ]
    }
  ]
}