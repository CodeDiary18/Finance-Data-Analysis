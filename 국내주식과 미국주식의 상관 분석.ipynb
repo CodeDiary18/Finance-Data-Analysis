{
  "nbformat": 4,
  "nbformat_minor": 0,
  "metadata": {
    "colab": {
      "name": "국내주식과 미국주식의 상관 분석.ipynb",
      "provenance": [],
      "collapsed_sections": [],
      "toc_visible": true,
      "authorship_tag": "ABX9TyMGq+CRtcB0vLbPdy84TjBc"
    },
    "kernelspec": {
      "name": "python3",
      "display_name": "Python 3"
    },
    "language_info": {
      "name": "python"
    }
  },
  "cells": [
    {
      "cell_type": "markdown",
      "metadata": {
        "id": "Yvlgq-4JU1o6"
      },
      "source": [
        "# 국내주식과 미국주식의 상관 분석"
      ]
    },
    {
      "cell_type": "code",
      "metadata": {
        "id": "wUFc2AtgYjrR"
      },
      "source": [
        "import matplotlib.pyplot as plt\n",
        "\n",
        "plt.rc('font', family='NanumBarunGothic') "
      ],
      "execution_count": 1,
      "outputs": []
    },
    {
      "cell_type": "markdown",
      "metadata": {
        "id": "cUWfTiSlWq7m"
      },
      "source": [
        "파이낸셜데이터 리더 설명 링크 : https://github.com/FinanceData/FinanceDataReader"
      ]
    },
    {
      "cell_type": "code",
      "metadata": {
        "colab": {
          "base_uri": "https://localhost:8080/"
        },
        "id": "6TLiJT4mUqo3",
        "outputId": "d7336ca0-4030-4c14-9050-a43b3dcdd8d6"
      },
      "source": [
        "pip install -U finance-datareader"
      ],
      "execution_count": 2,
      "outputs": [
        {
          "output_type": "stream",
          "text": [
            "Requirement already satisfied: finance-datareader in /usr/local/lib/python3.7/dist-packages (0.9.31)\n",
            "Requirement already satisfied: requests>=2.3.0 in /usr/local/lib/python3.7/dist-packages (from finance-datareader) (2.23.0)\n",
            "Requirement already satisfied: tqdm in /usr/local/lib/python3.7/dist-packages (from finance-datareader) (4.41.1)\n",
            "Requirement already satisfied: lxml in /usr/local/lib/python3.7/dist-packages (from finance-datareader) (4.2.6)\n",
            "Requirement already satisfied: pandas>=0.19.2 in /usr/local/lib/python3.7/dist-packages (from finance-datareader) (1.1.5)\n",
            "Requirement already satisfied: requests-file in /usr/local/lib/python3.7/dist-packages (from finance-datareader) (1.5.1)\n",
            "Requirement already satisfied: python-dateutil>=2.7.3 in /usr/local/lib/python3.7/dist-packages (from pandas>=0.19.2->finance-datareader) (2.8.1)\n",
            "Requirement already satisfied: pytz>=2017.2 in /usr/local/lib/python3.7/dist-packages (from pandas>=0.19.2->finance-datareader) (2018.9)\n",
            "Requirement already satisfied: numpy>=1.15.4 in /usr/local/lib/python3.7/dist-packages (from pandas>=0.19.2->finance-datareader) (1.19.5)\n",
            "Requirement already satisfied: six>=1.5 in /usr/local/lib/python3.7/dist-packages (from python-dateutil>=2.7.3->pandas>=0.19.2->finance-datareader) (1.15.0)\n",
            "Requirement already satisfied: urllib3!=1.25.0,!=1.25.1,<1.26,>=1.21.1 in /usr/local/lib/python3.7/dist-packages (from requests>=2.3.0->finance-datareader) (1.24.3)\n",
            "Requirement already satisfied: certifi>=2017.4.17 in /usr/local/lib/python3.7/dist-packages (from requests>=2.3.0->finance-datareader) (2021.5.30)\n",
            "Requirement already satisfied: idna<3,>=2.5 in /usr/local/lib/python3.7/dist-packages (from requests>=2.3.0->finance-datareader) (2.10)\n",
            "Requirement already satisfied: chardet<4,>=3.0.2 in /usr/local/lib/python3.7/dist-packages (from requests>=2.3.0->finance-datareader) (3.0.4)\n"
          ],
          "name": "stdout"
        }
      ]
    },
    {
      "cell_type": "code",
      "metadata": {
        "id": "GcJYa_ZrVM7Z"
      },
      "source": [
        "import FinanceDataReader as fdr"
      ],
      "execution_count": 3,
      "outputs": []
    },
    {
      "cell_type": "markdown",
      "metadata": {
        "id": "N1kyn07pXCYG"
      },
      "source": [
        "2010년 7월 1일을 기준으로 데이터 로드"
      ]
    },
    {
      "cell_type": "markdown",
      "metadata": {
        "id": "XzyPfHD-YFCr"
      },
      "source": [
        "## 데이터 로드"
      ]
    },
    {
      "cell_type": "code",
      "metadata": {
        "colab": {
          "base_uri": "https://localhost:8080/",
          "height": 445
        },
        "id": "qhjRAYjvXBiy",
        "outputId": "badb993f-009f-4f66-f63d-70413fda7c91"
      },
      "source": [
        "standard_date = '2010-07-01'\n",
        "dow = fdr.DataReader('DJI',standard_date) #다우존스\n",
        "dow"
      ],
      "execution_count": 4,
      "outputs": [
        {
          "output_type": "execute_result",
          "data": {
            "text/html": [
              "<div>\n",
              "<style scoped>\n",
              "    .dataframe tbody tr th:only-of-type {\n",
              "        vertical-align: middle;\n",
              "    }\n",
              "\n",
              "    .dataframe tbody tr th {\n",
              "        vertical-align: top;\n",
              "    }\n",
              "\n",
              "    .dataframe thead th {\n",
              "        text-align: right;\n",
              "    }\n",
              "</style>\n",
              "<table border=\"1\" class=\"dataframe\">\n",
              "  <thead>\n",
              "    <tr style=\"text-align: right;\">\n",
              "      <th></th>\n",
              "      <th>Close</th>\n",
              "      <th>Open</th>\n",
              "      <th>High</th>\n",
              "      <th>Low</th>\n",
              "      <th>Volume</th>\n",
              "      <th>Change</th>\n",
              "    </tr>\n",
              "    <tr>\n",
              "      <th>Date</th>\n",
              "      <th></th>\n",
              "      <th></th>\n",
              "      <th></th>\n",
              "      <th></th>\n",
              "      <th></th>\n",
              "      <th></th>\n",
              "    </tr>\n",
              "  </thead>\n",
              "  <tbody>\n",
              "    <tr>\n",
              "      <th>2010-07-01</th>\n",
              "      <td>9732.53</td>\n",
              "      <td>9773.27</td>\n",
              "      <td>9834.71</td>\n",
              "      <td>9596.04</td>\n",
              "      <td>262820000.0</td>\n",
              "      <td>-0.0042</td>\n",
              "    </tr>\n",
              "    <tr>\n",
              "      <th>2010-07-02</th>\n",
              "      <td>9686.48</td>\n",
              "      <td>9732.23</td>\n",
              "      <td>9798.19</td>\n",
              "      <td>9603.80</td>\n",
              "      <td>199570000.0</td>\n",
              "      <td>-0.0047</td>\n",
              "    </tr>\n",
              "    <tr>\n",
              "      <th>2010-07-06</th>\n",
              "      <td>9743.62</td>\n",
              "      <td>9689.21</td>\n",
              "      <td>9880.76</td>\n",
              "      <td>9648.26</td>\n",
              "      <td>216710000.0</td>\n",
              "      <td>0.0059</td>\n",
              "    </tr>\n",
              "    <tr>\n",
              "      <th>2010-07-07</th>\n",
              "      <td>10018.28</td>\n",
              "      <td>9736.85</td>\n",
              "      <td>10029.93</td>\n",
              "      <td>9716.38</td>\n",
              "      <td>219560000.0</td>\n",
              "      <td>0.0282</td>\n",
              "    </tr>\n",
              "    <tr>\n",
              "      <th>2010-07-08</th>\n",
              "      <td>10138.99</td>\n",
              "      <td>10019.26</td>\n",
              "      <td>10175.02</td>\n",
              "      <td>9987.02</td>\n",
              "      <td>192220000.0</td>\n",
              "      <td>0.0120</td>\n",
              "    </tr>\n",
              "    <tr>\n",
              "      <th>...</th>\n",
              "      <td>...</td>\n",
              "      <td>...</td>\n",
              "      <td>...</td>\n",
              "      <td>...</td>\n",
              "      <td>...</td>\n",
              "      <td>...</td>\n",
              "    </tr>\n",
              "    <tr>\n",
              "      <th>2021-07-19</th>\n",
              "      <td>33963.29</td>\n",
              "      <td>34264.35</td>\n",
              "      <td>34264.35</td>\n",
              "      <td>33742.07</td>\n",
              "      <td>414090000.0</td>\n",
              "      <td>-0.0209</td>\n",
              "    </tr>\n",
              "    <tr>\n",
              "      <th>2021-07-20</th>\n",
              "      <td>34511.86</td>\n",
              "      <td>33981.79</td>\n",
              "      <td>34621.79</td>\n",
              "      <td>33981.79</td>\n",
              "      <td>357970000.0</td>\n",
              "      <td>0.0162</td>\n",
              "    </tr>\n",
              "    <tr>\n",
              "      <th>2021-07-21</th>\n",
              "      <td>34797.74</td>\n",
              "      <td>34556.96</td>\n",
              "      <td>34819.75</td>\n",
              "      <td>34556.96</td>\n",
              "      <td>299440000.0</td>\n",
              "      <td>0.0083</td>\n",
              "    </tr>\n",
              "    <tr>\n",
              "      <th>2021-07-22</th>\n",
              "      <td>34822.75</td>\n",
              "      <td>34799.68</td>\n",
              "      <td>34879.08</td>\n",
              "      <td>34673.90</td>\n",
              "      <td>282400000.0</td>\n",
              "      <td>0.0007</td>\n",
              "    </tr>\n",
              "    <tr>\n",
              "      <th>2021-07-23</th>\n",
              "      <td>35061.69</td>\n",
              "      <td>34855.11</td>\n",
              "      <td>35093.82</td>\n",
              "      <td>34855.11</td>\n",
              "      <td>308030000.0</td>\n",
              "      <td>0.0069</td>\n",
              "    </tr>\n",
              "  </tbody>\n",
              "</table>\n",
              "<p>2784 rows × 6 columns</p>\n",
              "</div>"
            ],
            "text/plain": [
              "               Close      Open      High       Low       Volume  Change\n",
              "Date                                                                   \n",
              "2010-07-01   9732.53   9773.27   9834.71   9596.04  262820000.0 -0.0042\n",
              "2010-07-02   9686.48   9732.23   9798.19   9603.80  199570000.0 -0.0047\n",
              "2010-07-06   9743.62   9689.21   9880.76   9648.26  216710000.0  0.0059\n",
              "2010-07-07  10018.28   9736.85  10029.93   9716.38  219560000.0  0.0282\n",
              "2010-07-08  10138.99  10019.26  10175.02   9987.02  192220000.0  0.0120\n",
              "...              ...       ...       ...       ...          ...     ...\n",
              "2021-07-19  33963.29  34264.35  34264.35  33742.07  414090000.0 -0.0209\n",
              "2021-07-20  34511.86  33981.79  34621.79  33981.79  357970000.0  0.0162\n",
              "2021-07-21  34797.74  34556.96  34819.75  34556.96  299440000.0  0.0083\n",
              "2021-07-22  34822.75  34799.68  34879.08  34673.90  282400000.0  0.0007\n",
              "2021-07-23  35061.69  34855.11  35093.82  34855.11  308030000.0  0.0069\n",
              "\n",
              "[2784 rows x 6 columns]"
            ]
          },
          "metadata": {
            "tags": []
          },
          "execution_count": 4
        }
      ]
    },
    {
      "cell_type": "code",
      "metadata": {
        "colab": {
          "base_uri": "https://localhost:8080/",
          "height": 445
        },
        "id": "3IOY5jZXXM4v",
        "outputId": "ecb0dfad-dd52-4605-c066-991259375961"
      },
      "source": [
        "kospi = fdr.DataReader('KS11', standard_date) #코스피\n",
        "kospi"
      ],
      "execution_count": 5,
      "outputs": [
        {
          "output_type": "execute_result",
          "data": {
            "text/html": [
              "<div>\n",
              "<style scoped>\n",
              "    .dataframe tbody tr th:only-of-type {\n",
              "        vertical-align: middle;\n",
              "    }\n",
              "\n",
              "    .dataframe tbody tr th {\n",
              "        vertical-align: top;\n",
              "    }\n",
              "\n",
              "    .dataframe thead th {\n",
              "        text-align: right;\n",
              "    }\n",
              "</style>\n",
              "<table border=\"1\" class=\"dataframe\">\n",
              "  <thead>\n",
              "    <tr style=\"text-align: right;\">\n",
              "      <th></th>\n",
              "      <th>Close</th>\n",
              "      <th>Open</th>\n",
              "      <th>High</th>\n",
              "      <th>Low</th>\n",
              "      <th>Volume</th>\n",
              "      <th>Change</th>\n",
              "    </tr>\n",
              "    <tr>\n",
              "      <th>Date</th>\n",
              "      <th></th>\n",
              "      <th></th>\n",
              "      <th></th>\n",
              "      <th></th>\n",
              "      <th></th>\n",
              "      <th></th>\n",
              "    </tr>\n",
              "  </thead>\n",
              "  <tbody>\n",
              "    <tr>\n",
              "      <th>2010-07-01</th>\n",
              "      <td>1686.24</td>\n",
              "      <td>1687.00</td>\n",
              "      <td>1693.90</td>\n",
              "      <td>1664.54</td>\n",
              "      <td>3.276600e+08</td>\n",
              "      <td>-0.0071</td>\n",
              "    </tr>\n",
              "    <tr>\n",
              "      <th>2010-07-02</th>\n",
              "      <td>1671.82</td>\n",
              "      <td>1688.95</td>\n",
              "      <td>1693.75</td>\n",
              "      <td>1667.38</td>\n",
              "      <td>3.449400e+08</td>\n",
              "      <td>-0.0086</td>\n",
              "    </tr>\n",
              "    <tr>\n",
              "      <th>2010-07-05</th>\n",
              "      <td>1675.37</td>\n",
              "      <td>1675.43</td>\n",
              "      <td>1680.39</td>\n",
              "      <td>1664.22</td>\n",
              "      <td>3.566200e+08</td>\n",
              "      <td>0.0021</td>\n",
              "    </tr>\n",
              "    <tr>\n",
              "      <th>2010-07-06</th>\n",
              "      <td>1684.94</td>\n",
              "      <td>1664.87</td>\n",
              "      <td>1684.94</td>\n",
              "      <td>1650.30</td>\n",
              "      <td>3.374900e+08</td>\n",
              "      <td>0.0057</td>\n",
              "    </tr>\n",
              "    <tr>\n",
              "      <th>2010-07-07</th>\n",
              "      <td>1675.65</td>\n",
              "      <td>1685.77</td>\n",
              "      <td>1685.77</td>\n",
              "      <td>1668.61</td>\n",
              "      <td>3.457000e+08</td>\n",
              "      <td>-0.0055</td>\n",
              "    </tr>\n",
              "    <tr>\n",
              "      <th>...</th>\n",
              "      <td>...</td>\n",
              "      <td>...</td>\n",
              "      <td>...</td>\n",
              "      <td>...</td>\n",
              "      <td>...</td>\n",
              "      <td>...</td>\n",
              "    </tr>\n",
              "    <tr>\n",
              "      <th>2021-07-19</th>\n",
              "      <td>3244.04</td>\n",
              "      <td>3258.87</td>\n",
              "      <td>3258.87</td>\n",
              "      <td>3236.39</td>\n",
              "      <td>1.100000e+09</td>\n",
              "      <td>-0.0100</td>\n",
              "    </tr>\n",
              "    <tr>\n",
              "      <th>2021-07-20</th>\n",
              "      <td>3232.70</td>\n",
              "      <td>3223.24</td>\n",
              "      <td>3234.80</td>\n",
              "      <td>3214.42</td>\n",
              "      <td>9.796700e+08</td>\n",
              "      <td>-0.0035</td>\n",
              "    </tr>\n",
              "    <tr>\n",
              "      <th>2021-07-21</th>\n",
              "      <td>3215.91</td>\n",
              "      <td>3251.13</td>\n",
              "      <td>3252.25</td>\n",
              "      <td>3215.91</td>\n",
              "      <td>9.903300e+08</td>\n",
              "      <td>-0.0052</td>\n",
              "    </tr>\n",
              "    <tr>\n",
              "      <th>2021-07-22</th>\n",
              "      <td>3250.21</td>\n",
              "      <td>3235.17</td>\n",
              "      <td>3253.75</td>\n",
              "      <td>3235.17</td>\n",
              "      <td>7.129800e+08</td>\n",
              "      <td>0.0107</td>\n",
              "    </tr>\n",
              "    <tr>\n",
              "      <th>2021-07-23</th>\n",
              "      <td>3254.42</td>\n",
              "      <td>3253.44</td>\n",
              "      <td>3264.01</td>\n",
              "      <td>3246.09</td>\n",
              "      <td>8.050500e+08</td>\n",
              "      <td>0.0013</td>\n",
              "    </tr>\n",
              "  </tbody>\n",
              "</table>\n",
              "<p>2732 rows × 6 columns</p>\n",
              "</div>"
            ],
            "text/plain": [
              "              Close     Open     High      Low        Volume  Change\n",
              "Date                                                                \n",
              "2010-07-01  1686.24  1687.00  1693.90  1664.54  3.276600e+08 -0.0071\n",
              "2010-07-02  1671.82  1688.95  1693.75  1667.38  3.449400e+08 -0.0086\n",
              "2010-07-05  1675.37  1675.43  1680.39  1664.22  3.566200e+08  0.0021\n",
              "2010-07-06  1684.94  1664.87  1684.94  1650.30  3.374900e+08  0.0057\n",
              "2010-07-07  1675.65  1685.77  1685.77  1668.61  3.457000e+08 -0.0055\n",
              "...             ...      ...      ...      ...           ...     ...\n",
              "2021-07-19  3244.04  3258.87  3258.87  3236.39  1.100000e+09 -0.0100\n",
              "2021-07-20  3232.70  3223.24  3234.80  3214.42  9.796700e+08 -0.0035\n",
              "2021-07-21  3215.91  3251.13  3252.25  3215.91  9.903300e+08 -0.0052\n",
              "2021-07-22  3250.21  3235.17  3253.75  3235.17  7.129800e+08  0.0107\n",
              "2021-07-23  3254.42  3253.44  3264.01  3246.09  8.050500e+08  0.0013\n",
              "\n",
              "[2732 rows x 6 columns]"
            ]
          },
          "metadata": {
            "tags": []
          },
          "execution_count": 5
        }
      ]
    },
    {
      "cell_type": "markdown",
      "metadata": {
        "id": "KTIO60EOYJlO"
      },
      "source": [
        "## 시각화"
      ]
    },
    {
      "cell_type": "code",
      "metadata": {
        "id": "IRPMO9NuYxY5"
      },
      "source": [
        "import matplotlib.pyplot as plt\n",
        "\n",
        "plt.rc('font', family='NanumBarunGothic') "
      ],
      "execution_count": 6,
      "outputs": []
    },
    {
      "cell_type": "code",
      "metadata": {
        "colab": {
          "base_uri": "https://localhost:8080/",
          "height": 450
        },
        "id": "HdJY-ZJhXdVu",
        "outputId": "4508226a-1e73-4cdb-e997-6ec69daf00ad"
      },
      "source": [
        "plt.figure(figsize=(7, 7))\n",
        "plt.plot(dow.index, dow.Close, 'r--', label='Dow Jones Industrial')\n",
        "plt.plot(kospi.index, kospi.Close, 'b', label='KOSPI')\n",
        "plt.grid(True)\n",
        "plt.title('다우존스와 코스피지수',fontsize=20)\n",
        "plt.legend(loc='best')\n",
        "plt.show()"
      ],
      "execution_count": 7,
      "outputs": [
        {
          "output_type": "display_data",
          "data": {
            "image/png": "[encoded data removed]",
            "text/plain": [
              "<Figure size 504x504 with 1 Axes>"
            ]
          },
          "metadata": {
            "tags": [],
            "needs_background": "light"
          }
        }
      ]
    },
    {
      "cell_type": "markdown",
      "metadata": {
        "id": "hmPO1NGfZckC"
      },
      "source": [
        "- 두 종목의 가격의 크기가 너무 달라 서로 비교하기 어렵다.\n",
        "- 가격의 절대값 비교가 아닌 변동률 비교를 통해서 둘 다 서로 비슷하게 움직였는지를 판단하여 두 대상의 상관관계를 구하는 것이 더 용이"
      ]
    },
    {
      "cell_type": "markdown",
      "metadata": {
        "id": "hokoNTkfm0hW"
      },
      "source": [
        "#### 변동률 구하기\n",
        "- 현재 종가를 특정 시점의 종가로 나누어 변동률을 구함\n",
        "- 오늘의 종가를 특정일의 종가로 나눈 뒤 100을 곱하면, 특정일의 종가 대비 오늘 종가의 변동률을 구할 수 있음\n",
        "- 이렇게 가격이 다른 두 주식 종목의 수익률를 비교하는 방법을 지수화라고 함"
      ]
    },
    {
      "cell_type": "code",
      "metadata": {
        "id": "W_x_Rhb2Y1hL"
      },
      "source": [
        "d = (dow.Close / dow.Close.loc[standard_date]) * 100\n",
        "k = (kospi.Close / kospi.Close.loc[standard_date]) * 100"
      ],
      "execution_count": 8,
      "outputs": []
    },
    {
      "cell_type": "code",
      "metadata": {
        "colab": {
          "base_uri": "https://localhost:8080/",
          "height": 450
        },
        "id": "EGTxGeRnpt0r",
        "outputId": "4fffc352-7b44-40ce-c95a-ed1000e11da5"
      },
      "source": [
        "plt.figure(figsize=(7, 7))\n",
        "plt.title('다우존스와 코스피지수 변동률',fontsize=20)\n",
        "plt.plot(d.index, d, 'r--', label='Dow Jones Industrial')\n",
        "plt.plot(k.index, k, 'b', label='KOSPI')\n",
        "plt.grid(True)\n",
        "plt.legend(loc='best')\n",
        "plt.show()"
      ],
      "execution_count": 9,
      "outputs": [
        {
          "output_type": "display_data",
          "data": {
            "image/png": "[encoded data removed]",
            "text/plain": [
              "<Figure size 504x504 with 1 Axes>"
            ]
          },
          "metadata": {
            "tags": [],
            "needs_background": "light"
          }
        }
      ]
    },
    {
      "cell_type": "markdown",
      "metadata": {
        "id": "qlualKR1qVyr"
      },
      "source": [
        "## 산점도 분석"
      ]
    },
    {
      "cell_type": "markdown",
      "metadata": {
        "id": "nxR9ASRPqfTq"
      },
      "source": [
        "산점도 분석을 위해 데이터 수 맞추기"
      ]
    },
    {
      "cell_type": "code",
      "metadata": {
        "id": "sUrLyZwnqlZa"
      },
      "source": [
        "import pandas as pd"
      ],
      "execution_count": 10,
      "outputs": []
    },
    {
      "cell_type": "code",
      "metadata": {
        "colab": {
          "base_uri": "https://localhost:8080/",
          "height": 445
        },
        "id": "h6nwP0AAqSc3",
        "outputId": "634fc1b5-d6c2-4ac5-874a-a6fa1099e835"
      },
      "source": [
        "df =  pd.DataFrame({'DOW' : dow['Close'], 'KOSPI' : kospi['Close']})\n",
        "df"
      ],
      "execution_count": 11,
      "outputs": [
        {
          "output_type": "execute_result",
          "data": {
            "text/html": [
              "<div>\n",
              "<style scoped>\n",
              "    .dataframe tbody tr th:only-of-type {\n",
              "        vertical-align: middle;\n",
              "    }\n",
              "\n",
              "    .dataframe tbody tr th {\n",
              "        vertical-align: top;\n",
              "    }\n",
              "\n",
              "    .dataframe thead th {\n",
              "        text-align: right;\n",
              "    }\n",
              "</style>\n",
              "<table border=\"1\" class=\"dataframe\">\n",
              "  <thead>\n",
              "    <tr style=\"text-align: right;\">\n",
              "      <th></th>\n",
              "      <th>DOW</th>\n",
              "      <th>KOSPI</th>\n",
              "    </tr>\n",
              "    <tr>\n",
              "      <th>Date</th>\n",
              "      <th></th>\n",
              "      <th></th>\n",
              "    </tr>\n",
              "  </thead>\n",
              "  <tbody>\n",
              "    <tr>\n",
              "      <th>2010-07-01</th>\n",
              "      <td>9732.53</td>\n",
              "      <td>1686.24</td>\n",
              "    </tr>\n",
              "    <tr>\n",
              "      <th>2010-07-02</th>\n",
              "      <td>9686.48</td>\n",
              "      <td>1671.82</td>\n",
              "    </tr>\n",
              "    <tr>\n",
              "      <th>2010-07-05</th>\n",
              "      <td>NaN</td>\n",
              "      <td>1675.37</td>\n",
              "    </tr>\n",
              "    <tr>\n",
              "      <th>2010-07-06</th>\n",
              "      <td>9743.62</td>\n",
              "      <td>1684.94</td>\n",
              "    </tr>\n",
              "    <tr>\n",
              "      <th>2010-07-07</th>\n",
              "      <td>10018.28</td>\n",
              "      <td>1675.65</td>\n",
              "    </tr>\n",
              "    <tr>\n",
              "      <th>...</th>\n",
              "      <td>...</td>\n",
              "      <td>...</td>\n",
              "    </tr>\n",
              "    <tr>\n",
              "      <th>2021-07-19</th>\n",
              "      <td>33963.29</td>\n",
              "      <td>3244.04</td>\n",
              "    </tr>\n",
              "    <tr>\n",
              "      <th>2021-07-20</th>\n",
              "      <td>34511.86</td>\n",
              "      <td>3232.70</td>\n",
              "    </tr>\n",
              "    <tr>\n",
              "      <th>2021-07-21</th>\n",
              "      <td>34797.74</td>\n",
              "      <td>3215.91</td>\n",
              "    </tr>\n",
              "    <tr>\n",
              "      <th>2021-07-22</th>\n",
              "      <td>34822.75</td>\n",
              "      <td>3250.21</td>\n",
              "    </tr>\n",
              "    <tr>\n",
              "      <th>2021-07-23</th>\n",
              "      <td>35061.69</td>\n",
              "      <td>3254.42</td>\n",
              "    </tr>\n",
              "  </tbody>\n",
              "</table>\n",
              "<p>2869 rows × 2 columns</p>\n",
              "</div>"
            ],
            "text/plain": [
              "                 DOW    KOSPI\n",
              "Date                         \n",
              "2010-07-01   9732.53  1686.24\n",
              "2010-07-02   9686.48  1671.82\n",
              "2010-07-05       NaN  1675.37\n",
              "2010-07-06   9743.62  1684.94\n",
              "2010-07-07  10018.28  1675.65\n",
              "...              ...      ...\n",
              "2021-07-19  33963.29  3244.04\n",
              "2021-07-20  34511.86  3232.70\n",
              "2021-07-21  34797.74  3215.91\n",
              "2021-07-22  34822.75  3250.21\n",
              "2021-07-23  35061.69  3254.42\n",
              "\n",
              "[2869 rows x 2 columns]"
            ]
          },
          "metadata": {
            "tags": []
          },
          "execution_count": 11
        }
      ]
    },
    {
      "cell_type": "code",
      "metadata": {
        "colab": {
          "base_uri": "https://localhost:8080/"
        },
        "id": "0_gNOPBKqbBm",
        "outputId": "07195c1f-77c2-42cd-ee79-ba0f0248d745"
      },
      "source": [
        "df.isnull().sum()"
      ],
      "execution_count": 12,
      "outputs": [
        {
          "output_type": "execute_result",
          "data": {
            "text/plain": [
              "DOW       85\n",
              "KOSPI    137\n",
              "dtype: int64"
            ]
          },
          "metadata": {
            "tags": []
          },
          "execution_count": 12
        }
      ]
    },
    {
      "cell_type": "markdown",
      "metadata": {
        "id": "ZPIjN9oVqvsm"
      },
      "source": [
        "### 결측치 채우기"
      ]
    },
    {
      "cell_type": "code",
      "metadata": {
        "colab": {
          "base_uri": "https://localhost:8080/",
          "height": 445
        },
        "id": "ydVP2b-3qrdN",
        "outputId": "0c6314a3-b9c2-4d08-acc0-4d795f2f2992"
      },
      "source": [
        "df = df.fillna(method='bfill')\n",
        "df = df.fillna(method='ffill')\n",
        "df"
      ],
      "execution_count": 13,
      "outputs": [
        {
          "output_type": "execute_result",
          "data": {
            "text/html": [
              "<div>\n",
              "<style scoped>\n",
              "    .dataframe tbody tr th:only-of-type {\n",
              "        vertical-align: middle;\n",
              "    }\n",
              "\n",
              "    .dataframe tbody tr th {\n",
              "        vertical-align: top;\n",
              "    }\n",
              "\n",
              "    .dataframe thead th {\n",
              "        text-align: right;\n",
              "    }\n",
              "</style>\n",
              "<table border=\"1\" class=\"dataframe\">\n",
              "  <thead>\n",
              "    <tr style=\"text-align: right;\">\n",
              "      <th></th>\n",
              "      <th>DOW</th>\n",
              "      <th>KOSPI</th>\n",
              "    </tr>\n",
              "    <tr>\n",
              "      <th>Date</th>\n",
              "      <th></th>\n",
              "      <th></th>\n",
              "    </tr>\n",
              "  </thead>\n",
              "  <tbody>\n",
              "    <tr>\n",
              "      <th>2010-07-01</th>\n",
              "      <td>9732.53</td>\n",
              "      <td>1686.24</td>\n",
              "    </tr>\n",
              "    <tr>\n",
              "      <th>2010-07-02</th>\n",
              "      <td>9686.48</td>\n",
              "      <td>1671.82</td>\n",
              "    </tr>\n",
              "    <tr>\n",
              "      <th>2010-07-05</th>\n",
              "      <td>9743.62</td>\n",
              "      <td>1675.37</td>\n",
              "    </tr>\n",
              "    <tr>\n",
              "      <th>2010-07-06</th>\n",
              "      <td>9743.62</td>\n",
              "      <td>1684.94</td>\n",
              "    </tr>\n",
              "    <tr>\n",
              "      <th>2010-07-07</th>\n",
              "      <td>10018.28</td>\n",
              "      <td>1675.65</td>\n",
              "    </tr>\n",
              "    <tr>\n",
              "      <th>...</th>\n",
              "      <td>...</td>\n",
              "      <td>...</td>\n",
              "    </tr>\n",
              "    <tr>\n",
              "      <th>2021-07-19</th>\n",
              "      <td>33963.29</td>\n",
              "      <td>3244.04</td>\n",
              "    </tr>\n",
              "    <tr>\n",
              "      <th>2021-07-20</th>\n",
              "      <td>34511.86</td>\n",
              "      <td>3232.70</td>\n",
              "    </tr>\n",
              "    <tr>\n",
              "      <th>2021-07-21</th>\n",
              "      <td>34797.74</td>\n",
              "      <td>3215.91</td>\n",
              "    </tr>\n",
              "    <tr>\n",
              "      <th>2021-07-22</th>\n",
              "      <td>34822.75</td>\n",
              "      <td>3250.21</td>\n",
              "    </tr>\n",
              "    <tr>\n",
              "      <th>2021-07-23</th>\n",
              "      <td>35061.69</td>\n",
              "      <td>3254.42</td>\n",
              "    </tr>\n",
              "  </tbody>\n",
              "</table>\n",
              "<p>2869 rows × 2 columns</p>\n",
              "</div>"
            ],
            "text/plain": [
              "                 DOW    KOSPI\n",
              "Date                         \n",
              "2010-07-01   9732.53  1686.24\n",
              "2010-07-02   9686.48  1671.82\n",
              "2010-07-05   9743.62  1675.37\n",
              "2010-07-06   9743.62  1684.94\n",
              "2010-07-07  10018.28  1675.65\n",
              "...              ...      ...\n",
              "2021-07-19  33963.29  3244.04\n",
              "2021-07-20  34511.86  3232.70\n",
              "2021-07-21  34797.74  3215.91\n",
              "2021-07-22  34822.75  3250.21\n",
              "2021-07-23  35061.69  3254.42\n",
              "\n",
              "[2869 rows x 2 columns]"
            ]
          },
          "metadata": {
            "tags": []
          },
          "execution_count": 13
        }
      ]
    },
    {
      "cell_type": "code",
      "metadata": {
        "colab": {
          "base_uri": "https://localhost:8080/",
          "height": 646
        },
        "id": "J0JqzpnFqt48",
        "outputId": "a887aa94-8edd-4634-e5d0-7adf5d95f38b"
      },
      "source": [
        "plt.figure(figsize=(10, 10))\n",
        "plt.title('산점도 : 다우존스와 코스피지수',fontsize=20)\n",
        "plt.xlabel('Dow Jonse Industrial Average')\n",
        "plt.ylabel('KOSPI')\n",
        "plt.scatter(df['DOW'], df['KOSPI'])"
      ],
      "execution_count": 14,
      "outputs": [
        {
          "output_type": "execute_result",
          "data": {
            "text/plain": [
              "<matplotlib.collections.PathCollection at 0x7f22d69826d0>"
            ]
          },
          "metadata": {
            "tags": []
          },
          "execution_count": 14
        },
        {
          "output_type": "display_data",
          "data": {
            "image/png": "[encoded data removed]",
            "text/plain": [
              "<Figure size 720x720 with 1 Axes>"
            ]
          },
          "metadata": {
            "tags": [],
            "needs_background": "light"
          }
        }
      ]
    },
    {
      "cell_type": "markdown",
      "metadata": {
        "id": "mSJddL-3rUjI"
      },
      "source": [
        "## 선형 회귀 분석"
      ]
    },
    {
      "cell_type": "markdown",
      "metadata": {
        "id": "cP6ApX8krjP8"
      },
      "source": [
        "### 사이파이를 이용한 선형 회귀"
      ]
    },
    {
      "cell_type": "markdown",
      "metadata": {
        "id": "yzbsjEed0M7C"
      },
      "source": [
        "다우존스 지수로부터 코스피 지수를 예측"
      ]
    },
    {
      "cell_type": "code",
      "metadata": {
        "colab": {
          "base_uri": "https://localhost:8080/"
        },
        "id": "JCjtUUk5rC5x",
        "outputId": "cad222e8-917b-4c52-e21d-da9a19b460b8"
      },
      "source": [
        "!pip install scipy"
      ],
      "execution_count": 15,
      "outputs": [
        {
          "output_type": "stream",
          "text": [
            "Requirement already satisfied: scipy in /usr/local/lib/python3.7/dist-packages (1.4.1)\n",
            "Requirement already satisfied: numpy>=1.13.3 in /usr/local/lib/python3.7/dist-packages (from scipy) (1.19.5)\n"
          ],
          "name": "stdout"
        }
      ]
    },
    {
      "cell_type": "code",
      "metadata": {
        "id": "JeY0Iqdgrz6j"
      },
      "source": [
        "from scipy import stats"
      ],
      "execution_count": 16,
      "outputs": []
    },
    {
      "cell_type": "markdown",
      "metadata": {
        "id": "QtUnQK1jcZGv"
      },
      "source": [
        "* model = stats.linregress(독립 변수 x, 종속 변수 y)  \n",
        "* model.slope : 기울기  \n",
        "* model.intercept : y절편"
      ]
    },
    {
      "cell_type": "code",
      "metadata": {
        "colab": {
          "base_uri": "https://localhost:8080/"
        },
        "id": "UaOkPkCdrnnM",
        "outputId": "7e33d80c-77b6-4c64-8950-43d0628fc35b"
      },
      "source": [
        "regr = stats.linregress(df['DOW'], df['KOSPI'])\n",
        "regr"
      ],
      "execution_count": 17,
      "outputs": [
        {
          "output_type": "execute_result",
          "data": {
            "text/plain": [
              "LinregressResult(slope=0.037579050604805715, intercept=1391.4901953723474, rvalue=0.7663662748292898, pvalue=0.0, stderr=0.0005883066014326273)"
            ]
          },
          "metadata": {
            "tags": []
          },
          "execution_count": 17
        }
      ]
    },
    {
      "cell_type": "code",
      "metadata": {
        "colab": {
          "base_uri": "https://localhost:8080/"
        },
        "id": "fcKo92Kzr4t9",
        "outputId": "bfe2ec15-10c0-4207-df28-79872012e7eb"
      },
      "source": [
        "# 기울기만 별도 출력\n",
        "regr.slope"
      ],
      "execution_count": 18,
      "outputs": [
        {
          "output_type": "execute_result",
          "data": {
            "text/plain": [
              "0.037579050604805715"
            ]
          },
          "metadata": {
            "tags": []
          },
          "execution_count": 18
        }
      ]
    },
    {
      "cell_type": "code",
      "metadata": {
        "colab": {
          "base_uri": "https://localhost:8080/"
        },
        "id": "AKMC8F7Lr6tx",
        "outputId": "d367fcdd-eac5-4b54-f3b0-e59475ae3012"
      },
      "source": [
        "# Y 절편만 별도 출력\n",
        "regr.intercept"
      ],
      "execution_count": 19,
      "outputs": [
        {
          "output_type": "execute_result",
          "data": {
            "text/plain": [
              "1391.4901953723474"
            ]
          },
          "metadata": {
            "tags": []
          },
          "execution_count": 19
        }
      ]
    },
    {
      "cell_type": "markdown",
      "metadata": {
        "id": "iGW6-tbrcjLJ"
      },
      "source": [
        "* slope : 찾아낸 기울기  \n",
        "* intercpet : 찾아낸 y절편  \n",
        "* rvalue : r값 (상관계수)  \n",
        "* pvalue : p값  \n",
        "* stderr : 표준편차"
      ]
    },
    {
      "cell_type": "markdown",
      "metadata": {
        "id": "NtYG95wlsZpn"
      },
      "source": [
        "### 선형 회귀 수식\n",
        "$$코스피 지수 = 0.038 × 다우존스 지수 + 1391$$"
      ]
    },
    {
      "cell_type": "markdown",
      "metadata": {
        "id": "jLj5LcyltAVV"
      },
      "source": [
        "## 상관 계수"
      ]
    },
    {
      "cell_type": "code",
      "metadata": {
        "colab": {
          "base_uri": "https://localhost:8080/",
          "height": 110
        },
        "id": "KcS9MJbJsMAe",
        "outputId": "7a1df3b6-3c21-45c6-ce90-9989be503fb5"
      },
      "source": [
        "corr = df.corr()\n",
        "corr"
      ],
      "execution_count": 20,
      "outputs": [
        {
          "output_type": "execute_result",
          "data": {
            "text/html": [
              "<div>\n",
              "<style scoped>\n",
              "    .dataframe tbody tr th:only-of-type {\n",
              "        vertical-align: middle;\n",
              "    }\n",
              "\n",
              "    .dataframe tbody tr th {\n",
              "        vertical-align: top;\n",
              "    }\n",
              "\n",
              "    .dataframe thead th {\n",
              "        text-align: right;\n",
              "    }\n",
              "</style>\n",
              "<table border=\"1\" class=\"dataframe\">\n",
              "  <thead>\n",
              "    <tr style=\"text-align: right;\">\n",
              "      <th></th>\n",
              "      <th>DOW</th>\n",
              "      <th>KOSPI</th>\n",
              "    </tr>\n",
              "  </thead>\n",
              "  <tbody>\n",
              "    <tr>\n",
              "      <th>DOW</th>\n",
              "      <td>1.000000</td>\n",
              "      <td>0.766366</td>\n",
              "    </tr>\n",
              "    <tr>\n",
              "      <th>KOSPI</th>\n",
              "      <td>0.766366</td>\n",
              "      <td>1.000000</td>\n",
              "    </tr>\n",
              "  </tbody>\n",
              "</table>\n",
              "</div>"
            ],
            "text/plain": [
              "            DOW     KOSPI\n",
              "DOW    1.000000  0.766366\n",
              "KOSPI  0.766366  1.000000"
            ]
          },
          "metadata": {
            "tags": []
          },
          "execution_count": 20
        }
      ]
    },
    {
      "cell_type": "code",
      "metadata": {
        "colab": {
          "base_uri": "https://localhost:8080/"
        },
        "id": "nWjgWdCEr77w",
        "outputId": "7396b30c-8998-47c6-ddab-231ee8ed0ac7"
      },
      "source": [
        "r_value = df['DOW'].corr(df['KOSPI'])\n",
        "r_value   #상관 계수"
      ],
      "execution_count": 21,
      "outputs": [
        {
          "output_type": "execute_result",
          "data": {
            "text/plain": [
              "0.7663662748292898"
            ]
          },
          "metadata": {
            "tags": []
          },
          "execution_count": 21
        }
      ]
    },
    {
      "cell_type": "code",
      "metadata": {
        "colab": {
          "base_uri": "https://localhost:8080/"
        },
        "id": "S-gFAIKGsIrz",
        "outputId": "d6546a5f-775b-404b-e388-31ca98288a4e"
      },
      "source": [
        "r_squared = r_value ** 2 \n",
        "r_squared   #결정 계수"
      ],
      "execution_count": 22,
      "outputs": [
        {
          "output_type": "execute_result",
          "data": {
            "text/plain": [
              "0.5873172671957225"
            ]
          },
          "metadata": {
            "tags": []
          },
          "execution_count": 22
        }
      ]
    },
    {
      "cell_type": "markdown",
      "metadata": {
        "id": "5AeIQw6RvP0z"
      },
      "source": [
        "- 결정 계수(R-squared)는 관측된 데이터에서 추정한 회귀선이 실제로 데이터를 어느 정도 설명하는지를 나타내는 계수\n",
        "- 두 변수의 상관관계 정도를 나타내는 상관 계수를 제곱한 값\n",
        "\n",
        "  \n",
        "\n",
        "- 결정 계수가 1이면 선형 회귀 모델이 완벽하게 데이터를 설명한다는 의미\n",
        "- 또는, 선형 회귀 직선 위에 모든 데이터가 다 올라가있다는 의미\n",
        "- 결정 계수가 0이면 선형 회귀 모델(즉, 직선)이 전혀 변수 사이의 관계를 설명하지 못한다는 의미"
      ]
    },
    {
      "cell_type": "code",
      "metadata": {
        "colab": {
          "base_uri": "https://localhost:8080/",
          "height": 34
        },
        "id": "-fkO3WVIuPye",
        "outputId": "d05a7e05-236b-4e27-eeed-7f4b2b4bd893"
      },
      "source": [
        "regr_line = f'Y = {regr.slope:.3f} * X + {regr.intercept:.2f}'\n",
        "regr_line"
      ],
      "execution_count": 23,
      "outputs": [
        {
          "output_type": "execute_result",
          "data": {
            "application/vnd.google.colaboratory.intrinsic+json": {
              "type": "string"
            },
            "text/plain": [
              "'Y = 0.038 * X + 1391.49'"
            ]
          },
          "metadata": {
            "tags": []
          },
          "execution_count": 23
        }
      ]
    },
    {
      "cell_type": "code",
      "metadata": {
        "colab": {
          "base_uri": "https://localhost:8080/",
          "height": 628
        },
        "id": "yj4ZG-iRwLFv",
        "outputId": "c380c119-2795-4aa3-84a1-9d84ced5f3fe"
      },
      "source": [
        "plt.figure(figsize=(10,10))\n",
        "plt.plot(df['DOW'], df['KOSPI'], '.')\n",
        "plt.plot(df['DOW'], regr.slope * df['DOW'] + regr.intercept, 'r')\n",
        "plt.legend(['DOW x KOSPI', regr_line])\n",
        "plt.title(f'DOW x KOSPI (R = {regr.rvalue:.2f})',fontsize=20)\n",
        "plt.xlabel('Dow Jones Industrial Average')\n",
        "plt.ylabel('KOSPI')\n",
        "plt.show()"
      ],
      "execution_count": 24,
      "outputs": [
        {
          "output_type": "display_data",
          "data": {
            "image/png": "[encoded data removed]",
            "text/plain": [
              "<Figure size 720x720 with 1 Axes>"
            ]
          },
          "metadata": {
            "tags": [],
            "needs_background": "light"
          }
        }
      ]
    },
    {
      "cell_type": "markdown",
      "metadata": {
        "id": "xkOFmy2HxADH"
      },
      "source": [
        "### 리스크 완화"
      ]
    },
    {
      "cell_type": "markdown",
      "metadata": {
        "id": "iVpCsCgDxJEJ"
      },
      "source": [
        "노벨경제학상을 수상한 해리 마코위츠 박사가 체계화한 현대 포트폴리오 이론 : \n",
        "\n",
        "**'투자에 대한 수익과 위험은 평균과 분산으로 나타낼 수 있으며, 상관관계가 낮은 자산을 대상으로 분산 투자하면 위험을 감소시킬 수 있다'**"
      ]
    },
    {
      "cell_type": "markdown",
      "metadata": {
        "id": "mHdC2AU19i2Z"
      },
      "source": [
        "- 상관 계수 : +1.0 -> 리스크 완화 효과가 없음  \n",
        "- 상관 계수 : +0.5 -> 중간 정도의 리스크 완화 효과가 있음  \n",
        "- 상관 계수 : 0 -> 상당한 리스크 완화 효과가 있음  \n",
        "- 상관 계수 : -0.5 -> 대부분의 리스크를 제거함  \n",
        "- 상관 계수 : -1.0 -> 모든 리스크를 제거함."
      ]
    },
    {
      "cell_type": "markdown",
      "metadata": {
        "id": "UsUeoGNKx_2k"
      },
      "source": [
        "### 히트맵(heatmap)으로 시각화"
      ]
    },
    {
      "cell_type": "code",
      "metadata": {
        "id": "P0y99QjwzhWA"
      },
      "source": [
        "import seaborn as sns"
      ],
      "execution_count": 25,
      "outputs": []
    },
    {
      "cell_type": "code",
      "metadata": {
        "colab": {
          "base_uri": "https://localhost:8080/",
          "height": 445
        },
        "id": "_NwaxUU0w2vN",
        "outputId": "e48ebc19-5aad-4968-dc98-0ceacb83a587"
      },
      "source": [
        "df"
      ],
      "execution_count": 26,
      "outputs": [
        {
          "output_type": "execute_result",
          "data": {
            "text/html": [
              "<div>\n",
              "<style scoped>\n",
              "    .dataframe tbody tr th:only-of-type {\n",
              "        vertical-align: middle;\n",
              "    }\n",
              "\n",
              "    .dataframe tbody tr th {\n",
              "        vertical-align: top;\n",
              "    }\n",
              "\n",
              "    .dataframe thead th {\n",
              "        text-align: right;\n",
              "    }\n",
              "</style>\n",
              "<table border=\"1\" class=\"dataframe\">\n",
              "  <thead>\n",
              "    <tr style=\"text-align: right;\">\n",
              "      <th></th>\n",
              "      <th>DOW</th>\n",
              "      <th>KOSPI</th>\n",
              "    </tr>\n",
              "    <tr>\n",
              "      <th>Date</th>\n",
              "      <th></th>\n",
              "      <th></th>\n",
              "    </tr>\n",
              "  </thead>\n",
              "  <tbody>\n",
              "    <tr>\n",
              "      <th>2010-07-01</th>\n",
              "      <td>9732.53</td>\n",
              "      <td>1686.24</td>\n",
              "    </tr>\n",
              "    <tr>\n",
              "      <th>2010-07-02</th>\n",
              "      <td>9686.48</td>\n",
              "      <td>1671.82</td>\n",
              "    </tr>\n",
              "    <tr>\n",
              "      <th>2010-07-05</th>\n",
              "      <td>9743.62</td>\n",
              "      <td>1675.37</td>\n",
              "    </tr>\n",
              "    <tr>\n",
              "      <th>2010-07-06</th>\n",
              "      <td>9743.62</td>\n",
              "      <td>1684.94</td>\n",
              "    </tr>\n",
              "    <tr>\n",
              "      <th>2010-07-07</th>\n",
              "      <td>10018.28</td>\n",
              "      <td>1675.65</td>\n",
              "    </tr>\n",
              "    <tr>\n",
              "      <th>...</th>\n",
              "      <td>...</td>\n",
              "      <td>...</td>\n",
              "    </tr>\n",
              "    <tr>\n",
              "      <th>2021-07-19</th>\n",
              "      <td>33963.29</td>\n",
              "      <td>3244.04</td>\n",
              "    </tr>\n",
              "    <tr>\n",
              "      <th>2021-07-20</th>\n",
              "      <td>34511.86</td>\n",
              "      <td>3232.70</td>\n",
              "    </tr>\n",
              "    <tr>\n",
              "      <th>2021-07-21</th>\n",
              "      <td>34797.74</td>\n",
              "      <td>3215.91</td>\n",
              "    </tr>\n",
              "    <tr>\n",
              "      <th>2021-07-22</th>\n",
              "      <td>34822.75</td>\n",
              "      <td>3250.21</td>\n",
              "    </tr>\n",
              "    <tr>\n",
              "      <th>2021-07-23</th>\n",
              "      <td>35061.69</td>\n",
              "      <td>3254.42</td>\n",
              "    </tr>\n",
              "  </tbody>\n",
              "</table>\n",
              "<p>2869 rows × 2 columns</p>\n",
              "</div>"
            ],
            "text/plain": [
              "                 DOW    KOSPI\n",
              "Date                         \n",
              "2010-07-01   9732.53  1686.24\n",
              "2010-07-02   9686.48  1671.82\n",
              "2010-07-05   9743.62  1675.37\n",
              "2010-07-06   9743.62  1684.94\n",
              "2010-07-07  10018.28  1675.65\n",
              "...              ...      ...\n",
              "2021-07-19  33963.29  3244.04\n",
              "2021-07-20  34511.86  3232.70\n",
              "2021-07-21  34797.74  3215.91\n",
              "2021-07-22  34822.75  3250.21\n",
              "2021-07-23  35061.69  3254.42\n",
              "\n",
              "[2869 rows x 2 columns]"
            ]
          },
          "metadata": {
            "tags": []
          },
          "execution_count": 26
        }
      ]
    },
    {
      "cell_type": "code",
      "metadata": {
        "colab": {
          "base_uri": "https://localhost:8080/",
          "height": 267
        },
        "id": "Nl-vOYSNynir",
        "outputId": "9b6e006c-8c14-434c-ec66-8bfaa98b8f37"
      },
      "source": [
        "col_name = ['DOW','KOSPI']\n",
        "\n",
        "# 레이블의 폰트 사이즈를 조정\n",
        "sns.set(font_scale=2.0)\n",
        "test_heatmap = sns.heatmap(corr.values, # 데이터\n",
        "                           cbar = True, # 오른쪽 컬러 막대 출력 여부\n",
        "                           annot = True, # 차트에 숫자를 보여줄 것인지 여부\n",
        "                           annot_kws={'size' : 20}, # 숫자 출력 시 숫자 크기 조절\n",
        "                           fmt = '.2f', # 숫자의 출력 소수점자리 개수 조절\n",
        "                           square = 'True', # 차트를 정사각형으로 할 것인지\n",
        "                           yticklabels=col_name, # y축에 컬럼명 출력\n",
        "                           xticklabels=col_name) # x축에 컬럼명 출력\n",
        "plt.tight_layout()\n",
        "plt.show()"
      ],
      "execution_count": 27,
      "outputs": [
        {
          "output_type": "display_data",
          "data": {
            "image/png": "[encoded data removed]",
            "text/plain": [
              "<Figure size 432x288 with 2 Axes>"
            ]
          },
          "metadata": {
            "tags": []
          }
        }
      ]
    },
    {
      "cell_type": "markdown",
      "metadata": {
        "id": "ANj_S5xDzzic"
      },
      "source": [
        "### pairplot"
      ]
    },
    {
      "cell_type": "code",
      "metadata": {
        "colab": {
          "base_uri": "https://localhost:8080/",
          "height": 372
        },
        "id": "Qk_45fWsze49",
        "outputId": "ce609662-7314-4802-b55d-b8b073ed53e7"
      },
      "source": [
        "sns.set(style='whitegrid')\n",
        "sns.pairplot(df)\n",
        "plt.show()"
      ],
      "execution_count": 28,
      "outputs": [
        {
          "output_type": "display_data",
          "data": {
            "image/png": "[encoded data removed]",
            "text/plain": [
              "<Figure size 360x360 with 6 Axes>"
            ]
          },
          "metadata": {
            "tags": []
          }
        }
      ]
    }
  ]
}